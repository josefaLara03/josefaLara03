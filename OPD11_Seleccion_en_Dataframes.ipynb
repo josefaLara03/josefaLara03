{
  "cells": [
    {
      "cell_type": "markdown",
      "metadata": {
        "id": "Hcao63aRkMQc"
      },
      "source": [
        "# **Obtención y preparación de datos**\n",
        "\n",
        "# OPD11. Selección en Dataframes\n",
        "\n",
        "Desde un punto de vista semántico, un dataframe puede ser considerado semejante a un diccionario de series, en el que las claves son los nombres de las columnas y los valores, las columnas (que son series pandas)."
      ]
    },
    {
      "cell_type": "code",
      "execution_count": 1,
      "metadata": {
        "id": "Stq_UTOM0gzw"
      },
      "outputs": [],
      "source": [
        "import pandas as pd\n",
        "import numpy as np"
      ]
    },
    {
      "cell_type": "code",
      "execution_count": 2,
      "metadata": {
        "id": "--MRqjFtkgJe"
      },
      "outputs": [
        {
          "data": {
            "text/html": [
              "<div>\n",
              "<style scoped>\n",
              "    .dataframe tbody tr th:only-of-type {\n",
              "        vertical-align: middle;\n",
              "    }\n",
              "\n",
              "    .dataframe tbody tr th {\n",
              "        vertical-align: top;\n",
              "    }\n",
              "\n",
              "    .dataframe thead th {\n",
              "        text-align: right;\n",
              "    }\n",
              "</style>\n",
              "<table border=\"1\" class=\"dataframe\">\n",
              "  <thead>\n",
              "    <tr style=\"text-align: right;\">\n",
              "      <th></th>\n",
              "      <th>Entradas</th>\n",
              "      <th>Salidas</th>\n",
              "      <th>Valoración</th>\n",
              "      <th>Límite</th>\n",
              "      <th>Cambio</th>\n",
              "    </tr>\n",
              "  </thead>\n",
              "  <tbody>\n",
              "    <tr>\n",
              "      <th>Ene</th>\n",
              "      <td>41</td>\n",
              "      <td>17</td>\n",
              "      <td>66</td>\n",
              "      <td>No</td>\n",
              "      <td>1.43</td>\n",
              "    </tr>\n",
              "    <tr>\n",
              "      <th>Feb</th>\n",
              "      <td>32</td>\n",
              "      <td>54</td>\n",
              "      <td>54</td>\n",
              "      <td>Sí</td>\n",
              "      <td>1.16</td>\n",
              "    </tr>\n",
              "    <tr>\n",
              "      <th>Mar</th>\n",
              "      <td>56</td>\n",
              "      <td>6</td>\n",
              "      <td>49</td>\n",
              "      <td>No</td>\n",
              "      <td>-0.67</td>\n",
              "    </tr>\n",
              "    <tr>\n",
              "      <th>Abr</th>\n",
              "      <td>18</td>\n",
              "      <td>78</td>\n",
              "      <td>66</td>\n",
              "      <td>No</td>\n",
              "      <td>0.77</td>\n",
              "    </tr>\n",
              "  </tbody>\n",
              "</table>\n",
              "</div>"
            ],
            "text/plain": [
              "     Entradas  Salidas  Valoración Límite  Cambio\n",
              "Ene        41       17          66     No    1.43\n",
              "Feb        32       54          54     Sí    1.16\n",
              "Mar        56        6          49     No   -0.67\n",
              "Abr        18       78          66     No    0.77"
            ]
          },
          "execution_count": 2,
          "metadata": {},
          "output_type": "execute_result"
        }
      ],
      "source": [
        "ventas = pd.DataFrame({\n",
        "    \"Entradas\": [41, 32, 56, 18],\n",
        "    \"Salidas\": [17, 54, 6, 78],\n",
        "    \"Valoración\": [66, 54, 49, 66],\n",
        "    \"Límite\": [\"No\", \"Sí\", \"No\", \"No\"],\n",
        "    \"Cambio\": [1.43, 1.16, -0.67, 0.77]\n",
        "},\n",
        "    index = [\"Ene\", \"Feb\", \"Mar\", \"Abr\"]\n",
        ")\n",
        "ventas"
      ]
    },
    {
      "cell_type": "markdown",
      "metadata": {
        "id": "gxNxaajblLGI"
      },
      "source": [
        "Es posible utilizar la sintaxis de los diccionarios para seleccionar la columna Entradas."
      ]
    },
    {
      "cell_type": "code",
      "execution_count": 3,
      "metadata": {
        "id": "WmwzZUeGlPYn"
      },
      "outputs": [
        {
          "name": "stdout",
          "output_type": "stream",
          "text": [
            "<class 'pandas.core.series.Series'>\n"
          ]
        }
      ],
      "source": [
        "print(type(ventas[\"Entradas\"]))"
      ]
    },
    {
      "cell_type": "code",
      "execution_count": 4,
      "metadata": {
        "id": "kYGk8Z29lUcD"
      },
      "outputs": [
        {
          "data": {
            "text/plain": [
              "Ene    41\n",
              "Feb    32\n",
              "Mar    56\n",
              "Abr    18\n",
              "Name: Entradas, dtype: int64"
            ]
          },
          "execution_count": 4,
          "metadata": {},
          "output_type": "execute_result"
        }
      ],
      "source": [
        "ventas[\"Entradas\"]"
      ]
    },
    {
      "cell_type": "markdown",
      "metadata": {
        "id": "2qosDX2HlYrS"
      },
      "source": [
        "Esto significa que podemos realizar una selección en dicho resultado para, por ejemplo, extraer el valor correspondiente a febrero."
      ]
    },
    {
      "cell_type": "code",
      "execution_count": 5,
      "metadata": {
        "id": "LiKLohbglcka"
      },
      "outputs": [
        {
          "data": {
            "text/plain": [
              "np.int64(32)"
            ]
          },
          "execution_count": 5,
          "metadata": {},
          "output_type": "execute_result"
        }
      ],
      "source": [
        "ventas[\"Entradas\"][\"Feb\"]"
      ]
    },
    {
      "cell_type": "markdown",
      "metadata": {
        "id": "OVrwsMmPltnQ"
      },
      "source": [
        "Usar comas para separar no funciona y por lo tanto nos entrega un error."
      ]
    },
    {
      "cell_type": "code",
      "execution_count": null,
      "metadata": {
        "id": "mYDeKwNOlq_B"
      },
      "outputs": [],
      "source": [
        "try:\n",
        "    # La separación por comas no funciona, nos entrega un error de llave\n",
        "    ventas[\"Entradas\", \"Feb\"]\n",
        "except Exception as e:\n",
        "    print(e.__doc__)\n",
        "    print(type(e).__name__)\n"
      ]
    },
    {
      "cell_type": "markdown",
      "metadata": {
        "id": "PPsx75RRlzhd"
      },
      "source": [
        "Si, una vez seleccionada una columna, le asignamos una lista o array (o serie) de valores de la misma longitud, estamos modificando dicha columna del dataframe."
      ]
    },
    {
      "cell_type": "code",
      "execution_count": 6,
      "metadata": {
        "id": "NHJfBXs6l1x6"
      },
      "outputs": [
        {
          "data": {
            "text/html": [
              "<div>\n",
              "<style scoped>\n",
              "    .dataframe tbody tr th:only-of-type {\n",
              "        vertical-align: middle;\n",
              "    }\n",
              "\n",
              "    .dataframe tbody tr th {\n",
              "        vertical-align: top;\n",
              "    }\n",
              "\n",
              "    .dataframe thead th {\n",
              "        text-align: right;\n",
              "    }\n",
              "</style>\n",
              "<table border=\"1\" class=\"dataframe\">\n",
              "  <thead>\n",
              "    <tr style=\"text-align: right;\">\n",
              "      <th></th>\n",
              "      <th>Entradas</th>\n",
              "      <th>Salidas</th>\n",
              "      <th>Valoración</th>\n",
              "      <th>Límite</th>\n",
              "      <th>Cambio</th>\n",
              "    </tr>\n",
              "  </thead>\n",
              "  <tbody>\n",
              "    <tr>\n",
              "      <th>Ene</th>\n",
              "      <td>33</td>\n",
              "      <td>17</td>\n",
              "      <td>66</td>\n",
              "      <td>No</td>\n",
              "      <td>1.43</td>\n",
              "    </tr>\n",
              "    <tr>\n",
              "      <th>Feb</th>\n",
              "      <td>25</td>\n",
              "      <td>54</td>\n",
              "      <td>54</td>\n",
              "      <td>Sí</td>\n",
              "      <td>1.16</td>\n",
              "    </tr>\n",
              "    <tr>\n",
              "      <th>Mar</th>\n",
              "      <td>40</td>\n",
              "      <td>6</td>\n",
              "      <td>49</td>\n",
              "      <td>No</td>\n",
              "      <td>-0.67</td>\n",
              "    </tr>\n",
              "    <tr>\n",
              "      <th>Abr</th>\n",
              "      <td>12</td>\n",
              "      <td>78</td>\n",
              "      <td>66</td>\n",
              "      <td>No</td>\n",
              "      <td>0.77</td>\n",
              "    </tr>\n",
              "  </tbody>\n",
              "</table>\n",
              "</div>"
            ],
            "text/plain": [
              "     Entradas  Salidas  Valoración Límite  Cambio\n",
              "Ene        33       17          66     No    1.43\n",
              "Feb        25       54          54     Sí    1.16\n",
              "Mar        40        6          49     No   -0.67\n",
              "Abr        12       78          66     No    0.77"
            ]
          },
          "execution_count": 6,
          "metadata": {},
          "output_type": "execute_result"
        }
      ],
      "source": [
        "ventas[\"Entradas\"] = [33, 25, 40, 12]\n",
        "ventas"
      ]
    },
    {
      "cell_type": "markdown",
      "metadata": {
        "id": "1R6BwI_2l_r0"
      },
      "source": [
        "Si asignamos un único valor escalar, este se propaga por toda la columna."
      ]
    },
    {
      "cell_type": "code",
      "execution_count": 8,
      "metadata": {
        "id": "eaEzVc-smA9G"
      },
      "outputs": [
        {
          "data": {
            "text/html": [
              "<div>\n",
              "<style scoped>\n",
              "    .dataframe tbody tr th:only-of-type {\n",
              "        vertical-align: middle;\n",
              "    }\n",
              "\n",
              "    .dataframe tbody tr th {\n",
              "        vertical-align: top;\n",
              "    }\n",
              "\n",
              "    .dataframe thead th {\n",
              "        text-align: right;\n",
              "    }\n",
              "</style>\n",
              "<table border=\"1\" class=\"dataframe\">\n",
              "  <thead>\n",
              "    <tr style=\"text-align: right;\">\n",
              "      <th></th>\n",
              "      <th>Entradas</th>\n",
              "      <th>Salidas</th>\n",
              "      <th>Valoración</th>\n",
              "      <th>Límite</th>\n",
              "      <th>Cambio</th>\n",
              "    </tr>\n",
              "  </thead>\n",
              "  <tbody>\n",
              "    <tr>\n",
              "      <th>Ene</th>\n",
              "      <td>33</td>\n",
              "      <td>1</td>\n",
              "      <td>66</td>\n",
              "      <td>No</td>\n",
              "      <td>1.43</td>\n",
              "    </tr>\n",
              "    <tr>\n",
              "      <th>Feb</th>\n",
              "      <td>25</td>\n",
              "      <td>1</td>\n",
              "      <td>54</td>\n",
              "      <td>Sí</td>\n",
              "      <td>1.16</td>\n",
              "    </tr>\n",
              "    <tr>\n",
              "      <th>Mar</th>\n",
              "      <td>40</td>\n",
              "      <td>1</td>\n",
              "      <td>49</td>\n",
              "      <td>No</td>\n",
              "      <td>-0.67</td>\n",
              "    </tr>\n",
              "    <tr>\n",
              "      <th>Abr</th>\n",
              "      <td>12</td>\n",
              "      <td>1</td>\n",
              "      <td>66</td>\n",
              "      <td>No</td>\n",
              "      <td>0.77</td>\n",
              "    </tr>\n",
              "  </tbody>\n",
              "</table>\n",
              "</div>"
            ],
            "text/plain": [
              "     Entradas  Salidas  Valoración Límite  Cambio\n",
              "Ene        33        1          66     No    1.43\n",
              "Feb        25        1          54     Sí    1.16\n",
              "Mar        40        1          49     No   -0.67\n",
              "Abr        12        1          66     No    0.77"
            ]
          },
          "execution_count": 8,
          "metadata": {},
          "output_type": "execute_result"
        }
      ],
      "source": [
        "ventas[\"Salidas\"] = 1\n",
        "ventas"
      ]
    },
    {
      "cell_type": "markdown",
      "metadata": {
        "id": "75j0Jku4mMIm"
      },
      "source": [
        "Si estuviésemos asignando un array cuya longitud no coincidiese con la de la columna (y no estuviésemos asignando un escalar), obtendríamos un error.\n",
        "\n",
        "Si asignamos una serie pandas se consideran los índices del dataframe y de la serie, haciendo coincidir los valores cuyos índices sean los mismos en ambas estructuras (si dicha columna no existe, se crea). En el caso de que haya valores en la serie con índices que no se encuentren en el dataframe, se descartan. Y en el caso de que haya índices en el dataframe que no se encuentren en la serie, se asigna un valor *NaN*.\n",
        "\n",
        "Así, en el siguiente ejemplo, estamos añadiendo una serie cuyos índices son \"Ene\", \"Mar\", \"Abr\" y \"May\". Es decir, la serie no tiene un valor para el índice \"Feb\" que sí se encuentra en el dataframe (se asigna un *NaN*), e incluye el índice \"May\" que no se encuentra en el dataframe y se descarta."
      ]
    },
    {
      "cell_type": "code",
      "execution_count": 9,
      "metadata": {
        "id": "nPiLhC68mczC"
      },
      "outputs": [
        {
          "data": {
            "text/html": [
              "<div>\n",
              "<style scoped>\n",
              "    .dataframe tbody tr th:only-of-type {\n",
              "        vertical-align: middle;\n",
              "    }\n",
              "\n",
              "    .dataframe tbody tr th {\n",
              "        vertical-align: top;\n",
              "    }\n",
              "\n",
              "    .dataframe thead th {\n",
              "        text-align: right;\n",
              "    }\n",
              "</style>\n",
              "<table border=\"1\" class=\"dataframe\">\n",
              "  <thead>\n",
              "    <tr style=\"text-align: right;\">\n",
              "      <th></th>\n",
              "      <th>Entradas</th>\n",
              "      <th>Salidas</th>\n",
              "      <th>Valoración</th>\n",
              "      <th>Límite</th>\n",
              "      <th>Cambio</th>\n",
              "      <th>Perdidas</th>\n",
              "    </tr>\n",
              "  </thead>\n",
              "  <tbody>\n",
              "    <tr>\n",
              "      <th>Ene</th>\n",
              "      <td>33</td>\n",
              "      <td>1</td>\n",
              "      <td>66</td>\n",
              "      <td>No</td>\n",
              "      <td>1.43</td>\n",
              "      <td>5.0</td>\n",
              "    </tr>\n",
              "    <tr>\n",
              "      <th>Feb</th>\n",
              "      <td>25</td>\n",
              "      <td>1</td>\n",
              "      <td>54</td>\n",
              "      <td>Sí</td>\n",
              "      <td>1.16</td>\n",
              "      <td>NaN</td>\n",
              "    </tr>\n",
              "    <tr>\n",
              "      <th>Mar</th>\n",
              "      <td>40</td>\n",
              "      <td>1</td>\n",
              "      <td>49</td>\n",
              "      <td>No</td>\n",
              "      <td>-0.67</td>\n",
              "      <td>4.0</td>\n",
              "    </tr>\n",
              "    <tr>\n",
              "      <th>Abr</th>\n",
              "      <td>12</td>\n",
              "      <td>1</td>\n",
              "      <td>66</td>\n",
              "      <td>No</td>\n",
              "      <td>0.77</td>\n",
              "      <td>6.0</td>\n",
              "    </tr>\n",
              "  </tbody>\n",
              "</table>\n",
              "</div>"
            ],
            "text/plain": [
              "     Entradas  Salidas  Valoración Límite  Cambio  Perdidas\n",
              "Ene        33        1          66     No    1.43       5.0\n",
              "Feb        25        1          54     Sí    1.16       NaN\n",
              "Mar        40        1          49     No   -0.67       4.0\n",
              "Abr        12        1          66     No    0.77       6.0"
            ]
          },
          "execution_count": 9,
          "metadata": {},
          "output_type": "execute_result"
        }
      ],
      "source": [
        "# Feb no existe en la serie, luego se completa con NaN\n",
        "# Mar no existe en el DataFrame, luego se descarta\n",
        "ventas[\"Perdidas\"] = pd.Series([5, 4, 6, 8], index = [\"Ene\", \"Mar\", \"Abr\", \"May\"])\n",
        "ventas"
      ]
    },
    {
      "cell_type": "markdown",
      "metadata": {
        "id": "M3a3g1DsmuBU"
      },
      "source": [
        "Los valores asignados pueden proceder del propio dataframe:"
      ]
    },
    {
      "cell_type": "code",
      "execution_count": 10,
      "metadata": {
        "id": "54VlA1nimuux"
      },
      "outputs": [
        {
          "data": {
            "text/html": [
              "<div>\n",
              "<style scoped>\n",
              "    .dataframe tbody tr th:only-of-type {\n",
              "        vertical-align: middle;\n",
              "    }\n",
              "\n",
              "    .dataframe tbody tr th {\n",
              "        vertical-align: top;\n",
              "    }\n",
              "\n",
              "    .dataframe thead th {\n",
              "        text-align: right;\n",
              "    }\n",
              "</style>\n",
              "<table border=\"1\" class=\"dataframe\">\n",
              "  <thead>\n",
              "    <tr style=\"text-align: right;\">\n",
              "      <th></th>\n",
              "      <th>Entradas</th>\n",
              "      <th>Salidas</th>\n",
              "      <th>Valoración</th>\n",
              "      <th>Límite</th>\n",
              "      <th>Cambio</th>\n",
              "      <th>Perdidas</th>\n",
              "      <th>Ganancias</th>\n",
              "    </tr>\n",
              "  </thead>\n",
              "  <tbody>\n",
              "    <tr>\n",
              "      <th>Ene</th>\n",
              "      <td>33</td>\n",
              "      <td>1</td>\n",
              "      <td>66</td>\n",
              "      <td>No</td>\n",
              "      <td>1.43</td>\n",
              "      <td>5.0</td>\n",
              "      <td>59.4</td>\n",
              "    </tr>\n",
              "    <tr>\n",
              "      <th>Feb</th>\n",
              "      <td>25</td>\n",
              "      <td>1</td>\n",
              "      <td>54</td>\n",
              "      <td>Sí</td>\n",
              "      <td>1.16</td>\n",
              "      <td>NaN</td>\n",
              "      <td>44.6</td>\n",
              "    </tr>\n",
              "    <tr>\n",
              "      <th>Mar</th>\n",
              "      <td>40</td>\n",
              "      <td>1</td>\n",
              "      <td>49</td>\n",
              "      <td>No</td>\n",
              "      <td>-0.67</td>\n",
              "      <td>4.0</td>\n",
              "      <td>75.1</td>\n",
              "    </tr>\n",
              "    <tr>\n",
              "      <th>Abr</th>\n",
              "      <td>12</td>\n",
              "      <td>1</td>\n",
              "      <td>66</td>\n",
              "      <td>No</td>\n",
              "      <td>0.77</td>\n",
              "      <td>6.0</td>\n",
              "      <td>17.4</td>\n",
              "    </tr>\n",
              "  </tbody>\n",
              "</table>\n",
              "</div>"
            ],
            "text/plain": [
              "     Entradas  Salidas  Valoración Límite  Cambio  Perdidas  Ganancias\n",
              "Ene        33        1          66     No    1.43       5.0       59.4\n",
              "Feb        25        1          54     Sí    1.16       NaN       44.6\n",
              "Mar        40        1          49     No   -0.67       4.0       75.1\n",
              "Abr        12        1          66     No    0.77       6.0       17.4"
            ]
          },
          "execution_count": 10,
          "metadata": {},
          "output_type": "execute_result"
        }
      ],
      "source": [
        "ventas[\"Ganancias\"] = (ventas[\"Entradas\"]*2) - (ventas[\"Valoración\"]/10)\n",
        "ventas"
      ]
    },
    {
      "cell_type": "markdown",
      "metadata": {
        "id": "OKz5i7v3nBVU"
      },
      "source": [
        "También podemos acceder a una columna con la llamada \"notación punto\"."
      ]
    },
    {
      "cell_type": "code",
      "execution_count": 11,
      "metadata": {
        "id": "YfFBIJgqnCy1"
      },
      "outputs": [
        {
          "data": {
            "text/html": [
              "<div>\n",
              "<style scoped>\n",
              "    .dataframe tbody tr th:only-of-type {\n",
              "        vertical-align: middle;\n",
              "    }\n",
              "\n",
              "    .dataframe tbody tr th {\n",
              "        vertical-align: top;\n",
              "    }\n",
              "\n",
              "    .dataframe thead th {\n",
              "        text-align: right;\n",
              "    }\n",
              "</style>\n",
              "<table border=\"1\" class=\"dataframe\">\n",
              "  <thead>\n",
              "    <tr style=\"text-align: right;\">\n",
              "      <th></th>\n",
              "      <th>Entradas</th>\n",
              "      <th>Salidas</th>\n",
              "      <th>Valoración</th>\n",
              "      <th>Límite</th>\n",
              "      <th>Cambio</th>\n",
              "      <th>Perdidas</th>\n",
              "      <th>Ganancias</th>\n",
              "    </tr>\n",
              "  </thead>\n",
              "  <tbody>\n",
              "    <tr>\n",
              "      <th>Ene</th>\n",
              "      <td>33</td>\n",
              "      <td>1</td>\n",
              "      <td>66</td>\n",
              "      <td>No</td>\n",
              "      <td>1.43</td>\n",
              "      <td>5.0</td>\n",
              "      <td>1</td>\n",
              "    </tr>\n",
              "    <tr>\n",
              "      <th>Feb</th>\n",
              "      <td>25</td>\n",
              "      <td>1</td>\n",
              "      <td>54</td>\n",
              "      <td>Sí</td>\n",
              "      <td>1.16</td>\n",
              "      <td>NaN</td>\n",
              "      <td>1</td>\n",
              "    </tr>\n",
              "    <tr>\n",
              "      <th>Mar</th>\n",
              "      <td>40</td>\n",
              "      <td>1</td>\n",
              "      <td>49</td>\n",
              "      <td>No</td>\n",
              "      <td>-0.67</td>\n",
              "      <td>4.0</td>\n",
              "      <td>1</td>\n",
              "    </tr>\n",
              "    <tr>\n",
              "      <th>Abr</th>\n",
              "      <td>12</td>\n",
              "      <td>1</td>\n",
              "      <td>66</td>\n",
              "      <td>No</td>\n",
              "      <td>0.77</td>\n",
              "      <td>6.0</td>\n",
              "      <td>1</td>\n",
              "    </tr>\n",
              "  </tbody>\n",
              "</table>\n",
              "</div>"
            ],
            "text/plain": [
              "     Entradas  Salidas  Valoración Límite  Cambio  Perdidas  Ganancias\n",
              "Ene        33        1          66     No    1.43       5.0          1\n",
              "Feb        25        1          54     Sí    1.16       NaN          1\n",
              "Mar        40        1          49     No   -0.67       4.0          1\n",
              "Abr        12        1          66     No    0.77       6.0          1"
            ]
          },
          "execution_count": 11,
          "metadata": {},
          "output_type": "execute_result"
        }
      ],
      "source": [
        "ventas.Ganancias = 1\n",
        "ventas"
      ]
    },
    {
      "cell_type": "markdown",
      "metadata": {
        "id": "nPlqClZloCz_"
      },
      "source": [
        "Deberemos tener en cuenta que con esta notación no es posible crear nuevas columnas ni eliminarlas y que solo funcionará si el nombre de la columna no incluye espacios en blanco y no coincide con ninguna palabra reservada de Python."
      ]
    },
    {
      "cell_type": "markdown",
      "metadata": {
        "id": "4pSsmKPvoNSF"
      },
      "source": [
        "El uso de un rango numérico entre los corchetes realiza una selección de filas, lo que puede parecer una cierta incoherencia."
      ]
    },
    {
      "cell_type": "code",
      "execution_count": 12,
      "metadata": {
        "id": "tDo155_OoRhb"
      },
      "outputs": [
        {
          "data": {
            "text/html": [
              "<div>\n",
              "<style scoped>\n",
              "    .dataframe tbody tr th:only-of-type {\n",
              "        vertical-align: middle;\n",
              "    }\n",
              "\n",
              "    .dataframe tbody tr th {\n",
              "        vertical-align: top;\n",
              "    }\n",
              "\n",
              "    .dataframe thead th {\n",
              "        text-align: right;\n",
              "    }\n",
              "</style>\n",
              "<table border=\"1\" class=\"dataframe\">\n",
              "  <thead>\n",
              "    <tr style=\"text-align: right;\">\n",
              "      <th></th>\n",
              "      <th>A</th>\n",
              "      <th>B</th>\n",
              "      <th>C</th>\n",
              "    </tr>\n",
              "  </thead>\n",
              "  <tbody>\n",
              "    <tr>\n",
              "      <th>a</th>\n",
              "      <td>0</td>\n",
              "      <td>1</td>\n",
              "      <td>2</td>\n",
              "    </tr>\n",
              "    <tr>\n",
              "      <th>b</th>\n",
              "      <td>3</td>\n",
              "      <td>4</td>\n",
              "      <td>5</td>\n",
              "    </tr>\n",
              "    <tr>\n",
              "      <th>c</th>\n",
              "      <td>6</td>\n",
              "      <td>7</td>\n",
              "      <td>8</td>\n",
              "    </tr>\n",
              "    <tr>\n",
              "      <th>d</th>\n",
              "      <td>9</td>\n",
              "      <td>10</td>\n",
              "      <td>11</td>\n",
              "    </tr>\n",
              "    <tr>\n",
              "      <th>e</th>\n",
              "      <td>12</td>\n",
              "      <td>13</td>\n",
              "      <td>14</td>\n",
              "    </tr>\n",
              "    <tr>\n",
              "      <th>f</th>\n",
              "      <td>15</td>\n",
              "      <td>16</td>\n",
              "      <td>17</td>\n",
              "    </tr>\n",
              "  </tbody>\n",
              "</table>\n",
              "</div>"
            ],
            "text/plain": [
              "    A   B   C\n",
              "a   0   1   2\n",
              "b   3   4   5\n",
              "c   6   7   8\n",
              "d   9  10  11\n",
              "e  12  13  14\n",
              "f  15  16  17"
            ]
          },
          "execution_count": 12,
          "metadata": {},
          "output_type": "execute_result"
        }
      ],
      "source": [
        "import numpy as np\n",
        "df = pd.DataFrame(np.arange(18).reshape([6, 3]),\n",
        "                  index = [\"a\", \"b\", \"c\", \"d\", \"e\", \"f\"],\n",
        "                  columns = [\"A\", \"B\", \"C\"])\n",
        "df"
      ]
    },
    {
      "cell_type": "code",
      "execution_count": 13,
      "metadata": {
        "id": "mV8QRetSpSEp"
      },
      "outputs": [
        {
          "data": {
            "text/html": [
              "<div>\n",
              "<style scoped>\n",
              "    .dataframe tbody tr th:only-of-type {\n",
              "        vertical-align: middle;\n",
              "    }\n",
              "\n",
              "    .dataframe tbody tr th {\n",
              "        vertical-align: top;\n",
              "    }\n",
              "\n",
              "    .dataframe thead th {\n",
              "        text-align: right;\n",
              "    }\n",
              "</style>\n",
              "<table border=\"1\" class=\"dataframe\">\n",
              "  <thead>\n",
              "    <tr style=\"text-align: right;\">\n",
              "      <th></th>\n",
              "      <th>A</th>\n",
              "      <th>B</th>\n",
              "      <th>C</th>\n",
              "    </tr>\n",
              "  </thead>\n",
              "  <tbody>\n",
              "    <tr>\n",
              "      <th>c</th>\n",
              "      <td>6</td>\n",
              "      <td>7</td>\n",
              "      <td>8</td>\n",
              "    </tr>\n",
              "    <tr>\n",
              "      <th>d</th>\n",
              "      <td>9</td>\n",
              "      <td>10</td>\n",
              "      <td>11</td>\n",
              "    </tr>\n",
              "    <tr>\n",
              "      <th>e</th>\n",
              "      <td>12</td>\n",
              "      <td>13</td>\n",
              "      <td>14</td>\n",
              "    </tr>\n",
              "  </tbody>\n",
              "</table>\n",
              "</div>"
            ],
            "text/plain": [
              "    A   B   C\n",
              "c   6   7   8\n",
              "d   9  10  11\n",
              "e  12  13  14"
            ]
          },
          "execution_count": 13,
          "metadata": {},
          "output_type": "execute_result"
        }
      ],
      "source": [
        "df[2:5]"
      ]
    },
    {
      "cell_type": "markdown",
      "metadata": {
        "id": "wGuTyhHbpYKH"
      },
      "source": [
        "El equipo de pandas lo justifica diciendo que esta sintaxis resulta extremadamente conveniente al tratarse de un tipo de selección frecuentemente usada. Esto es cierto, pero el hecho de que selecciones aparentemente semejantes (`df[1,2]`, `df[[1, 2]]`, `df[1:3, 5]`, etc.) devuelvan un error no facilita su comprensión.\n",
        "\n",
        "Se devuelven las filas entre el primer valor del rango (incluido) y el último (sin incluir). También podríamos haber usado las etiquetas del índice."
      ]
    },
    {
      "cell_type": "code",
      "execution_count": 14,
      "metadata": {
        "id": "ejMekqvqphPE"
      },
      "outputs": [
        {
          "data": {
            "text/html": [
              "<div>\n",
              "<style scoped>\n",
              "    .dataframe tbody tr th:only-of-type {\n",
              "        vertical-align: middle;\n",
              "    }\n",
              "\n",
              "    .dataframe tbody tr th {\n",
              "        vertical-align: top;\n",
              "    }\n",
              "\n",
              "    .dataframe thead th {\n",
              "        text-align: right;\n",
              "    }\n",
              "</style>\n",
              "<table border=\"1\" class=\"dataframe\">\n",
              "  <thead>\n",
              "    <tr style=\"text-align: right;\">\n",
              "      <th></th>\n",
              "      <th>A</th>\n",
              "      <th>B</th>\n",
              "      <th>C</th>\n",
              "    </tr>\n",
              "  </thead>\n",
              "  <tbody>\n",
              "    <tr>\n",
              "      <th>b</th>\n",
              "      <td>3</td>\n",
              "      <td>4</td>\n",
              "      <td>5</td>\n",
              "    </tr>\n",
              "    <tr>\n",
              "      <th>c</th>\n",
              "      <td>6</td>\n",
              "      <td>7</td>\n",
              "      <td>8</td>\n",
              "    </tr>\n",
              "    <tr>\n",
              "      <th>d</th>\n",
              "      <td>9</td>\n",
              "      <td>10</td>\n",
              "      <td>11</td>\n",
              "    </tr>\n",
              "  </tbody>\n",
              "</table>\n",
              "</div>"
            ],
            "text/plain": [
              "   A   B   C\n",
              "b  3   4   5\n",
              "c  6   7   8\n",
              "d  9  10  11"
            ]
          },
          "execution_count": 14,
          "metadata": {},
          "output_type": "execute_result"
        }
      ],
      "source": [
        "df[\"b\":\"d\"]"
      ]
    },
    {
      "cell_type": "code",
      "execution_count": 15,
      "metadata": {
        "id": "rX7BQb2Tppor"
      },
      "outputs": [
        {
          "data": {
            "text/html": [
              "<div>\n",
              "<style scoped>\n",
              "    .dataframe tbody tr th:only-of-type {\n",
              "        vertical-align: middle;\n",
              "    }\n",
              "\n",
              "    .dataframe tbody tr th {\n",
              "        vertical-align: top;\n",
              "    }\n",
              "\n",
              "    .dataframe thead th {\n",
              "        text-align: right;\n",
              "    }\n",
              "</style>\n",
              "<table border=\"1\" class=\"dataframe\">\n",
              "  <thead>\n",
              "    <tr style=\"text-align: right;\">\n",
              "      <th></th>\n",
              "      <th>A</th>\n",
              "      <th>B</th>\n",
              "      <th>C</th>\n",
              "    </tr>\n",
              "  </thead>\n",
              "  <tbody>\n",
              "    <tr>\n",
              "      <th>a</th>\n",
              "      <td>0</td>\n",
              "      <td>1</td>\n",
              "      <td>2</td>\n",
              "    </tr>\n",
              "    <tr>\n",
              "      <th>b</th>\n",
              "      <td>3</td>\n",
              "      <td>4</td>\n",
              "      <td>5</td>\n",
              "    </tr>\n",
              "    <tr>\n",
              "      <th>c</th>\n",
              "      <td>6</td>\n",
              "      <td>7</td>\n",
              "      <td>8</td>\n",
              "    </tr>\n",
              "  </tbody>\n",
              "</table>\n",
              "</div>"
            ],
            "text/plain": [
              "   A  B  C\n",
              "a  0  1  2\n",
              "b  3  4  5\n",
              "c  6  7  8"
            ]
          },
          "execution_count": 15,
          "metadata": {},
          "output_type": "execute_result"
        }
      ],
      "source": [
        "df[:3]"
      ]
    },
    {
      "cell_type": "code",
      "execution_count": 16,
      "metadata": {
        "id": "pin4XI5Bp4Eq"
      },
      "outputs": [
        {
          "data": {
            "text/html": [
              "<div>\n",
              "<style scoped>\n",
              "    .dataframe tbody tr th:only-of-type {\n",
              "        vertical-align: middle;\n",
              "    }\n",
              "\n",
              "    .dataframe tbody tr th {\n",
              "        vertical-align: top;\n",
              "    }\n",
              "\n",
              "    .dataframe thead th {\n",
              "        text-align: right;\n",
              "    }\n",
              "</style>\n",
              "<table border=\"1\" class=\"dataframe\">\n",
              "  <thead>\n",
              "    <tr style=\"text-align: right;\">\n",
              "      <th></th>\n",
              "      <th>A</th>\n",
              "      <th>B</th>\n",
              "      <th>C</th>\n",
              "    </tr>\n",
              "  </thead>\n",
              "  <tbody>\n",
              "    <tr>\n",
              "      <th>a</th>\n",
              "      <td>0</td>\n",
              "      <td>1</td>\n",
              "      <td>2</td>\n",
              "    </tr>\n",
              "    <tr>\n",
              "      <th>b</th>\n",
              "      <td>3</td>\n",
              "      <td>4</td>\n",
              "      <td>5</td>\n",
              "    </tr>\n",
              "    <tr>\n",
              "      <th>c</th>\n",
              "      <td>6</td>\n",
              "      <td>7</td>\n",
              "      <td>8</td>\n",
              "    </tr>\n",
              "  </tbody>\n",
              "</table>\n",
              "</div>"
            ],
            "text/plain": [
              "   A  B  C\n",
              "a  0  1  2\n",
              "b  3  4  5\n",
              "c  6  7  8"
            ]
          },
          "execution_count": 16,
          "metadata": {},
          "output_type": "execute_result"
        }
      ],
      "source": [
        "df[:\"c\"]"
      ]
    },
    {
      "cell_type": "markdown",
      "metadata": {
        "id": "AIYmlWG5qCfX"
      },
      "source": [
        "Al situar entre los corchetes una __lista de etiquetas__, estaremos seleccionando columnas en el orden en el que aparecen en la lista y con formato dataframe:"
      ]
    },
    {
      "cell_type": "code",
      "execution_count": 17,
      "metadata": {
        "id": "V-HM3dy3GhcB"
      },
      "outputs": [
        {
          "data": {
            "text/html": [
              "<div>\n",
              "<style scoped>\n",
              "    .dataframe tbody tr th:only-of-type {\n",
              "        vertical-align: middle;\n",
              "    }\n",
              "\n",
              "    .dataframe tbody tr th {\n",
              "        vertical-align: top;\n",
              "    }\n",
              "\n",
              "    .dataframe thead th {\n",
              "        text-align: right;\n",
              "    }\n",
              "</style>\n",
              "<table border=\"1\" class=\"dataframe\">\n",
              "  <thead>\n",
              "    <tr style=\"text-align: right;\">\n",
              "      <th></th>\n",
              "      <th>A</th>\n",
              "      <th>B</th>\n",
              "      <th>C</th>\n",
              "    </tr>\n",
              "  </thead>\n",
              "  <tbody>\n",
              "    <tr>\n",
              "      <th>a</th>\n",
              "      <td>0</td>\n",
              "      <td>1</td>\n",
              "      <td>2</td>\n",
              "    </tr>\n",
              "    <tr>\n",
              "      <th>b</th>\n",
              "      <td>3</td>\n",
              "      <td>4</td>\n",
              "      <td>5</td>\n",
              "    </tr>\n",
              "    <tr>\n",
              "      <th>c</th>\n",
              "      <td>6</td>\n",
              "      <td>7</td>\n",
              "      <td>8</td>\n",
              "    </tr>\n",
              "    <tr>\n",
              "      <th>d</th>\n",
              "      <td>9</td>\n",
              "      <td>10</td>\n",
              "      <td>11</td>\n",
              "    </tr>\n",
              "    <tr>\n",
              "      <th>e</th>\n",
              "      <td>12</td>\n",
              "      <td>13</td>\n",
              "      <td>14</td>\n",
              "    </tr>\n",
              "    <tr>\n",
              "      <th>f</th>\n",
              "      <td>15</td>\n",
              "      <td>16</td>\n",
              "      <td>17</td>\n",
              "    </tr>\n",
              "  </tbody>\n",
              "</table>\n",
              "</div>"
            ],
            "text/plain": [
              "    A   B   C\n",
              "a   0   1   2\n",
              "b   3   4   5\n",
              "c   6   7   8\n",
              "d   9  10  11\n",
              "e  12  13  14\n",
              "f  15  16  17"
            ]
          },
          "execution_count": 17,
          "metadata": {},
          "output_type": "execute_result"
        }
      ],
      "source": [
        "df = pd.DataFrame(np.arange(18).reshape([6, 3]),\n",
        "                  index = [\"a\", \"b\", \"c\", \"d\", \"e\", \"f\"],\n",
        "                  columns = [\"A\", \"B\", \"C\"])\n",
        "df"
      ]
    },
    {
      "cell_type": "code",
      "execution_count": 18,
      "metadata": {
        "id": "NfcbkAGYHT1S"
      },
      "outputs": [
        {
          "name": "stdout",
          "output_type": "stream",
          "text": [
            "<class 'pandas.core.frame.DataFrame'>\n"
          ]
        },
        {
          "data": {
            "text/html": [
              "<div>\n",
              "<style scoped>\n",
              "    .dataframe tbody tr th:only-of-type {\n",
              "        vertical-align: middle;\n",
              "    }\n",
              "\n",
              "    .dataframe tbody tr th {\n",
              "        vertical-align: top;\n",
              "    }\n",
              "\n",
              "    .dataframe thead th {\n",
              "        text-align: right;\n",
              "    }\n",
              "</style>\n",
              "<table border=\"1\" class=\"dataframe\">\n",
              "  <thead>\n",
              "    <tr style=\"text-align: right;\">\n",
              "      <th></th>\n",
              "      <th>C</th>\n",
              "      <th>A</th>\n",
              "    </tr>\n",
              "  </thead>\n",
              "  <tbody>\n",
              "    <tr>\n",
              "      <th>a</th>\n",
              "      <td>2</td>\n",
              "      <td>0</td>\n",
              "    </tr>\n",
              "    <tr>\n",
              "      <th>b</th>\n",
              "      <td>5</td>\n",
              "      <td>3</td>\n",
              "    </tr>\n",
              "    <tr>\n",
              "      <th>c</th>\n",
              "      <td>8</td>\n",
              "      <td>6</td>\n",
              "    </tr>\n",
              "    <tr>\n",
              "      <th>d</th>\n",
              "      <td>11</td>\n",
              "      <td>9</td>\n",
              "    </tr>\n",
              "    <tr>\n",
              "      <th>e</th>\n",
              "      <td>14</td>\n",
              "      <td>12</td>\n",
              "    </tr>\n",
              "    <tr>\n",
              "      <th>f</th>\n",
              "      <td>17</td>\n",
              "      <td>15</td>\n",
              "    </tr>\n",
              "  </tbody>\n",
              "</table>\n",
              "</div>"
            ],
            "text/plain": [
              "    C   A\n",
              "a   2   0\n",
              "b   5   3\n",
              "c   8   6\n",
              "d  11   9\n",
              "e  14  12\n",
              "f  17  15"
            ]
          },
          "execution_count": 18,
          "metadata": {},
          "output_type": "execute_result"
        }
      ],
      "source": [
        "# Noten los dobles corchetes. El interior representa una lista\n",
        "print(type(df[[\"C\", \"A\"]]))\n",
        "df[[\"C\", \"A\"]]"
      ]
    },
    {
      "cell_type": "markdown",
      "metadata": {
        "id": "CSr0G5M7Hihn"
      },
      "source": [
        "También es posible extraer de forma segura una columna de un dataframe usando el método `pandas.DataFrame.get`. Éste extrae la columna indicada devolviendo un valor alternativo (por defecto `None`) si dicha columna no existe."
      ]
    },
    {
      "cell_type": "code",
      "execution_count": null,
      "metadata": {
        "id": "dWuZnRovHovE"
      },
      "outputs": [],
      "source": [
        "df = pd.DataFrame(np.arange(18).reshape([6, 3]),\n",
        "                  index = [\"a\", \"b\", \"c\", \"d\", \"e\", \"f\"],\n",
        "                  columns = [\"A\", \"B\", \"C\"])\n",
        "df.get(\"A\")"
      ]
    },
    {
      "cell_type": "code",
      "execution_count": null,
      "metadata": {
        "id": "sJa5yRB2HvHM"
      },
      "outputs": [],
      "source": [
        "df.get(\"D\")"
      ]
    },
    {
      "cell_type": "markdown",
      "metadata": {
        "id": "MigKg7VXH0L6"
      },
      "source": [
        "Al igual que ocurre con las series, el método `pandas.DataFrame.loc` permite seleccionar un conjunto de filas y columnas por etiquetas. Este método acepta diferentes argumentos."
      ]
    },
    {
      "cell_type": "code",
      "execution_count": 19,
      "metadata": {
        "id": "H7o6W0f4H8Re"
      },
      "outputs": [
        {
          "data": {
            "text/html": [
              "<div>\n",
              "<style scoped>\n",
              "    .dataframe tbody tr th:only-of-type {\n",
              "        vertical-align: middle;\n",
              "    }\n",
              "\n",
              "    .dataframe tbody tr th {\n",
              "        vertical-align: top;\n",
              "    }\n",
              "\n",
              "    .dataframe thead th {\n",
              "        text-align: right;\n",
              "    }\n",
              "</style>\n",
              "<table border=\"1\" class=\"dataframe\">\n",
              "  <thead>\n",
              "    <tr style=\"text-align: right;\">\n",
              "      <th></th>\n",
              "      <th>A</th>\n",
              "      <th>B</th>\n",
              "      <th>C</th>\n",
              "    </tr>\n",
              "  </thead>\n",
              "  <tbody>\n",
              "    <tr>\n",
              "      <th>a</th>\n",
              "      <td>0</td>\n",
              "      <td>1</td>\n",
              "      <td>2</td>\n",
              "    </tr>\n",
              "    <tr>\n",
              "      <th>b</th>\n",
              "      <td>3</td>\n",
              "      <td>4</td>\n",
              "      <td>5</td>\n",
              "    </tr>\n",
              "    <tr>\n",
              "      <th>c</th>\n",
              "      <td>6</td>\n",
              "      <td>7</td>\n",
              "      <td>8</td>\n",
              "    </tr>\n",
              "    <tr>\n",
              "      <th>d</th>\n",
              "      <td>9</td>\n",
              "      <td>10</td>\n",
              "      <td>11</td>\n",
              "    </tr>\n",
              "    <tr>\n",
              "      <th>e</th>\n",
              "      <td>12</td>\n",
              "      <td>13</td>\n",
              "      <td>14</td>\n",
              "    </tr>\n",
              "    <tr>\n",
              "      <th>f</th>\n",
              "      <td>15</td>\n",
              "      <td>16</td>\n",
              "      <td>17</td>\n",
              "    </tr>\n",
              "  </tbody>\n",
              "</table>\n",
              "</div>"
            ],
            "text/plain": [
              "    A   B   C\n",
              "a   0   1   2\n",
              "b   3   4   5\n",
              "c   6   7   8\n",
              "d   9  10  11\n",
              "e  12  13  14\n",
              "f  15  16  17"
            ]
          },
          "execution_count": 19,
          "metadata": {},
          "output_type": "execute_result"
        }
      ],
      "source": [
        "df = pd.DataFrame(np.arange(18).reshape([6, 3]),\n",
        "                  index = [\"a\", \"b\", \"c\", \"d\", \"e\", \"f\"],\n",
        "                  columns = [\"A\", \"B\", \"C\"])\n",
        "df"
      ]
    },
    {
      "cell_type": "code",
      "execution_count": 20,
      "metadata": {
        "id": "xYTwJLVENu7p"
      },
      "outputs": [
        {
          "data": {
            "text/plain": [
              "A    6\n",
              "B    7\n",
              "C    8\n",
              "Name: c, dtype: int64"
            ]
          },
          "execution_count": 20,
          "metadata": {},
          "output_type": "execute_result"
        }
      ],
      "source": [
        "df.loc[\"c\"]"
      ]
    },
    {
      "cell_type": "markdown",
      "metadata": {
        "id": "FwLQN2kkKSlR"
      },
      "source": [
        "El resultado es una serie pandas con las etiquetas de columnas del dataframe original como índice.\n",
        "\n",
        "Es necesario mencionar que el argumento será siempre interpretado como etiqueta, aun cuando pueda estar representando un índice válido."
      ]
    },
    {
      "cell_type": "code",
      "execution_count": 21,
      "metadata": {
        "id": "Pc20_Im1KYs6"
      },
      "outputs": [
        {
          "data": {
            "text/html": [
              "<div>\n",
              "<style scoped>\n",
              "    .dataframe tbody tr th:only-of-type {\n",
              "        vertical-align: middle;\n",
              "    }\n",
              "\n",
              "    .dataframe tbody tr th {\n",
              "        vertical-align: top;\n",
              "    }\n",
              "\n",
              "    .dataframe thead th {\n",
              "        text-align: right;\n",
              "    }\n",
              "</style>\n",
              "<table border=\"1\" class=\"dataframe\">\n",
              "  <thead>\n",
              "    <tr style=\"text-align: right;\">\n",
              "      <th></th>\n",
              "      <th>A</th>\n",
              "      <th>B</th>\n",
              "      <th>C</th>\n",
              "    </tr>\n",
              "  </thead>\n",
              "  <tbody>\n",
              "    <tr>\n",
              "      <th>1</th>\n",
              "      <td>0</td>\n",
              "      <td>1</td>\n",
              "      <td>2</td>\n",
              "    </tr>\n",
              "    <tr>\n",
              "      <th>3</th>\n",
              "      <td>3</td>\n",
              "      <td>4</td>\n",
              "      <td>5</td>\n",
              "    </tr>\n",
              "    <tr>\n",
              "      <th>0</th>\n",
              "      <td>6</td>\n",
              "      <td>7</td>\n",
              "      <td>8</td>\n",
              "    </tr>\n",
              "    <tr>\n",
              "      <th>4</th>\n",
              "      <td>9</td>\n",
              "      <td>10</td>\n",
              "      <td>11</td>\n",
              "    </tr>\n",
              "  </tbody>\n",
              "</table>\n",
              "</div>"
            ],
            "text/plain": [
              "   A   B   C\n",
              "1  0   1   2\n",
              "3  3   4   5\n",
              "0  6   7   8\n",
              "4  9  10  11"
            ]
          },
          "execution_count": 21,
          "metadata": {},
          "output_type": "execute_result"
        }
      ],
      "source": [
        "df = pd.DataFrame(np.arange(12).reshape([4, 3]),\n",
        "                  index = [1, 3, 0, 4],\n",
        "                  columns = [\"A\", \"B\", \"C\"])\n",
        "df"
      ]
    },
    {
      "cell_type": "code",
      "execution_count": null,
      "metadata": {
        "id": "_IIsqYdpN7g2"
      },
      "outputs": [],
      "source": [
        "# No es el índice cero, es la etiqueta 0\n",
        "df.loc[0]"
      ]
    },
    {
      "cell_type": "markdown",
      "metadata": {
        "id": "8lGAU0D5Kx37"
      },
      "source": [
        "Si la etiqueta no existe, se devuelve un error (nuevamente, aun cuando la etiqueta sea un número que pueda estar representando un índice válido)."
      ]
    },
    {
      "cell_type": "code",
      "execution_count": null,
      "metadata": {
        "id": "hVy8U2EAlNOu"
      },
      "outputs": [],
      "source": [
        "try:\n",
        "    df.loc[5]\n",
        "except Exception as e:\n",
        "    print(e.__doc__)\n",
        "    print(type(e).__name__)"
      ]
    },
    {
      "cell_type": "markdown",
      "metadata": {
        "id": "myQGF6zEK3FO"
      },
      "source": [
        "Si pasamos a `loc` una __lista de etiquetas__, estaremos extrayendo las filas cuyas etiquetas se indican, y en el orden en el que aparezcan en la lista."
      ]
    },
    {
      "cell_type": "code",
      "execution_count": null,
      "metadata": {
        "id": "ZDjHj9JYLAVr"
      },
      "outputs": [],
      "source": [
        "df = pd.DataFrame(np.arange(18).reshape([6, 3]),\n",
        "                  index = [\"a\", \"b\", \"c\", \"d\", \"e\", \"f\"],\n",
        "                  columns = [\"A\", \"B\", \"C\"])\n",
        "df"
      ]
    },
    {
      "cell_type": "code",
      "execution_count": null,
      "metadata": {
        "id": "SoIK9U1bMS8Y"
      },
      "outputs": [],
      "source": [
        "df.loc[[\"c\", \"a\", \"e\"]]"
      ]
    },
    {
      "cell_type": "markdown",
      "metadata": {
        "id": "HKjXMDUCLIIl"
      },
      "source": [
        "Al contrario de lo que ocurre cuando solo indicamos una etiqueta, el resultado es un dataframe. Y lo es aún cuando la lista contenga un único elemento."
      ]
    },
    {
      "cell_type": "code",
      "execution_count": null,
      "metadata": {
        "id": "QyRlXGrTLLHn"
      },
      "outputs": [],
      "source": [
        "print(type(df.loc[[\"c\"]]))\n",
        "df.loc[[\"c\"]]"
      ]
    },
    {
      "cell_type": "code",
      "execution_count": null,
      "metadata": {
        "id": "jn-HTJpzxgJ2"
      },
      "outputs": [],
      "source": [
        "print(type(df.loc[\"c\"]))\n",
        "df.loc[\"c\"]"
      ]
    },
    {
      "cell_type": "markdown",
      "metadata": {
        "id": "irtA5RVMLTPR"
      },
      "source": [
        "Otra opción es utilizar rangos limitados por etiquetas."
      ]
    },
    {
      "cell_type": "code",
      "execution_count": null,
      "metadata": {
        "id": "8FGPIAsILWjI"
      },
      "outputs": [],
      "source": [
        "df.loc[\"b\":\"d\"]"
      ]
    },
    {
      "cell_type": "markdown",
      "metadata": {
        "id": "js70sG6wLcJB"
      },
      "source": [
        "Obsérvese que la selección incluye todas las filas incluyendo las dos de los extremos del rango."
      ]
    },
    {
      "cell_type": "markdown",
      "metadata": {
        "id": "C-DmjY0TLhM8"
      },
      "source": [
        "En los ejemplos vistos hasta ahora estamos extrayendo una o varias filas para todas las columnas. En posible, por supuesto, especificar qué filas y qué columnas exactas queremos extraer. Así, si utilizamos una única etiqueta para indicar la fila, y una única etiqueta para indicar la columna, separadas por una coma, estaremos extrayendo un único valor."
      ]
    },
    {
      "cell_type": "code",
      "execution_count": null,
      "metadata": {
        "id": "xwFPQXomLnrQ"
      },
      "outputs": [],
      "source": [
        "df.loc[\"a\", \"C\"]"
      ]
    },
    {
      "cell_type": "markdown",
      "metadata": {
        "id": "KOBakvijLs4M"
      },
      "source": [
        "Podemos sustituir una de las dos etiquetas por el símbolo de dos puntos (:), lo que supondrá seleccionar todos los elementos de ese eje."
      ]
    },
    {
      "cell_type": "code",
      "execution_count": null,
      "metadata": {
        "id": "4svrOqOoLvHD"
      },
      "outputs": [],
      "source": [
        "df.loc[:, \"A\"]"
      ]
    },
    {
      "cell_type": "markdown",
      "metadata": {
        "id": "8ziSE3SqLzoO"
      },
      "source": [
        "Esto supone que, por ejemplo, las dos expresiones siguientes devuelven el mismo resultado:"
      ]
    },
    {
      "cell_type": "code",
      "execution_count": null,
      "metadata": {
        "id": "gP46H2acNG_j"
      },
      "outputs": [],
      "source": [
        "df.loc[\"b\"]"
      ]
    },
    {
      "cell_type": "code",
      "execution_count": null,
      "metadata": {
        "id": "uwv-yqNfNJh6"
      },
      "outputs": [],
      "source": [
        "df.loc[\"b\",:]"
      ]
    },
    {
      "cell_type": "markdown",
      "metadata": {
        "id": "In2BTegSNREP"
      },
      "source": [
        "Los métodos vistos pueden combinarse. Podemos, por ejemplo, seleccionar la intersección de las filas $e$ y $c$ (en este orden) y la columna $B$."
      ]
    },
    {
      "cell_type": "code",
      "execution_count": null,
      "metadata": {
        "id": "8Xal1zoGNTT8"
      },
      "outputs": [],
      "source": [
        "df.loc[[\"e\", \"c\"], \"B\"]"
      ]
    },
    {
      "cell_type": "markdown",
      "metadata": {
        "id": "GDvEHDu6NcxA"
      },
      "source": [
        "El método `pandas.DataFrame.iloc` permite realizar selecciones por posición. Tal y como cabría esperar, pueden utilizarse diferentes tipos de argumentos que determinan qué elementos se están extrayendo."
      ]
    },
    {
      "cell_type": "code",
      "execution_count": null,
      "metadata": {
        "id": "mG00eSQ2NzUm"
      },
      "outputs": [],
      "source": [
        "df = pd.DataFrame(np.random.randint(0, 10, 18).reshape([6, 3]),\n",
        "                  index = [\"a\", \"b\", \"c\", \"d\", \"e\", \"f\"],\n",
        "                  columns = [\"A\", \"B\", \"C\"])\n",
        "df"
      ]
    },
    {
      "cell_type": "code",
      "execution_count": null,
      "metadata": {
        "id": "6VCy-nNMOK1M"
      },
      "outputs": [],
      "source": [
        "df.iloc[2]"
      ]
    },
    {
      "cell_type": "markdown",
      "metadata": {
        "id": "Y-WXTntuOQZS"
      },
      "source": [
        "El número indicado siempre será tratado como posición, y no como etiqueta."
      ]
    },
    {
      "cell_type": "code",
      "execution_count": null,
      "metadata": {
        "id": "XWq1lBdHOSSZ"
      },
      "outputs": [],
      "source": [
        "df = pd.DataFrame(np.arange(12).reshape([4, 3]),\n",
        "                  index = [3, 2, 1, 0],\n",
        "                  columns = [\"A\", \"B\", \"C\"])\n",
        "df"
      ]
    },
    {
      "cell_type": "code",
      "execution_count": null,
      "metadata": {
        "id": "BOTq0KyuOkt-"
      },
      "outputs": [],
      "source": [
        "df.iloc[3]"
      ]
    },
    {
      "cell_type": "markdown",
      "metadata": {
        "id": "tcfCG5eoOoxV"
      },
      "source": [
        "Si el número es negativo, hace referencia al final del dataframe.\n",
        "\n"
      ]
    },
    {
      "cell_type": "code",
      "execution_count": null,
      "metadata": {
        "id": "Gwwia5JCOq8m"
      },
      "outputs": [],
      "source": [
        "df.iloc[-1]"
      ]
    },
    {
      "cell_type": "markdown",
      "metadata": {
        "id": "9W0mdg0lQinK"
      },
      "source": [
        "Si utilizamos como argumento una __lista o array de números__, estamos extrayendo las filas cuyos índices son los elementos del mismo, y en el orden en el que aparecen en él."
      ]
    },
    {
      "cell_type": "code",
      "execution_count": 22,
      "metadata": {
        "id": "E4G4fjT7Qm8e"
      },
      "outputs": [
        {
          "data": {
            "text/html": [
              "<div>\n",
              "<style scoped>\n",
              "    .dataframe tbody tr th:only-of-type {\n",
              "        vertical-align: middle;\n",
              "    }\n",
              "\n",
              "    .dataframe tbody tr th {\n",
              "        vertical-align: top;\n",
              "    }\n",
              "\n",
              "    .dataframe thead th {\n",
              "        text-align: right;\n",
              "    }\n",
              "</style>\n",
              "<table border=\"1\" class=\"dataframe\">\n",
              "  <thead>\n",
              "    <tr style=\"text-align: right;\">\n",
              "      <th></th>\n",
              "      <th>A</th>\n",
              "      <th>B</th>\n",
              "      <th>C</th>\n",
              "    </tr>\n",
              "  </thead>\n",
              "  <tbody>\n",
              "    <tr>\n",
              "      <th>a</th>\n",
              "      <td>0</td>\n",
              "      <td>3</td>\n",
              "      <td>3</td>\n",
              "    </tr>\n",
              "    <tr>\n",
              "      <th>b</th>\n",
              "      <td>6</td>\n",
              "      <td>3</td>\n",
              "      <td>8</td>\n",
              "    </tr>\n",
              "    <tr>\n",
              "      <th>c</th>\n",
              "      <td>6</td>\n",
              "      <td>6</td>\n",
              "      <td>6</td>\n",
              "    </tr>\n",
              "    <tr>\n",
              "      <th>d</th>\n",
              "      <td>7</td>\n",
              "      <td>2</td>\n",
              "      <td>0</td>\n",
              "    </tr>\n",
              "    <tr>\n",
              "      <th>e</th>\n",
              "      <td>5</td>\n",
              "      <td>0</td>\n",
              "      <td>9</td>\n",
              "    </tr>\n",
              "    <tr>\n",
              "      <th>f</th>\n",
              "      <td>5</td>\n",
              "      <td>8</td>\n",
              "      <td>1</td>\n",
              "    </tr>\n",
              "  </tbody>\n",
              "</table>\n",
              "</div>"
            ],
            "text/plain": [
              "   A  B  C\n",
              "a  0  3  3\n",
              "b  6  3  8\n",
              "c  6  6  6\n",
              "d  7  2  0\n",
              "e  5  0  9\n",
              "f  5  8  1"
            ]
          },
          "execution_count": 22,
          "metadata": {},
          "output_type": "execute_result"
        }
      ],
      "source": [
        "df = pd.DataFrame(np.random.randint(0, 10, 18).reshape([6, 3]),\n",
        "                  index = [\"a\", \"b\", \"c\", \"d\", \"e\", \"f\"],\n",
        "                  columns = [\"A\", \"B\", \"C\"])\n",
        "df"
      ]
    },
    {
      "cell_type": "code",
      "execution_count": null,
      "metadata": {
        "id": "xQB7qFmvOVJf"
      },
      "outputs": [],
      "source": [
        "# Noten los dobles corchetes\n",
        "df.iloc[[3, 1]]"
      ]
    },
    {
      "cell_type": "markdown",
      "metadata": {
        "id": "mS95hqoFQ_b1"
      },
      "source": [
        "Si utilizamos un rango de números, como en el siguiente ejemplo en el que indicamos como argumento 2:4, estamos extrayendo las filas cuyos índices van de la primera cifra del rango incluida (2 en el ejemplo) hasta la última cifra sin incluir (4 en el ejemplo)."
      ]
    },
    {
      "cell_type": "code",
      "execution_count": null,
      "metadata": {
        "id": "DDgdeHjARHU4"
      },
      "outputs": [],
      "source": [
        "df.iloc[2:4]"
      ]
    },
    {
      "cell_type": "markdown",
      "metadata": {
        "id": "2fFzUd4ZRL8N"
      },
      "source": [
        "Como suele ser habitual, si no se especifica el primer valor, se consideran las filas desde la primera. Y si no se especifica el último valor, se consideran las filas hasta la última (incluida)."
      ]
    },
    {
      "cell_type": "code",
      "execution_count": null,
      "metadata": {
        "id": "KWrrh9HJROtK"
      },
      "outputs": [],
      "source": [
        "df.iloc[:3]"
      ]
    },
    {
      "cell_type": "code",
      "execution_count": null,
      "metadata": {
        "id": "M0PQ9ngSRSkq"
      },
      "outputs": [],
      "source": [
        "df.iloc[4:]"
      ]
    },
    {
      "cell_type": "markdown",
      "metadata": {
        "id": "8Ahzmz79RV06"
      },
      "source": [
        "También pueden usarse valores negativos para especificar el comienzo o el final del rango."
      ]
    },
    {
      "cell_type": "markdown",
      "metadata": {
        "id": "VxKMbHBrRWO4"
      },
      "source": [
        "Si añadimos un segundo argumento, estaremos haciendo referencia al índice de columna."
      ]
    },
    {
      "cell_type": "code",
      "execution_count": null,
      "metadata": {
        "id": "bxJXVAJHRbud"
      },
      "outputs": [],
      "source": [
        "df.iloc[3, 1]"
      ]
    },
    {
      "cell_type": "code",
      "execution_count": null,
      "metadata": {
        "id": "TckVjtQJ04Dk"
      },
      "outputs": [],
      "source": [
        "df.iloc[2:4, [1,2]]"
      ]
    },
    {
      "cell_type": "markdown",
      "metadata": {
        "id": "MqbB6mWeRpXF"
      },
      "source": [
        "En ocasiones nos encontraremos con que resultaría de utilidad poder realizar selecciones mezclando etiquetas e índices, y los métodos vistos, `loc` e `iloc`, solo permiten el uso de etiquetas o de índices, respectivamente. Para poder mezclar ambos tipos de referencias podemos recurrir a los métodos `pandas.Index.get_loc` y `pandas.Index.get_indexer`, métodos asociados a los índices de un dataframe.\n",
        "\n",
        "El primero, `get_loc`, devuelve el índice de la etiqueta que se adjunte como parámetro. El segundo, `get_indexer`, devuelve un array con los índices de las etiquetas que se adjunten en forma de lista como parámetro."
      ]
    },
    {
      "cell_type": "code",
      "execution_count": 24,
      "metadata": {
        "id": "JRYPHJvER3NR"
      },
      "outputs": [
        {
          "data": {
            "text/html": [
              "<div>\n",
              "<style scoped>\n",
              "    .dataframe tbody tr th:only-of-type {\n",
              "        vertical-align: middle;\n",
              "    }\n",
              "\n",
              "    .dataframe tbody tr th {\n",
              "        vertical-align: top;\n",
              "    }\n",
              "\n",
              "    .dataframe thead th {\n",
              "        text-align: right;\n",
              "    }\n",
              "</style>\n",
              "<table border=\"1\" class=\"dataframe\">\n",
              "  <thead>\n",
              "    <tr style=\"text-align: right;\">\n",
              "      <th></th>\n",
              "      <th>A</th>\n",
              "      <th>B</th>\n",
              "      <th>C</th>\n",
              "    </tr>\n",
              "  </thead>\n",
              "  <tbody>\n",
              "    <tr>\n",
              "      <th>a</th>\n",
              "      <td>0</td>\n",
              "      <td>1</td>\n",
              "      <td>2</td>\n",
              "    </tr>\n",
              "    <tr>\n",
              "      <th>b</th>\n",
              "      <td>3</td>\n",
              "      <td>4</td>\n",
              "      <td>5</td>\n",
              "    </tr>\n",
              "    <tr>\n",
              "      <th>c</th>\n",
              "      <td>6</td>\n",
              "      <td>7</td>\n",
              "      <td>8</td>\n",
              "    </tr>\n",
              "    <tr>\n",
              "      <th>d</th>\n",
              "      <td>9</td>\n",
              "      <td>10</td>\n",
              "      <td>11</td>\n",
              "    </tr>\n",
              "    <tr>\n",
              "      <th>e</th>\n",
              "      <td>12</td>\n",
              "      <td>13</td>\n",
              "      <td>14</td>\n",
              "    </tr>\n",
              "    <tr>\n",
              "      <th>f</th>\n",
              "      <td>15</td>\n",
              "      <td>16</td>\n",
              "      <td>17</td>\n",
              "    </tr>\n",
              "  </tbody>\n",
              "</table>\n",
              "</div>"
            ],
            "text/plain": [
              "    A   B   C\n",
              "a   0   1   2\n",
              "b   3   4   5\n",
              "c   6   7   8\n",
              "d   9  10  11\n",
              "e  12  13  14\n",
              "f  15  16  17"
            ]
          },
          "execution_count": 24,
          "metadata": {},
          "output_type": "execute_result"
        }
      ],
      "source": [
        "df = pd.DataFrame(np.arange(18).reshape([6, 3]),\n",
        "                  index = [\"a\", \"b\", \"c\", \"d\", \"e\", \"f\"],\n",
        "                  columns = [\"A\", \"B\", \"C\"])\n",
        "df"
      ]
    },
    {
      "cell_type": "markdown",
      "metadata": {
        "id": "lmsBn0B7SpxC"
      },
      "source": [
        "Si aplicamos estos métodos al índice de columnas haciendo referencia a etiquetas de columnas, obtenemos los siguientes resultados:"
      ]
    },
    {
      "cell_type": "code",
      "execution_count": 26,
      "metadata": {
        "id": "34mN6FGzSsj0"
      },
      "outputs": [
        {
          "data": {
            "text/plain": [
              "1"
            ]
          },
          "execution_count": 26,
          "metadata": {},
          "output_type": "execute_result"
        }
      ],
      "source": [
        "df.columns.get_loc(\"B\")"
      ]
    },
    {
      "cell_type": "code",
      "execution_count": 25,
      "metadata": {
        "id": "3F0HYEOnSyti"
      },
      "outputs": [
        {
          "data": {
            "text/plain": [
              "array([0, 2])"
            ]
          },
          "execution_count": 25,
          "metadata": {},
          "output_type": "execute_result"
        }
      ],
      "source": [
        "df.columns.get_indexer([\"A\", \"C\"])"
      ]
    },
    {
      "cell_type": "markdown",
      "metadata": {
        "id": "QhWiW6tQS6tt"
      },
      "source": [
        "En el primer caso hemos pasado la etiqueta \"B\" y el método ha devuelto su índice (1). En el segundo caso hemos pasado una lista de etiquetas y hemos obtenido un array con sus índices.\n",
        "\n",
        "Si ejecutamos estos métodos en el índice de filas:"
      ]
    },
    {
      "cell_type": "code",
      "execution_count": 27,
      "metadata": {
        "id": "ooT-O7frS-nY"
      },
      "outputs": [
        {
          "data": {
            "text/plain": [
              "3"
            ]
          },
          "execution_count": 27,
          "metadata": {},
          "output_type": "execute_result"
        }
      ],
      "source": [
        "df.index.get_loc(\"d\")"
      ]
    },
    {
      "cell_type": "code",
      "execution_count": 28,
      "metadata": {
        "id": "osjhwB4PTE5U"
      },
      "outputs": [
        {
          "data": {
            "text/plain": [
              "array([2, 4])"
            ]
          },
          "execution_count": 28,
          "metadata": {},
          "output_type": "execute_result"
        }
      ],
      "source": [
        "df.index.get_indexer([\"c\", \"e\"])"
      ]
    },
    {
      "cell_type": "markdown",
      "metadata": {
        "id": "a29A0_lXUd9A"
      },
      "source": [
        "Ahora que sabemos cómo convertir etiquetas en sus índices equivalentes, podemos seleccionar datos de un dataframe mezclando etiquetas e índices si convertimos las etiquetas y utilizamos el método `iloc` ya visto. Por ejemplo, si quisiéramos extraer del anterior dataframe el dato que ocupa la fila $c$ y la columna de índice 2, podríamos conseguirlo del siguiente modo:"
      ]
    },
    {
      "cell_type": "code",
      "execution_count": 29,
      "metadata": {
        "id": "0SI49_PZRE1h"
      },
      "outputs": [
        {
          "data": {
            "text/html": [
              "<div>\n",
              "<style scoped>\n",
              "    .dataframe tbody tr th:only-of-type {\n",
              "        vertical-align: middle;\n",
              "    }\n",
              "\n",
              "    .dataframe tbody tr th {\n",
              "        vertical-align: top;\n",
              "    }\n",
              "\n",
              "    .dataframe thead th {\n",
              "        text-align: right;\n",
              "    }\n",
              "</style>\n",
              "<table border=\"1\" class=\"dataframe\">\n",
              "  <thead>\n",
              "    <tr style=\"text-align: right;\">\n",
              "      <th></th>\n",
              "      <th>A</th>\n",
              "      <th>B</th>\n",
              "      <th>C</th>\n",
              "    </tr>\n",
              "  </thead>\n",
              "  <tbody>\n",
              "    <tr>\n",
              "      <th>a</th>\n",
              "      <td>0</td>\n",
              "      <td>1</td>\n",
              "      <td>2</td>\n",
              "    </tr>\n",
              "    <tr>\n",
              "      <th>b</th>\n",
              "      <td>3</td>\n",
              "      <td>4</td>\n",
              "      <td>5</td>\n",
              "    </tr>\n",
              "    <tr>\n",
              "      <th>c</th>\n",
              "      <td>6</td>\n",
              "      <td>7</td>\n",
              "      <td>8</td>\n",
              "    </tr>\n",
              "    <tr>\n",
              "      <th>d</th>\n",
              "      <td>9</td>\n",
              "      <td>10</td>\n",
              "      <td>11</td>\n",
              "    </tr>\n",
              "    <tr>\n",
              "      <th>e</th>\n",
              "      <td>12</td>\n",
              "      <td>13</td>\n",
              "      <td>14</td>\n",
              "    </tr>\n",
              "    <tr>\n",
              "      <th>f</th>\n",
              "      <td>15</td>\n",
              "      <td>16</td>\n",
              "      <td>17</td>\n",
              "    </tr>\n",
              "  </tbody>\n",
              "</table>\n",
              "</div>"
            ],
            "text/plain": [
              "    A   B   C\n",
              "a   0   1   2\n",
              "b   3   4   5\n",
              "c   6   7   8\n",
              "d   9  10  11\n",
              "e  12  13  14\n",
              "f  15  16  17"
            ]
          },
          "execution_count": 29,
          "metadata": {},
          "output_type": "execute_result"
        }
      ],
      "source": [
        "df = pd.DataFrame(np.arange(18).reshape([6, 3]),\n",
        "                  index = [\"a\", \"b\", \"c\", \"d\", \"e\", \"f\"],\n",
        "                  columns = [\"A\", \"B\", \"C\"])\n",
        "df"
      ]
    },
    {
      "cell_type": "code",
      "execution_count": 30,
      "metadata": {
        "id": "M23SCV1OUjKk"
      },
      "outputs": [
        {
          "data": {
            "text/plain": [
              "np.int64(8)"
            ]
          },
          "execution_count": 30,
          "metadata": {},
          "output_type": "execute_result"
        }
      ],
      "source": [
        "df.iloc[df.index.get_loc(\"c\"), 2]"
      ]
    },
    {
      "cell_type": "markdown",
      "metadata": {
        "id": "JgREkyp-UsdW"
      },
      "source": [
        "O si deseásemos obtener de las filas 5 y 3 (en este orden) los valores correspondientes a las columnas $C$ y $A$ (en este orden), podríamos hacerlo con la siguiente expresión:"
      ]
    },
    {
      "cell_type": "code",
      "execution_count": 31,
      "metadata": {
        "id": "iBVv-uyAUvs4"
      },
      "outputs": [
        {
          "data": {
            "text/html": [
              "<div>\n",
              "<style scoped>\n",
              "    .dataframe tbody tr th:only-of-type {\n",
              "        vertical-align: middle;\n",
              "    }\n",
              "\n",
              "    .dataframe tbody tr th {\n",
              "        vertical-align: top;\n",
              "    }\n",
              "\n",
              "    .dataframe thead th {\n",
              "        text-align: right;\n",
              "    }\n",
              "</style>\n",
              "<table border=\"1\" class=\"dataframe\">\n",
              "  <thead>\n",
              "    <tr style=\"text-align: right;\">\n",
              "      <th></th>\n",
              "      <th>C</th>\n",
              "      <th>A</th>\n",
              "    </tr>\n",
              "  </thead>\n",
              "  <tbody>\n",
              "    <tr>\n",
              "      <th>f</th>\n",
              "      <td>17</td>\n",
              "      <td>15</td>\n",
              "    </tr>\n",
              "    <tr>\n",
              "      <th>d</th>\n",
              "      <td>11</td>\n",
              "      <td>9</td>\n",
              "    </tr>\n",
              "  </tbody>\n",
              "</table>\n",
              "</div>"
            ],
            "text/plain": [
              "    C   A\n",
              "f  17  15\n",
              "d  11   9"
            ]
          },
          "execution_count": 31,
          "metadata": {},
          "output_type": "execute_result"
        }
      ],
      "source": [
        "df.iloc[[5, 3], df.columns.get_indexer([\"C\", \"A\"])]"
      ]
    },
    {
      "cell_type": "markdown",
      "metadata": {
        "id": "KGGzvgMAU_kA"
      },
      "source": [
        "Otro método especialmente útil para la selección es el uso de listas de booleanos. Nuevamente puede parecer un tanto incoherente aunque, en este caso, su uso sí es extremadamente conveniente.\n",
        "\n",
        "Si partimos del mismo dataframe usado en la sección anterior, podemos crear una lista de booleanos (que, por motivos puramente pedagógicos, asignamos a una variable, *mask*) y realizar la selección con ella entre los corchetes. Vemos a continuación que este método también selecciona filas del dataframe."
      ]
    },
    {
      "cell_type": "code",
      "execution_count": 36,
      "metadata": {
        "id": "W68hfGd1VKVT"
      },
      "outputs": [
        {
          "name": "stdout",
          "output_type": "stream",
          "text": [
            "    A   B   C\n",
            "a   0   1   2\n",
            "b   3   4   5\n",
            "c   6   7   8\n",
            "d   9  10  11\n",
            "e  12  13  14\n",
            "f  15  16  17\n"
          ]
        },
        {
          "data": {
            "text/html": [
              "<div>\n",
              "<style scoped>\n",
              "    .dataframe tbody tr th:only-of-type {\n",
              "        vertical-align: middle;\n",
              "    }\n",
              "\n",
              "    .dataframe tbody tr th {\n",
              "        vertical-align: top;\n",
              "    }\n",
              "\n",
              "    .dataframe thead th {\n",
              "        text-align: right;\n",
              "    }\n",
              "</style>\n",
              "<table border=\"1\" class=\"dataframe\">\n",
              "  <thead>\n",
              "    <tr style=\"text-align: right;\">\n",
              "      <th></th>\n",
              "      <th>A</th>\n",
              "      <th>B</th>\n",
              "      <th>C</th>\n",
              "    </tr>\n",
              "  </thead>\n",
              "  <tbody>\n",
              "    <tr>\n",
              "      <th>a</th>\n",
              "      <td>0</td>\n",
              "      <td>1</td>\n",
              "      <td>2</td>\n",
              "    </tr>\n",
              "    <tr>\n",
              "      <th>c</th>\n",
              "      <td>6</td>\n",
              "      <td>7</td>\n",
              "      <td>8</td>\n",
              "    </tr>\n",
              "    <tr>\n",
              "      <th>f</th>\n",
              "      <td>15</td>\n",
              "      <td>16</td>\n",
              "      <td>17</td>\n",
              "    </tr>\n",
              "  </tbody>\n",
              "</table>\n",
              "</div>"
            ],
            "text/plain": [
              "    A   B   C\n",
              "a   0   1   2\n",
              "c   6   7   8\n",
              "f  15  16  17"
            ]
          },
          "execution_count": 36,
          "metadata": {},
          "output_type": "execute_result"
        }
      ],
      "source": [
        "df = pd.DataFrame(np.arange(18).reshape([6, 3]),\n",
        "                  index = [\"a\", \"b\", \"c\", \"d\", \"e\", \"f\"],\n",
        "                  columns = [\"A\", \"B\", \"C\"])\n",
        "print(df)\n",
        "mask = [True, False, True, False, False, True]\n",
        "df[mask]"
      ]
    },
    {
      "cell_type": "markdown",
      "metadata": {
        "id": "M50pIBTFVUeq"
      },
      "source": [
        "El vector de booleanos deberá tener la misma longitud que el índice de filas (es decir, un booleano por fila) y la selección devolverá aquellas filas para las que el elemento correspondiente del vector tome el valor `True`.\n",
        "\n",
        "La verdadera potencia de este estilo de selección se pone de manifiesto cuando la máscara se genera a partir de los datos del propio dataframe. Por ejemplo, si queremos seleccionar las filas para las que el valor de la columna $A$ sea mayor que 7:"
      ]
    },
    {
      "cell_type": "code",
      "execution_count": 37,
      "metadata": {
        "id": "rclCNOhthpdi"
      },
      "outputs": [
        {
          "data": {
            "text/html": [
              "<div>\n",
              "<style scoped>\n",
              "    .dataframe tbody tr th:only-of-type {\n",
              "        vertical-align: middle;\n",
              "    }\n",
              "\n",
              "    .dataframe tbody tr th {\n",
              "        vertical-align: top;\n",
              "    }\n",
              "\n",
              "    .dataframe thead th {\n",
              "        text-align: right;\n",
              "    }\n",
              "</style>\n",
              "<table border=\"1\" class=\"dataframe\">\n",
              "  <thead>\n",
              "    <tr style=\"text-align: right;\">\n",
              "      <th></th>\n",
              "      <th>A</th>\n",
              "      <th>B</th>\n",
              "      <th>C</th>\n",
              "    </tr>\n",
              "  </thead>\n",
              "  <tbody>\n",
              "    <tr>\n",
              "      <th>a</th>\n",
              "      <td>0</td>\n",
              "      <td>1</td>\n",
              "      <td>2</td>\n",
              "    </tr>\n",
              "    <tr>\n",
              "      <th>b</th>\n",
              "      <td>3</td>\n",
              "      <td>4</td>\n",
              "      <td>5</td>\n",
              "    </tr>\n",
              "    <tr>\n",
              "      <th>c</th>\n",
              "      <td>6</td>\n",
              "      <td>7</td>\n",
              "      <td>8</td>\n",
              "    </tr>\n",
              "    <tr>\n",
              "      <th>d</th>\n",
              "      <td>9</td>\n",
              "      <td>10</td>\n",
              "      <td>11</td>\n",
              "    </tr>\n",
              "    <tr>\n",
              "      <th>e</th>\n",
              "      <td>12</td>\n",
              "      <td>13</td>\n",
              "      <td>14</td>\n",
              "    </tr>\n",
              "    <tr>\n",
              "      <th>f</th>\n",
              "      <td>15</td>\n",
              "      <td>16</td>\n",
              "      <td>17</td>\n",
              "    </tr>\n",
              "  </tbody>\n",
              "</table>\n",
              "</div>"
            ],
            "text/plain": [
              "    A   B   C\n",
              "a   0   1   2\n",
              "b   3   4   5\n",
              "c   6   7   8\n",
              "d   9  10  11\n",
              "e  12  13  14\n",
              "f  15  16  17"
            ]
          },
          "execution_count": 37,
          "metadata": {},
          "output_type": "execute_result"
        }
      ],
      "source": [
        "df = pd.DataFrame(np.arange(18).reshape([6, 3]),\n",
        "                  index = [\"a\", \"b\", \"c\", \"d\", \"e\", \"f\"],\n",
        "                  columns = [\"A\", \"B\", \"C\"])\n",
        "df"
      ]
    },
    {
      "cell_type": "code",
      "execution_count": null,
      "metadata": {
        "id": "EVw3ABGyVcVm"
      },
      "outputs": [],
      "source": [
        "df[df.A > 7]"
      ]
    },
    {
      "cell_type": "markdown",
      "metadata": {
        "id": "eQfgEMbkVg5Q"
      },
      "source": [
        "Este tipo de filtrados resultan muy frecuentes en entornos de análisis, de ahí que la posibilidad de realizarlos sin necesidad de recurrir a métodos adicionales (`loc`, `iloc` o `get`, por ejemplo) resulte tan conveniente.\n",
        "\n",
        "Con `loc` podemos usar directamente una expresión de comparación como la vista:"
      ]
    },
    {
      "cell_type": "code",
      "execution_count": 38,
      "metadata": {
        "id": "QJe-XMxDVpec"
      },
      "outputs": [
        {
          "data": {
            "text/html": [
              "<div>\n",
              "<style scoped>\n",
              "    .dataframe tbody tr th:only-of-type {\n",
              "        vertical-align: middle;\n",
              "    }\n",
              "\n",
              "    .dataframe tbody tr th {\n",
              "        vertical-align: top;\n",
              "    }\n",
              "\n",
              "    .dataframe thead th {\n",
              "        text-align: right;\n",
              "    }\n",
              "</style>\n",
              "<table border=\"1\" class=\"dataframe\">\n",
              "  <thead>\n",
              "    <tr style=\"text-align: right;\">\n",
              "      <th></th>\n",
              "      <th>A</th>\n",
              "      <th>B</th>\n",
              "      <th>C</th>\n",
              "    </tr>\n",
              "  </thead>\n",
              "  <tbody>\n",
              "    <tr>\n",
              "      <th>c</th>\n",
              "      <td>6</td>\n",
              "      <td>7</td>\n",
              "      <td>8</td>\n",
              "    </tr>\n",
              "    <tr>\n",
              "      <th>d</th>\n",
              "      <td>9</td>\n",
              "      <td>10</td>\n",
              "      <td>11</td>\n",
              "    </tr>\n",
              "    <tr>\n",
              "      <th>e</th>\n",
              "      <td>12</td>\n",
              "      <td>13</td>\n",
              "      <td>14</td>\n",
              "    </tr>\n",
              "    <tr>\n",
              "      <th>f</th>\n",
              "      <td>15</td>\n",
              "      <td>16</td>\n",
              "      <td>17</td>\n",
              "    </tr>\n",
              "  </tbody>\n",
              "</table>\n",
              "</div>"
            ],
            "text/plain": [
              "    A   B   C\n",
              "c   6   7   8\n",
              "d   9  10  11\n",
              "e  12  13  14\n",
              "f  15  16  17"
            ]
          },
          "execution_count": 38,
          "metadata": {},
          "output_type": "execute_result"
        }
      ],
      "source": [
        "df.loc[df.B > 6]"
      ]
    },
    {
      "cell_type": "markdown",
      "metadata": {
        "id": "FMwC5lEiVuoe"
      },
      "source": [
        "Sin embargo, con `iloc` nos veremos obligados a extraer los valores del dataframe resultante de la comparación -tal y como ocurría con las series- pues, de otro modo, obtendremos un error. Recordar que no hacepta series como argumentos, solo arreglos o listas."
      ]
    },
    {
      "cell_type": "code",
      "execution_count": null,
      "metadata": {
        "id": "ngHRS_6SVxNk"
      },
      "outputs": [],
      "source": [
        "df.iloc[(df.B > 6).values]"
      ]
    },
    {
      "cell_type": "code",
      "execution_count": null,
      "metadata": {
        "id": "uja55UDW4_Jj"
      },
      "outputs": [],
      "source": [
        "df.iloc[list(df.B > 6)]"
      ]
    },
    {
      "cell_type": "markdown",
      "metadata": {
        "id": "MZEN0D3YV4v_"
      },
      "source": [
        "**Evitamos problemas si, tal y como sugiere pandas, utilizamos siempre el método loc.**"
      ]
    },
    {
      "cell_type": "markdown",
      "metadata": {
        "id": "7_ThAm1oV9UR"
      },
      "source": [
        "Al igual que ocurre con las series, también los dataframes tienen un método que permite extraer elementos del mismo de forma aleatoria: `pandas.DataFrame.sample`. Este método permite especificar el número de elementos a extraer (o el porcentaje respecto del total, parámetros `n` y `frac`, respectivamente), si la extracción se realiza con reemplazo o no (parámetro `replace`), los pesos a aplicar a los elementos para realizar una extracción aleatoria ponderada (parámetro `weights`) y una semilla para el generador de números aleatorios que asegure la reproducibilidad de la extracción (parámetro `random_state`). También es posible indicar el eje a lo largo del cual se desea realizar la extracción (por defecto se extraen filas, correspondiente al eje 0)."
      ]
    },
    {
      "cell_type": "code",
      "execution_count": 39,
      "metadata": {
        "id": "pq3an5aWWKA2"
      },
      "outputs": [
        {
          "data": {
            "text/html": [
              "<div>\n",
              "<style scoped>\n",
              "    .dataframe tbody tr th:only-of-type {\n",
              "        vertical-align: middle;\n",
              "    }\n",
              "\n",
              "    .dataframe tbody tr th {\n",
              "        vertical-align: top;\n",
              "    }\n",
              "\n",
              "    .dataframe thead th {\n",
              "        text-align: right;\n",
              "    }\n",
              "</style>\n",
              "<table border=\"1\" class=\"dataframe\">\n",
              "  <thead>\n",
              "    <tr style=\"text-align: right;\">\n",
              "      <th></th>\n",
              "      <th>A</th>\n",
              "      <th>B</th>\n",
              "      <th>C</th>\n",
              "    </tr>\n",
              "  </thead>\n",
              "  <tbody>\n",
              "    <tr>\n",
              "      <th>f</th>\n",
              "      <td>15</td>\n",
              "      <td>16</td>\n",
              "      <td>17</td>\n",
              "    </tr>\n",
              "    <tr>\n",
              "      <th>e</th>\n",
              "      <td>12</td>\n",
              "      <td>13</td>\n",
              "      <td>14</td>\n",
              "    </tr>\n",
              "    <tr>\n",
              "      <th>b</th>\n",
              "      <td>3</td>\n",
              "      <td>4</td>\n",
              "      <td>5</td>\n",
              "    </tr>\n",
              "  </tbody>\n",
              "</table>\n",
              "</div>"
            ],
            "text/plain": [
              "    A   B   C\n",
              "f  15  16  17\n",
              "e  12  13  14\n",
              "b   3   4   5"
            ]
          },
          "execution_count": 39,
          "metadata": {},
          "output_type": "execute_result"
        }
      ],
      "source": [
        "df = pd.DataFrame(np.arange(18).reshape([6, 3]),\n",
        "                  index = [\"a\", \"b\", \"c\", \"d\", \"e\", \"f\"],\n",
        "                  columns = [\"A\", \"B\", \"C\"])\n",
        "df.sample(3, random_state = 18)"
      ]
    },
    {
      "cell_type": "markdown",
      "metadata": {
        "id": "mbr8d2KRWVi3"
      },
      "source": [
        "Si especificamos como eje el valor 1, estaremos extrayendo columnas."
      ]
    },
    {
      "cell_type": "code",
      "execution_count": 40,
      "metadata": {
        "id": "wBDxRQJHWXWU"
      },
      "outputs": [
        {
          "data": {
            "text/html": [
              "<div>\n",
              "<style scoped>\n",
              "    .dataframe tbody tr th:only-of-type {\n",
              "        vertical-align: middle;\n",
              "    }\n",
              "\n",
              "    .dataframe tbody tr th {\n",
              "        vertical-align: top;\n",
              "    }\n",
              "\n",
              "    .dataframe thead th {\n",
              "        text-align: right;\n",
              "    }\n",
              "</style>\n",
              "<table border=\"1\" class=\"dataframe\">\n",
              "  <thead>\n",
              "    <tr style=\"text-align: right;\">\n",
              "      <th></th>\n",
              "      <th>A</th>\n",
              "      <th>B</th>\n",
              "    </tr>\n",
              "  </thead>\n",
              "  <tbody>\n",
              "    <tr>\n",
              "      <th>a</th>\n",
              "      <td>0</td>\n",
              "      <td>1</td>\n",
              "    </tr>\n",
              "    <tr>\n",
              "      <th>b</th>\n",
              "      <td>3</td>\n",
              "      <td>4</td>\n",
              "    </tr>\n",
              "    <tr>\n",
              "      <th>c</th>\n",
              "      <td>6</td>\n",
              "      <td>7</td>\n",
              "    </tr>\n",
              "    <tr>\n",
              "      <th>d</th>\n",
              "      <td>9</td>\n",
              "      <td>10</td>\n",
              "    </tr>\n",
              "    <tr>\n",
              "      <th>e</th>\n",
              "      <td>12</td>\n",
              "      <td>13</td>\n",
              "    </tr>\n",
              "    <tr>\n",
              "      <th>f</th>\n",
              "      <td>15</td>\n",
              "      <td>16</td>\n",
              "    </tr>\n",
              "  </tbody>\n",
              "</table>\n",
              "</div>"
            ],
            "text/plain": [
              "    A   B\n",
              "a   0   1\n",
              "b   3   4\n",
              "c   6   7\n",
              "d   9  10\n",
              "e  12  13\n",
              "f  15  16"
            ]
          },
          "execution_count": 40,
          "metadata": {},
          "output_type": "execute_result"
        }
      ],
      "source": [
        "df.sample(2, random_state = 18, axis = 1)"
      ]
    },
    {
      "cell_type": "markdown",
      "metadata": {
        "id": "inTL_1EwWfNS"
      },
      "source": [
        "Si hacemos uso del parámetro `frac`, podemos especificar el porcentaje de elementos a extraer."
      ]
    },
    {
      "cell_type": "code",
      "execution_count": null,
      "metadata": {
        "id": "NhCmMbAsWhOw"
      },
      "outputs": [],
      "source": [
        "df.sample(frac = 0.6, random_state = 18)"
      ]
    },
    {
      "cell_type": "markdown",
      "metadata": {
        "id": "lLGvBrzwW0c5"
      },
      "source": [
        "Otra forma de extraer datos es la proporcionada por el método `pandas.DataFrame.pop`, que extrae y elimina una columna de un dataframe."
      ]
    },
    {
      "cell_type": "markdown",
      "metadata": {},
      "source": []
    },
    {
      "cell_type": "markdown",
      "metadata": {},
      "source": []
    },
    {
      "cell_type": "code",
      "execution_count": 41,
      "metadata": {
        "id": "v62uOKk-W3L5"
      },
      "outputs": [
        {
          "data": {
            "text/html": [
              "<div>\n",
              "<style scoped>\n",
              "    .dataframe tbody tr th:only-of-type {\n",
              "        vertical-align: middle;\n",
              "    }\n",
              "\n",
              "    .dataframe tbody tr th {\n",
              "        vertical-align: top;\n",
              "    }\n",
              "\n",
              "    .dataframe thead th {\n",
              "        text-align: right;\n",
              "    }\n",
              "</style>\n",
              "<table border=\"1\" class=\"dataframe\">\n",
              "  <thead>\n",
              "    <tr style=\"text-align: right;\">\n",
              "      <th></th>\n",
              "      <th>A</th>\n",
              "      <th>B</th>\n",
              "      <th>C</th>\n",
              "      <th>D</th>\n",
              "      <th>E</th>\n",
              "    </tr>\n",
              "  </thead>\n",
              "  <tbody>\n",
              "    <tr>\n",
              "      <th>a</th>\n",
              "      <td>0</td>\n",
              "      <td>1</td>\n",
              "      <td>2</td>\n",
              "      <td>3</td>\n",
              "      <td>4</td>\n",
              "    </tr>\n",
              "    <tr>\n",
              "      <th>b</th>\n",
              "      <td>5</td>\n",
              "      <td>6</td>\n",
              "      <td>7</td>\n",
              "      <td>8</td>\n",
              "      <td>9</td>\n",
              "    </tr>\n",
              "    <tr>\n",
              "      <th>c</th>\n",
              "      <td>10</td>\n",
              "      <td>11</td>\n",
              "      <td>12</td>\n",
              "      <td>13</td>\n",
              "      <td>14</td>\n",
              "    </tr>\n",
              "  </tbody>\n",
              "</table>\n",
              "</div>"
            ],
            "text/plain": [
              "    A   B   C   D   E\n",
              "a   0   1   2   3   4\n",
              "b   5   6   7   8   9\n",
              "c  10  11  12  13  14"
            ]
          },
          "execution_count": 41,
          "metadata": {},
          "output_type": "execute_result"
        }
      ],
      "source": [
        "df = pd.DataFrame(np.arange(15).reshape([3, 5]),\n",
        "                  index = [\"a\", \"b\", \"c\"],\n",
        "                  columns = [\"A\", \"B\", \"C\", \"D\", \"E\"])\n",
        "df"
      ]
    },
    {
      "cell_type": "code",
      "execution_count": 42,
      "metadata": {
        "id": "RNzxRRbxXCAj"
      },
      "outputs": [
        {
          "data": {
            "text/plain": [
              "a     1\n",
              "b     6\n",
              "c    11\n",
              "Name: B, dtype: int64"
            ]
          },
          "execution_count": 42,
          "metadata": {},
          "output_type": "execute_result"
        }
      ],
      "source": [
        "columna = df.pop(\"B\")\n",
        "columna"
      ]
    },
    {
      "cell_type": "code",
      "execution_count": null,
      "metadata": {
        "id": "3QxJPE0wXHFj"
      },
      "outputs": [],
      "source": [
        "df"
      ]
    },
    {
      "cell_type": "markdown",
      "metadata": {
        "id": "yIuCSkHMn9DP"
      },
      "source": [
        "### <font color='green'>Actividad 1</font>\n",
        "\n",
        "Escribir una función que reciba un DataFrame con el formato de la siguiente tabla:\n",
        "\n",
        "| Mes     | Ventas | Gastos |\n",
        "| ------- | -----: | -----: |\n",
        "| Enero   |  30500 |  22000 |\n",
        "| Febrero |  35600 |  23400 |\n",
        "| Marzo   |  28300 |  18100 |\n",
        "| Abril   |  33900 |  20700 |\n",
        "| Mayo    |  31450 |  25620 |\n",
        "| Junio   |  33040 |  25500 |\n",
        "\n",
        "y devuelva el balance (ventas - gastos) para los siguientes periodos:\n",
        "\n",
        "1. Enero a Marzo\n",
        "2. Abril a Junio\n",
        "3. Todo el periodo"
      ]
    },
    {
      "cell_type": "code",
      "execution_count": 45,
      "metadata": {
        "id": "_ZRqHop5oEin"
      },
      "outputs": [
        {
          "name": "stdout",
          "output_type": "stream",
          "text": [
            "Balance de Enero a Marzo: 30900\n",
            "Balance de Abril a Junio: 26570\n",
            "Balance de todo el periodo: 57470\n"
          ]
        }
      ],
      "source": [
        "def calcular_balance(datos):\n",
        "    df['Balance']= df['Ventas'] - df['Gastos']\n",
        "    # Calcular el balance para los periodos especificados\n",
        "    balance_enero_marzo = df.loc[df['Mes'].isin(['Enero', 'Febrero', 'Marzo']), 'Balance'].sum()\n",
        "    balance_abril_junio = df.loc[df['Mes'].isin(['Abril', 'Mayo', 'Junio']), 'Balance'].sum()\n",
        "    balance_total = df['Balance'].sum()\n",
        "    return balance_enero_marzo, balance_abril_junio, balance_total\n",
        "\n",
        "data = {\n",
        "    'Mes': ['Enero', 'Febrero', 'Marzo', 'Abril', 'Mayo', 'Junio'],\n",
        "    'Ventas': [30500, 35600, 28300, 33900, 31450, 33040],\n",
        "    'Gastos': [22000, 23400, 18100, 20700, 25620, 25500]\n",
        "}\n",
        "\n",
        "df = pd.DataFrame(data)\n",
        "\n",
        "balance_enero_marzo, balance_abril_junio, balance_total = calcular_balance(df)\n",
        "\n",
        "print(\"Balance de Enero a Marzo:\", balance_enero_marzo)\n",
        "print(\"Balance de Abril a Junio:\", balance_abril_junio)\n",
        "print(\"Balance de todo el periodo:\", balance_total)"
      ]
    },
    {
      "cell_type": "markdown",
      "metadata": {
        "id": "o_Dh1DMppI7p"
      },
      "source": [
        "<font color='green'>Fin Actividad 1</font>"
      ]
    },
    {
      "cell_type": "markdown",
      "metadata": {
        "id": "ASy4Izd3miL7"
      },
      "source": [
        "### <font color='green'>Actividad 2</font>\n",
        "\n",
        "Dado el siguiente DataFrame:\n",
        "\n",
        "```\n",
        "dates = pd.date_range('20230101', periods=6)\n",
        "df1 = pd.DataFrame(np.random.randn(6, 4), index=dates, columns=list('ABCD'))\n",
        "```\n",
        "\n",
        "Selecciona las filas correspondientes a las fechas después del 2023-01-03."
      ]
    },
    {
      "cell_type": "code",
      "execution_count": 46,
      "metadata": {
        "id": "mao5-pSEmiL8"
      },
      "outputs": [
        {
          "name": "stdout",
          "output_type": "stream",
          "text": [
            "                   A         B         C         D\n",
            "2023-01-04 -0.740578  0.420049  0.378283 -1.191362\n",
            "2023-01-05  1.290194 -0.901050 -0.463543  0.126891\n",
            "2023-01-06  0.802449  2.158407 -0.715434  0.626110\n"
          ]
        }
      ],
      "source": [
        "# Crear el DataFrame\n",
        "dates = pd.date_range('20230101', periods=6)\n",
        "df1 = pd.DataFrame(np.random.randn(6, 4), index=dates, columns=list('ABCD'))\n",
        "\n",
        "# Seleccionar filas correspondientes a las fechas después del 2023-01-03\n",
        "filtered_df = df1.loc[df1.index > '2023-01-03']\n",
        "\n",
        "print(filtered_df)"
      ]
    },
    {
      "cell_type": "markdown",
      "metadata": {
        "id": "1DNxmM3OmiL8"
      },
      "source": [
        "<font color='green'>Fin Actividad 2</font>"
      ]
    },
    {
      "cell_type": "markdown",
      "metadata": {
        "id": "Od5xuQifm4cx"
      },
      "source": [
        "### <font color='green'>Actividad 3</font>\n",
        "\n",
        "Dado el siguiente DataFrame:\n",
        "\n",
        "```\n",
        "df2 = pd.DataFrame(np.random.randint(0, 100, size=(8, 4)), columns=list('WXYZ'))\n",
        "```\n",
        "\n",
        "Selecciona las filas de índice 2 a 5, pero solo las columnas 'W' y 'Z'."
      ]
    },
    {
      "cell_type": "code",
      "execution_count": 48,
      "metadata": {
        "id": "QAIOVkpam4c3"
      },
      "outputs": [
        {
          "name": "stdout",
          "output_type": "stream",
          "text": [
            "    W   X   Y   Z\n",
            "0  25   8  67  32\n",
            "1  93  89  50  85\n",
            "2  62   7   0  73\n",
            "3  28  25   2  87\n",
            "4  16  55  75  30\n",
            "5  85  50  98  24\n",
            "6  57  57  45  62\n",
            "7  47  28  67  80\n",
            "    W   Z\n",
            "2  62  73\n",
            "3  28  87\n",
            "4  16  30\n",
            "5  85  24\n"
          ]
        }
      ],
      "source": [
        "# Crear el DataFrame\n",
        "df2 = pd.DataFrame(np.random.randint(0, 100, size=(8, 4)), columns=list('WXYZ'))\n",
        "print(df2)\n",
        "# Seleccionar las filas de índice 2 a 5 y solo las columnas 'W' y 'Z'\n",
        "selected_df = df2.loc[2:5, ['W', 'Z']]\n",
        "\n",
        "print(selected_df)"
      ]
    },
    {
      "cell_type": "markdown",
      "metadata": {
        "id": "HmAbpQ9sm4c3"
      },
      "source": [
        "<font color='green'>Fin Actividad 3</font>"
      ]
    },
    {
      "cell_type": "markdown",
      "metadata": {
        "id": "MLBtxR7tnCFj"
      },
      "source": [
        "### <font color='green'>Actividad 4</font>\n",
        "\n",
        "Dado el siguiente DataFrame:\n",
        "\n",
        "```\n",
        "data = {\n",
        "    'A': ['foo', 'bar', 'foo', 'bar', 'foo', 'bar', 'foo', 'foo'],\n",
        "    'B': ['one', 'one', 'two', 'three', 'two', 'two', 'one', 'three'],\n",
        "    'C': np.random.randint(1, 10, 8),\n",
        "    'D': np.random.randint(1, 10, 8)\n",
        "}\n",
        "df3 = pd.DataFrame(data)\n",
        "```\n",
        "\n",
        "Selecciona todos los registros donde A sea 'foo' y B no sea 'three'."
      ]
    },
    {
      "cell_type": "code",
      "execution_count": 51,
      "metadata": {
        "id": "GacvY_evnCFk"
      },
      "outputs": [
        {
          "name": "stdout",
          "output_type": "stream",
          "text": [
            "     A    B  C  D\n",
            "0  foo  one  4  6\n",
            "2  foo  two  1  3\n",
            "4  foo  two  8  1\n",
            "6  foo  one  8  7\n"
          ]
        }
      ],
      "source": [
        "data = {\n",
        "    'A': ['foo', 'bar', 'foo', 'bar', 'foo', 'bar', 'foo', 'foo'],\n",
        "    'B': ['one', 'one', 'two', 'three', 'two', 'two', 'one', 'three'],\n",
        "    'C': np.random.randint(1, 10, 8),\n",
        "    'D': np.random.randint(1, 10, 8)\n",
        "}\n",
        "df3 = pd.DataFrame(data)\n",
        "# Seleccionar registros donde A sea 'foo' y B no sea 'three'\n",
        "filtered_df = df3[(df3['A'] == 'foo') & (df3['B'] != 'three')]\n",
        "\n",
        "print(filtered_df)"
      ]
    },
    {
      "cell_type": "markdown",
      "metadata": {
        "id": "lM8CuLwanCFk"
      },
      "source": [
        "<font color='green'>Fin Actividad 4</font>"
      ]
    },
    {
      "cell_type": "markdown",
      "metadata": {
        "id": "vmnHl9sznNt8"
      },
      "source": [
        "### <font color='green'>Actividad 5</font>\n",
        "\n",
        "Dado el siguiente DataFrame:\n",
        "\n",
        "```\n",
        "df4 = pd.DataFrame(np.random.randint(-10, 10, size=(6, 6)), columns=list('ABCDEF'))\n",
        "```\n",
        "\n",
        "Crea una máscara que identifique los valores negativos en el DataFrame y luego reemplace esos valores con su valor absoluto utilizando una función."
      ]
    },
    {
      "cell_type": "code",
      "execution_count": null,
      "metadata": {
        "id": "TBpQQ73-nNt9"
      },
      "outputs": [],
      "source": [
        "# Tu código aquí ...\n"
      ]
    },
    {
      "cell_type": "markdown",
      "metadata": {
        "id": "cVNMHzCBnNt9"
      },
      "source": [
        "<font color='green'>Fin Actividad 5</font>"
      ]
    },
    {
      "cell_type": "markdown",
      "metadata": {
        "id": "fA_awiFLnbHa"
      },
      "source": [
        "### <font color='green'>Actividad 6</font>\n",
        "\n",
        "Dado el siguiente DataFrame:\n",
        "\n",
        "```\n",
        "df5 = pd.DataFrame({\n",
        "    'key': list('ABCDAE'),\n",
        "    'values': [10, 15, 20, 25, 30, 35],\n",
        "    'dates': pd.date_range(start='20230101', periods=6)\n",
        "})\n",
        "```\n",
        "\n",
        "Selecciona las filas con key igual a 'A', pero solo muestra las dos primeras entradas y las columnas a partir de la segunda columna."
      ]
    },
    {
      "cell_type": "code",
      "execution_count": null,
      "metadata": {
        "id": "t5iObhq-nbHa"
      },
      "outputs": [],
      "source": [
        "# Tu código aquí ...\n"
      ]
    },
    {
      "cell_type": "markdown",
      "metadata": {
        "id": "UAAd7DSgnbHa"
      },
      "source": [
        "<font color='green'>Fin Actividad 6</font>"
      ]
    },
    {
      "cell_type": "markdown",
      "metadata": {
        "id": "43g05r7snvQk"
      },
      "source": [
        "### <font color='green'>Actividad 7</font>\n",
        "\n",
        "Dado el siguiente DataFrame:\n",
        "\n",
        "```\n",
        "df6 = pd.DataFrame({\n",
        "    'region': ['North', 'South', 'West', 'East', 'Central', 'North'],\n",
        "    'sales': [320, 234, 489, 278, 213, 389],\n",
        "    'expenses': [245, 267, 248, 310, 190, 245]\n",
        "})\n",
        "```\n",
        "\n",
        "Identifica y selecciona las regiones donde las ventas exceden los gastos por más del 20%."
      ]
    },
    {
      "cell_type": "code",
      "execution_count": null,
      "metadata": {
        "id": "_BThwtHxnvQk"
      },
      "outputs": [],
      "source": [
        "# Tu código aquí ...\n"
      ]
    },
    {
      "cell_type": "markdown",
      "metadata": {
        "id": "yh78uzkrnvQk"
      },
      "source": [
        "<font color='green'>Fin Actividad 7</font>"
      ]
    },
    {
      "cell_type": "markdown",
      "metadata": {
        "id": "yuifhvFaoH-A"
      },
      "source": [
        "<img src=\"https://drive.google.com/uc?export=view&id=1Igtn9UXg6NGeRWsqh4hefQUjV0hmzlBv\" width=\"100\" align=\"left\" title=\"Runa-perth\">\n",
        "<br clear=\"left\">\n",
        "\n",
        "\n",
        "##<font color='red'>**Actividad Avanzada**</font>\n",
        "\n",
        "### <font color='green'>Actividad 8</font>\n",
        "\n",
        "Estás analizando un conjunto de datos de ventas y existencias de una tienda a lo largo del tiempo. Tienes una Serie que representa las fechas en que se realizaron auditorías sorpresa y un DataFrame que contiene registros de ventas diarias, existencias y otros detalles relevantes.\n",
        "\n",
        "El objetivo es inspeccionar cómo se comportaron las ventas y existencias en las fechas cercanas a las auditorías.\n",
        "\n",
        "\n",
        "```\n",
        "# Serie de auditorías\n",
        "audit_dates = pd.Series(pd.to_datetime(['2023-01-15', '2023-03-05', '2023-06-20', '2023-08-25']))\n",
        "\n",
        "# DataFrame de registros\n",
        "dates = pd.date_range('20230101', '20230930', freq='D')\n",
        "data = {\n",
        "    'sales': np.random.randint(50, 200, len(dates)),\n",
        "    'stock': np.random.randint(100, 500, len(dates)),\n",
        "    'returns': np.random.randint(1, 50, len(dates))\n",
        "}\n",
        "df = pd.DataFrame(data, index=dates)\n",
        "```\n",
        "\n",
        "1. Identifica las fechas en las que se realizaron las auditorías utilizando el método isin() en el DataFrame, y muestra las ventas y existencias para esas fechas.\n",
        "2. Usando iloc, selecciona los registros de 2 días antes y 2 días después de cada fecha de auditoría (es decir, una ventana de 5 días para cada auditoría).\n",
        "3. Filtra este resultado para mostrar sólo aquellos días en los que las ventas fueron menores que el promedio de ventas del período y las existencias estaban por encima del promedio.\n",
        "4. Utiliza el método loc para agregar una nueva columna llamada \"audit_period\" al DataFrame original, marcando con True los registros que caen dentro de las ventanas de auditoría y False en caso contrario.\n"
      ]
    },
    {
      "cell_type": "code",
      "execution_count": 57,
      "metadata": {
        "id": "iTTPb2CblLDB"
      },
      "outputs": [
        {
          "name": "stdout",
          "output_type": "stream",
          "text": [
            "            sales  stock  returns\n",
            "2023-01-15    120    352       31\n",
            "2023-03-05    118    426        2\n",
            "2023-06-20    136    494       20\n",
            "2023-08-25    111    341       12\n",
            "            sales  stock  returns\n",
            "2023-01-13    126    392       17\n",
            "2023-01-15    120    352       31\n",
            "2023-01-17    103    445        7\n",
            "2023-03-05    118    426        2\n",
            "2023-06-22     57    408        8\n",
            "2023-08-25    111    341       12\n",
            "2023-08-27    108    491        9\n"
          ]
        }
      ],
      "source": [
        "# Crear la Serie de auditorías\n",
        "audit_dates = pd.Series(pd.to_datetime(['2023-01-15', '2023-03-05', '2023-06-20', '2023-08-25']))\n",
        "\n",
        "# Crear el DataFrame de registros\n",
        "dates = pd.date_range('20230101', '20230930', freq='D')\n",
        "data = {\n",
        "    'sales': np.random.randint(50, 200, len(dates)),\n",
        "    'stock': np.random.randint(100, 500, len(dates)),\n",
        "    'returns': np.random.randint(1, 50, len(dates))\n",
        "}\n",
        "df = pd.DataFrame(data, index=dates)\n",
        "\n",
        "# Identificar las fechas de auditoría en el DataFrame\n",
        "audit_sales_stock = df[df.index.isin(audit_dates)]\n",
        "print(audit_sales_stock)\n",
        "\n",
        "# Inicializar una lista para almacenar los resultados\n",
        "windowed_data = []\n",
        "\n",
        "# Definir la ventana\n",
        "window_size = 2\n",
        "\n",
        "# Iterar sobre las fechas de auditoría\n",
        "for audit_date in audit_dates:\n",
        "    start_date = audit_date - pd.Timedelta(days=window_size)\n",
        "    end_date = audit_date + pd.Timedelta(days=window_size)\n",
        "    windowed_data.append(df.loc[start_date:end_date])\n",
        "\n",
        "# Concatenar todos los DataFrames en uno solo\n",
        "windowed_df = pd.concat(windowed_data)\n",
        "#print(windowed_df)\n",
        "\n",
        "# Calcular el promedio de ventas y existencias en el DataFrame original\n",
        "average_sales = df['sales'].mean()\n",
        "average_stock = df['stock'].mean()\n",
        "\n",
        "# Filtrar los datos en base a las condiciones\n",
        "filtered_data = windowed_df[(windowed_df['sales'] < average_sales) & (windowed_df['stock'] > average_stock)]\n",
        "print(filtered_data)\n",
        "\n",
        "# Crear una columna \"audit_period\" inicializada en False\n",
        "df['audit_period'] = False\n",
        "\n",
        "# Marcar los registros que caen dentro de las ventanas de auditoría\n",
        "for audit_date in audit_dates:\n",
        "    start_date = audit_date - pd.Timedelta(days=window_size)\n",
        "    end_date = audit_date + pd.Timedelta(days=window_size)\n",
        "    df.loc[start_date:end_date, 'audit_period'] = True\n",
        "\n",
        "#print(df)"
      ]
    },
    {
      "cell_type": "markdown",
      "metadata": {
        "id": "WgbOmO5_lLDC"
      },
      "source": [
        "<font color='green'>Fin Actividad 8</font>"
      ]
    },
    {
      "cell_type": "markdown",
      "metadata": {
        "id": "vDJBdwV8mFqI"
      },
      "source": [
        "<img src=\"https://drive.google.com/uc?export=view&id=1Igtn9UXg6NGeRWsqh4hefQUjV0hmzlBv\" width=\"50\" align=\"left\" title=\"Runa-perth\">\n",
        "<br clear=\"left\">"
      ]
    }
  ],
  "metadata": {
    "colab": {
      "provenance": []
    },
    "kernelspec": {
      "display_name": "Python 3",
      "language": "python",
      "name": "python3"
    },
    "language_info": {
      "codemirror_mode": {
        "name": "ipython",
        "version": 3
      },
      "file_extension": ".py",
      "mimetype": "text/x-python",
      "name": "python",
      "nbconvert_exporter": "python",
      "pygments_lexer": "ipython3",
      "version": "3.12.3"
    }
  },
  "nbformat": 4,
  "nbformat_minor": 0
}
