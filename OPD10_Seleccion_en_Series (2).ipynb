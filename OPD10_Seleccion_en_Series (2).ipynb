{
  "cells": [
    {
      "cell_type": "markdown",
      "metadata": {
        "id": "ctKW2tONIgsH"
      },
      "source": [
        "# **Obtención y preparación de datos**\n",
        "\n",
        "# OPD10. Selección en Series"
      ]
    },
    {
      "cell_type": "code",
      "execution_count": 3,
      "metadata": {
        "id": "kIsHsZoQ0STm"
      },
      "outputs": [],
      "source": [
        "import pandas as pd"
      ]
    },
    {
      "cell_type": "markdown",
      "metadata": {
        "id": "t32izxi6HdO6"
      },
      "source": [
        "Un aspecto relativamente complejo involucrado en el uso de las **series** y los **dataframes** -principalmente con esta última estructura- es la extracción o selección de datos. Esta relativa complejidad viene derivada principalmente de la abundancia de alternativas y de las excepciones a la norma que algunas de ellas aparentan ser."
      ]
    },
    {
      "cell_type": "markdown",
      "metadata": {
        "id": "vzLo1tz9H7pv"
      },
      "source": [
        "## <font color='blue'>**Selección de datos en series**</font>\n",
        "\n",
        "Una serie pandas consta de un array de datos y un array de etiquetas (el índice o index). Si al crear la serie no se ha especificado el índice, ya sabemos que se asignará uno implícito por defecto."
      ]
    },
    {
      "cell_type": "code",
      "execution_count": 2,
      "metadata": {
        "id": "beiQPrOdIdVD"
      },
      "outputs": [
        {
          "data": {
            "text/plain": [
              "0    10\n",
              "1    20\n",
              "2    30\n",
              "3    40\n",
              "dtype: int64"
            ]
          },
          "execution_count": 2,
          "metadata": {},
          "output_type": "execute_result"
        }
      ],
      "source": [
        "# Creamos una serie sin un índice explícito\n",
        "s = pd.Series([10, 20, 30, 40])\n",
        "s"
      ]
    },
    {
      "cell_type": "markdown",
      "metadata": {
        "id": "eig1T6vGIooX"
      },
      "source": [
        "Es posible seleccionar los valores haciendo referencia al índice asignado con la misma notación que en un diccionario (la llamada \"notación corchetes\" o \"*square bracket notation*\")."
      ]
    },
    {
      "cell_type": "code",
      "execution_count": 3,
      "metadata": {
        "id": "K5v_nxcaIyJy"
      },
      "outputs": [
        {
          "name": "stdout",
          "output_type": "stream",
          "text": [
            "10\n",
            "30\n"
          ]
        }
      ],
      "source": [
        "print(s[0])\n",
        "print(s[2])"
      ]
    },
    {
      "cell_type": "markdown",
      "metadata": {
        "id": "dTmpe6_EI7FM"
      },
      "source": [
        "Usando esta sintaxis, si no se ha especificado un índice explícito, los índices negativos no están permitidos.\n",
        "\n",
        "Si se asignan índices de forma explícita:"
      ]
    },
    {
      "cell_type": "code",
      "execution_count": 4,
      "metadata": {
        "id": "gqbwyawjQpfT"
      },
      "outputs": [
        {
          "data": {
            "text/plain": [
              "a    10\n",
              "b    20\n",
              "c    30\n",
              "d    40\n",
              "dtype: int64"
            ]
          },
          "execution_count": 4,
          "metadata": {},
          "output_type": "execute_result"
        }
      ],
      "source": [
        "# Volvemos a crear la serie, esta vez con un índice explícito\n",
        "s = pd.Series([10, 20, 30, 40], index = [\"a\", \"b\", \"c\", \"d\"])\n",
        "s"
      ]
    },
    {
      "cell_type": "markdown",
      "metadata": {
        "id": "F5IuYUR5Q2XG"
      },
      "source": [
        "Es posible seleccionar los elementos usando el índice explícito o el implícito:"
      ]
    },
    {
      "cell_type": "code",
      "execution_count": 5,
      "metadata": {
        "id": "c7xe2PmaQ6SW"
      },
      "outputs": [
        {
          "name": "stdout",
          "output_type": "stream",
          "text": [
            "10 10\n"
          ]
        },
        {
          "name": "stderr",
          "output_type": "stream",
          "text": [
            "/var/folders/fp/tnvxk4kn0f55py4tbj00vg5h0000gn/T/ipykernel_6576/4110927180.py:1: FutureWarning: Series.__getitem__ treating keys as positions is deprecated. In a future version, integer keys will always be treated as labels (consistent with DataFrame behavior). To access a value by position, use `ser.iloc[pos]`\n",
            "  print(s[\"a\"], s[0])\n"
          ]
        }
      ],
      "source": [
        "print(s[\"a\"], s[0])"
      ]
    },
    {
      "cell_type": "code",
      "execution_count": 6,
      "metadata": {
        "id": "A8_fPXYHRHLL"
      },
      "outputs": [
        {
          "name": "stdout",
          "output_type": "stream",
          "text": [
            "40 40\n"
          ]
        },
        {
          "name": "stderr",
          "output_type": "stream",
          "text": [
            "/var/folders/fp/tnvxk4kn0f55py4tbj00vg5h0000gn/T/ipykernel_6576/1188722146.py:1: FutureWarning: Series.__getitem__ treating keys as positions is deprecated. In a future version, integer keys will always be treated as labels (consistent with DataFrame behavior). To access a value by position, use `ser.iloc[pos]`\n",
            "  print(s[\"d\"], s[-1])\n"
          ]
        }
      ],
      "source": [
        "print(s[\"d\"], s[-1])"
      ]
    },
    {
      "cell_type": "markdown",
      "metadata": {
        "id": "zD8ZmhYDRL_A"
      },
      "source": [
        "Con esta sintaxis, sí está permitido hacer uso de índices negativos para referirnos a los elementos desde el final de la estructura.\n",
        "\n",
        "Si los índices asignados son números enteros (al igual que las etiquetas del índice implícito), el índice implícito queda desactivado para seleccionar elementos individuales."
      ]
    },
    {
      "cell_type": "code",
      "execution_count": null,
      "metadata": {
        "id": "Eqbu-DDsRP07"
      },
      "outputs": [],
      "source": [
        "s = pd.Series([10, 20, 30, 40], index = [3, 2, 1, 0])\n",
        "s"
      ]
    },
    {
      "cell_type": "code",
      "execution_count": null,
      "metadata": {
        "id": "xcXWDdKxRW1c"
      },
      "outputs": [],
      "source": [
        "s[0]"
      ]
    },
    {
      "cell_type": "markdown",
      "metadata": {
        "id": "_HNuuCtyRnmc"
      },
      "source": [
        "en cuyo caso no es posible usar índices negativos."
      ]
    },
    {
      "cell_type": "code",
      "execution_count": null,
      "metadata": {
        "id": "sq8s1JU9Rpoc"
      },
      "outputs": [],
      "source": [
        "try:\n",
        "  s[-1]\n",
        "except:\n",
        "  print(\"Error\")\n"
      ]
    },
    {
      "cell_type": "markdown",
      "metadata": {
        "id": "vtJrKI1zStSl"
      },
      "source": [
        "También es posible **seleccionar rangos de valores**. De esta forma, si usamos un rango numérico en una serie en la que hemos definido un índice explícito.\n",
        "\n"
      ]
    },
    {
      "cell_type": "code",
      "execution_count": 7,
      "metadata": {
        "id": "ZBmsqJsLSy_B"
      },
      "outputs": [
        {
          "data": {
            "text/plain": [
              "b    20\n",
              "c    30\n",
              "dtype: int64"
            ]
          },
          "execution_count": 7,
          "metadata": {},
          "output_type": "execute_result"
        }
      ],
      "source": [
        "s = pd.Series([10, 20, 30, 40], index = [\"a\", \"b\", \"c\", \"d\"])\n",
        "s[1:3]"
      ]
    },
    {
      "cell_type": "markdown",
      "metadata": {
        "id": "khkk30bzTAXB"
      },
      "source": [
        "Se puede observar que el rango se interpreta como haciendo referencia al índice implícito, y se incluyen los valores desde el primer índice incluido, hasta el último sin incluir.\n",
        "\n",
        "Si no se incluye alguno de los límites, el comportamiento es el estándar en Python (si no se incluye el primer valor, se consideran todos los elementos desde el principio, y si no se incluye el último valor, se consideran todos los elementos hasta el final)."
      ]
    },
    {
      "cell_type": "code",
      "execution_count": 8,
      "metadata": {
        "id": "W51k8yViTIo8"
      },
      "outputs": [
        {
          "data": {
            "text/plain": [
              "b    20\n",
              "c    30\n",
              "d    40\n",
              "dtype: int64"
            ]
          },
          "execution_count": 8,
          "metadata": {},
          "output_type": "execute_result"
        }
      ],
      "source": [
        "s[1:]"
      ]
    },
    {
      "cell_type": "code",
      "execution_count": 9,
      "metadata": {
        "id": "2b-S-EzUTMvm"
      },
      "outputs": [
        {
          "data": {
            "text/plain": [
              "a    10\n",
              "b    20\n",
              "c    30\n",
              "dtype: int64"
            ]
          },
          "execution_count": 9,
          "metadata": {},
          "output_type": "execute_result"
        }
      ],
      "source": [
        "s[:3]"
      ]
    },
    {
      "cell_type": "markdown",
      "metadata": {
        "id": "0InHbyvRTSUN"
      },
      "source": [
        "Para incluir los valores desde el primer índice hasta el último índice, ambos incluidos, se procede de la siguiente manera."
      ]
    },
    {
      "cell_type": "code",
      "execution_count": 10,
      "metadata": {
        "id": "ASRYaT3BBVtC"
      },
      "outputs": [
        {
          "data": {
            "text/plain": [
              "a    10\n",
              "b    20\n",
              "c    30\n",
              "d    40\n",
              "dtype: int64"
            ]
          },
          "execution_count": 10,
          "metadata": {},
          "output_type": "execute_result"
        }
      ],
      "source": [
        "s = pd.Series([10, 20, 30, 40], index = [\"a\", \"b\", \"c\", \"d\"])\n",
        "s"
      ]
    },
    {
      "cell_type": "code",
      "execution_count": 11,
      "metadata": {
        "id": "J_ynaDWeTrnC"
      },
      "outputs": [
        {
          "data": {
            "text/plain": [
              "a    10\n",
              "b    20\n",
              "c    30\n",
              "dtype: int64"
            ]
          },
          "execution_count": 11,
          "metadata": {},
          "output_type": "execute_result"
        }
      ],
      "source": [
        "s[:\"c\"]"
      ]
    },
    {
      "cell_type": "code",
      "execution_count": 12,
      "metadata": {
        "id": "jKgrM0F2Tup8"
      },
      "outputs": [
        {
          "data": {
            "text/plain": [
              "b    20\n",
              "c    30\n",
              "d    40\n",
              "dtype: int64"
            ]
          },
          "execution_count": 12,
          "metadata": {},
          "output_type": "execute_result"
        }
      ],
      "source": [
        "s[\"b\":]"
      ]
    },
    {
      "cell_type": "markdown",
      "metadata": {
        "id": "p8ODyK3aTzwe"
      },
      "source": [
        "Una posible fuente de confusión viene derivada del hecho de que, usando rangos, es posible hacer referencia tanto a las etiquetas como a los índices numéricos. Si se utilizaron etiquetas, se debe hacer referencia a las etiquetas."
      ]
    },
    {
      "cell_type": "code",
      "execution_count": 13,
      "metadata": {
        "id": "Y7IwzeKeT9Z0"
      },
      "outputs": [
        {
          "data": {
            "text/plain": [
              "b    20\n",
              "c    30\n",
              "dtype: int64"
            ]
          },
          "execution_count": 13,
          "metadata": {},
          "output_type": "execute_result"
        }
      ],
      "source": [
        "s = pd.Series([10, 20, 30, 40], index = [\"a\", \"b\", \"c\", \"d\"])\n",
        "s[\"b\":\"c\"]"
      ]
    },
    {
      "cell_type": "markdown",
      "metadata": {
        "id": "dmeHdYRfUFxF"
      },
      "source": [
        "Si utilizamos números, hacemos referencia a los índices numéricos."
      ]
    },
    {
      "cell_type": "code",
      "execution_count": 14,
      "metadata": {
        "id": "T9mqNpmBUJdQ"
      },
      "outputs": [
        {
          "data": {
            "text/plain": [
              "b    20\n",
              "c    30\n",
              "dtype: int64"
            ]
          },
          "execution_count": 14,
          "metadata": {},
          "output_type": "execute_result"
        }
      ],
      "source": [
        "s[1:3]"
      ]
    },
    {
      "cell_type": "markdown",
      "metadata": {
        "id": "w_UOm1YwUNEb"
      },
      "source": [
        "¿Y qué ocurre si nuestras etiquetas son números? siempre que se usen rangos con números se estará haciendo referencia a los índices numéricos. No es posible hacer referencia a las etiquetas."
      ]
    },
    {
      "cell_type": "code",
      "execution_count": null,
      "metadata": {
        "id": "qVmKKKRoUX5C"
      },
      "outputs": [],
      "source": [
        "s = pd.Series([10, 20, 30, 40], index = [3, 2, 1, 0])\n",
        "s[1:3]"
      ]
    },
    {
      "cell_type": "code",
      "execution_count": null,
      "metadata": {
        "id": "ajadB0tYUqqq"
      },
      "outputs": [],
      "source": [
        "s[1]"
      ]
    },
    {
      "cell_type": "markdown",
      "metadata": {
        "id": "SLbYOOaaUuB5"
      },
      "source": [
        "En el caso anterior, se devolvió el valor cuya etiqueta es 1 (si existe), o el valor cuya posición es 1 si dicha etiqueta no existe y el índice explícito no es numérico.\n"
      ]
    },
    {
      "cell_type": "code",
      "execution_count": null,
      "metadata": {
        "id": "v3811pcQVIL7"
      },
      "outputs": [],
      "source": [
        "s = pd.Series([10, 20, 30, 40], index = [\"a\", \"b\", \"c\", \"d\"])\n",
        "s[1]"
      ]
    },
    {
      "cell_type": "markdown",
      "metadata": {
        "id": "sigAtZvbVNab"
      },
      "source": [
        "### Los métodos `loc` e `iloc`\n",
        "Es debido a esto que existen los métodos `loc` e `iloc`. Estos métodos hacen una referencia explícita a etiquetas o posiciones, respectivamente, eliminando cualquier duda al respecto de su interpretación."
      ]
    },
    {
      "cell_type": "markdown",
      "metadata": {
        "id": "7xoGRbRuVi1I"
      },
      "source": [
        "Al igual que con los array NumPy, es posible seleccionar datos de una serie utilizando una **lista de valores**."
      ]
    },
    {
      "cell_type": "code",
      "execution_count": 15,
      "metadata": {
        "id": "fLVeQhcnVsK8"
      },
      "outputs": [
        {
          "name": "stderr",
          "output_type": "stream",
          "text": [
            "/var/folders/fp/tnvxk4kn0f55py4tbj00vg5h0000gn/T/ipykernel_6576/2949314138.py:1: FutureWarning: Series.__getitem__ treating keys as positions is deprecated. In a future version, integer keys will always be treated as labels (consistent with DataFrame behavior). To access a value by position, use `ser.iloc[pos]`\n",
            "  s[[3,1]]\n"
          ]
        },
        {
          "data": {
            "text/plain": [
              "d    40\n",
              "b    20\n",
              "dtype: int64"
            ]
          },
          "execution_count": 15,
          "metadata": {},
          "output_type": "execute_result"
        }
      ],
      "source": [
        "s[[3,1]]"
      ]
    },
    {
      "cell_type": "markdown",
      "metadata": {
        "id": "wMYTAVl2VzgK"
      },
      "source": [
        "En este ejemplo, la lista contiene los números 3 y 1, y son los valores correspondientes a estos índices -y en el orden especificado- los devueltos por la instrucción.\n",
        "\n",
        "El resultado devuelto sigue siendo una serie pandas."
      ]
    },
    {
      "cell_type": "code",
      "execution_count": 16,
      "metadata": {
        "id": "a4Rk8TVmV3P_"
      },
      "outputs": [
        {
          "name": "stderr",
          "output_type": "stream",
          "text": [
            "/var/folders/fp/tnvxk4kn0f55py4tbj00vg5h0000gn/T/ipykernel_6576/611858255.py:1: FutureWarning: Series.__getitem__ treating keys as positions is deprecated. In a future version, integer keys will always be treated as labels (consistent with DataFrame behavior). To access a value by position, use `ser.iloc[pos]`\n",
            "  type(s[[3,1]])\n"
          ]
        },
        {
          "data": {
            "text/plain": [
              "pandas.core.series.Series"
            ]
          },
          "execution_count": 16,
          "metadata": {},
          "output_type": "execute_result"
        }
      ],
      "source": [
        "type(s[[3,1]])"
      ]
    },
    {
      "cell_type": "markdown",
      "metadata": {
        "id": "rO9LMyQqV_mt"
      },
      "source": [
        "Con esta notación, en el caso de que la serie tenga un índice explícito numérico, los valores de la lista se interpretan como haciendo referencia al índice explícito."
      ]
    },
    {
      "cell_type": "markdown",
      "metadata": {
        "id": "mUzTggYjWHzh"
      },
      "source": [
        "También es posible usar el método `pandas.Series.get` para extraer un valor de forma segura."
      ]
    },
    {
      "cell_type": "code",
      "execution_count": 17,
      "metadata": {
        "id": "5I9UI-LbXYCT"
      },
      "outputs": [
        {
          "name": "stderr",
          "output_type": "stream",
          "text": [
            "/var/folders/fp/tnvxk4kn0f55py4tbj00vg5h0000gn/T/ipykernel_6576/1480804646.py:1: FutureWarning: Series.__getitem__ treating keys as positions is deprecated. In a future version, integer keys will always be treated as labels (consistent with DataFrame behavior). To access a value by position, use `ser.iloc[pos]`\n",
            "  s.get(2)\n"
          ]
        },
        {
          "data": {
            "text/plain": [
              "np.int64(30)"
            ]
          },
          "execution_count": 17,
          "metadata": {},
          "output_type": "execute_result"
        }
      ],
      "source": [
        "s.get(2)"
      ]
    },
    {
      "cell_type": "markdown",
      "metadata": {
        "id": "Y74BkVMQXhXC"
      },
      "source": [
        "Si la clave indicada no existe, la función devuelve *None* por defecto (es posible personalizar este valor con el parámetro `default`)."
      ]
    },
    {
      "cell_type": "code",
      "execution_count": null,
      "metadata": {
        "id": "zjV19jiRXbp2"
      },
      "outputs": [],
      "source": [
        "s.get(7)"
      ]
    },
    {
      "cell_type": "code",
      "execution_count": null,
      "metadata": {
        "id": "_-sXtungdvnE"
      },
      "outputs": [],
      "source": [
        "s.get(7, default=0)"
      ]
    },
    {
      "cell_type": "markdown",
      "metadata": {
        "id": "xrizVGp3XmCL"
      },
      "source": [
        "Las series pandas y los dataframes disponen de los versátiles métodos `loc` e `iloc`.\n",
        "\n",
        "El método `pandas.Series.loc` permite __seleccionar un grupo de elementos por etiquetas__.\n",
        "\n",
        "Como argumento de este método puede utilizarse una única etiqueta."
      ]
    },
    {
      "cell_type": "code",
      "execution_count": 18,
      "metadata": {
        "id": "jIUOFzGvXz-T"
      },
      "outputs": [
        {
          "data": {
            "text/plain": [
              "np.int64(20)"
            ]
          },
          "execution_count": 18,
          "metadata": {},
          "output_type": "execute_result"
        }
      ],
      "source": [
        "s = pd.Series([10, 20, 30, 40], index = [\"a\", \"b\", \"c\", \"d\"])\n",
        "s.loc[\"b\"]"
      ]
    },
    {
      "cell_type": "markdown",
      "metadata": {
        "id": "IcqbjeRCiEkh"
      },
      "source": [
        "Tal como dijimos, `loc` buscará el argumento en las etiquetas explícitas, no en el índice implícito, aún cuando éste exista."
      ]
    },
    {
      "cell_type": "code",
      "execution_count": 19,
      "metadata": {
        "id": "5gINdNkiX_09"
      },
      "outputs": [
        {
          "name": "stdout",
          "output_type": "stream",
          "text": [
            "Mapping key not found.\n",
            "KeyError\n"
          ]
        }
      ],
      "source": [
        "try:\n",
        "    s.loc[0]\n",
        "except Exception as e:\n",
        "    print(e.__doc__)\n",
        "    print(type(e).__name__)"
      ]
    },
    {
      "cell_type": "code",
      "execution_count": 20,
      "metadata": {
        "id": "anjF-4BkFWIT"
      },
      "outputs": [
        {
          "data": {
            "text/plain": [
              "0    10\n",
              "1    20\n",
              "2    30\n",
              "3    40\n",
              "dtype: int64"
            ]
          },
          "execution_count": 20,
          "metadata": {},
          "output_type": "execute_result"
        }
      ],
      "source": [
        "s = pd.Series([10, 20, 30, 40])\n",
        "s"
      ]
    },
    {
      "cell_type": "code",
      "execution_count": 21,
      "metadata": {
        "id": "ETvSm3-ZFAXC"
      },
      "outputs": [
        {
          "data": {
            "text/plain": [
              "np.int64(10)"
            ]
          },
          "execution_count": 21,
          "metadata": {},
          "output_type": "execute_result"
        }
      ],
      "source": [
        "s.loc[0]"
      ]
    },
    {
      "cell_type": "markdown",
      "metadata": {
        "id": "2TwLtOvbX76w"
      },
      "source": [
        "En este caso el argumento se interpreta siempre como etiqueta del índice, nunca como posición en dicho índice aun cuando se pase un número entero que no pertenece al conjunto de etiquetas y pueda representar una posición válida. Veamos a continuación si el índice explícito es numérico."
      ]
    },
    {
      "cell_type": "code",
      "execution_count": 22,
      "metadata": {
        "id": "NbIyULixjGSU"
      },
      "outputs": [
        {
          "name": "stdout",
          "output_type": "stream",
          "text": [
            "Mapping key not found.\n",
            "KeyError\n"
          ]
        }
      ],
      "source": [
        "s = pd.Series([10, 20, 30, 40], index = [1, 2, 3, 4])\n",
        "try:\n",
        "    s.loc[0]\n",
        "except Exception as e:\n",
        "    print(e.__doc__)\n",
        "    print(type(e).__name__)"
      ]
    },
    {
      "cell_type": "markdown",
      "metadata": {
        "id": "JbnOfaa9YGbW"
      },
      "source": [
        "También podemos pasar al método una lista de etiquetas, en cuyo caso se extraen los valores correspondientes a dichas etiquetas y en el orden en el que se incluyen en la lista."
      ]
    },
    {
      "cell_type": "code",
      "execution_count": 23,
      "metadata": {
        "id": "YLUnExtsYJ9t"
      },
      "outputs": [
        {
          "data": {
            "text/plain": [
              "d    40\n",
              "a    10\n",
              "dtype: int64"
            ]
          },
          "execution_count": 23,
          "metadata": {},
          "output_type": "execute_result"
        }
      ],
      "source": [
        "s = pd.Series([10, 20, 30, 40], index = [\"a\", \"b\", \"c\", \"d\"])\n",
        "s.loc[[\"d\", \"a\"]]"
      ]
    },
    {
      "cell_type": "markdown",
      "metadata": {
        "id": "CvPXW0ayYQnP"
      },
      "source": [
        "Otra opción es pasar al método un rango."
      ]
    },
    {
      "cell_type": "code",
      "execution_count": 24,
      "metadata": {
        "id": "Rod6jAzFYR8y"
      },
      "outputs": [
        {
          "data": {
            "text/plain": [
              "b    20\n",
              "c    30\n",
              "d    40\n",
              "dtype: int64"
            ]
          },
          "execution_count": 24,
          "metadata": {},
          "output_type": "execute_result"
        }
      ],
      "source": [
        "s[\"b\":\"d\"]"
      ]
    },
    {
      "cell_type": "markdown",
      "metadata": {
        "id": "he1XSX-UYWPz"
      },
      "source": [
        "En este caso es importante recalcar que, tal y como se ve en la imagen anterior, el método va a devolver todos los elementos entre los límites indicados **ambos incluidos**."
      ]
    },
    {
      "cell_type": "markdown",
      "metadata": {
        "id": "dLw541xRYlrf"
      },
      "source": [
        "El método `pandas.Series.iloc` __permite extraer datos de la serie a partir de los índices implícitos__ que éstos tienen asignados.\n",
        "\n",
        "La opción más simple es utilizar como argumento un número entero (el primer elemento de la serie recibe el índice cero)."
      ]
    },
    {
      "cell_type": "code",
      "execution_count": 25,
      "metadata": {
        "id": "V_xhy_SiY0tz"
      },
      "outputs": [
        {
          "data": {
            "text/plain": [
              "a    10\n",
              "b    20\n",
              "c    30\n",
              "d    40\n",
              "dtype: int64"
            ]
          },
          "execution_count": 25,
          "metadata": {},
          "output_type": "execute_result"
        }
      ],
      "source": [
        "s = pd.Series([10, 20, 30, 40], index = [\"a\", \"b\", \"c\", \"d\"])\n",
        "s"
      ]
    },
    {
      "cell_type": "code",
      "execution_count": 26,
      "metadata": {
        "id": "v8CniW4jSO2D"
      },
      "outputs": [
        {
          "data": {
            "text/plain": [
              "np.int64(20)"
            ]
          },
          "execution_count": 26,
          "metadata": {},
          "output_type": "execute_result"
        }
      ],
      "source": [
        "s.iloc[1]"
      ]
    },
    {
      "cell_type": "code",
      "execution_count": null,
      "metadata": {
        "id": "_RpsJB34Y4rd"
      },
      "outputs": [],
      "source": [
        "s.iloc[0]"
      ]
    },
    {
      "cell_type": "markdown",
      "metadata": {
        "id": "M5OqR96-lVIf"
      },
      "source": [
        "`iloc` no funciona utilizando como argumento valores del índice explícito."
      ]
    },
    {
      "cell_type": "code",
      "execution_count": null,
      "metadata": {
        "id": "QQImgUmdSkKS"
      },
      "outputs": [],
      "source": [
        "try:\n",
        "    s.iloc[\"a\"]\n",
        "except Exception as e:\n",
        "    print(e.__doc__)\n",
        "    print(type(e).__name__)"
      ]
    },
    {
      "cell_type": "code",
      "execution_count": null,
      "metadata": {
        "id": "V7qvYlX8Y7Q3"
      },
      "outputs": [],
      "source": [
        "s.iloc[3]"
      ]
    },
    {
      "cell_type": "markdown",
      "metadata": {
        "id": "e_x6AdCrY-6_"
      },
      "source": [
        "Si el número es negativo, hace referencia al final de la serie (en este caso, el último elemento recibe el índice -1). Esto tanto si se ha especificado un índice explícito como si no."
      ]
    },
    {
      "cell_type": "code",
      "execution_count": null,
      "metadata": {
        "id": "XfLNkIpqZDBs"
      },
      "outputs": [],
      "source": [
        "s.iloc[-1]"
      ]
    },
    {
      "cell_type": "code",
      "execution_count": 27,
      "metadata": {
        "id": "qQsLE6nMZF7s"
      },
      "outputs": [
        {
          "data": {
            "text/plain": [
              "np.int64(10)"
            ]
          },
          "execution_count": 27,
          "metadata": {},
          "output_type": "execute_result"
        }
      ],
      "source": [
        "s.iloc[-4]"
      ]
    },
    {
      "cell_type": "markdown",
      "metadata": {
        "id": "I-kyjji-ZKjU"
      },
      "source": [
        "Una segunda opción es pasar como argumento una lista o array de números, en cuyo caso se devuelven los elementos que ocupan dichas posiciones en el orden indicado en la lista o array."
      ]
    },
    {
      "cell_type": "code",
      "execution_count": 28,
      "metadata": {
        "id": "poYlpdZpZNR5"
      },
      "outputs": [
        {
          "data": {
            "text/plain": [
              "c    30\n",
              "a    10\n",
              "dtype: int64"
            ]
          },
          "execution_count": 28,
          "metadata": {},
          "output_type": "execute_result"
        }
      ],
      "source": [
        "# Fijense el doble corchete. El par interior corresponde a una lista\n",
        "s.iloc[[2, 0]]"
      ]
    },
    {
      "cell_type": "markdown",
      "metadata": {
        "id": "0H6OQG3QZRim"
      },
      "source": [
        "También podemos incluir en esta lista números negativos."
      ]
    },
    {
      "cell_type": "code",
      "execution_count": null,
      "metadata": {
        "id": "U63NAWMIZUAP"
      },
      "outputs": [],
      "source": [
        "s.iloc[[-2, 0]]"
      ]
    },
    {
      "cell_type": "markdown",
      "metadata": {
        "id": "m7ZNzG2ul1nP"
      },
      "source": [
        "Atención con no incluir valores que no estén en el índice."
      ]
    },
    {
      "cell_type": "code",
      "execution_count": null,
      "metadata": {
        "id": "RD51aea6l9th"
      },
      "outputs": [],
      "source": [
        "try:\n",
        "    s.iloc[2, 0, 5]\n",
        "except Exception as e:\n",
        "    print(e.__doc__)\n",
        "    print(type(e).__name__)"
      ]
    },
    {
      "cell_type": "markdown",
      "metadata": {
        "id": "7b0rsm2YZe-c"
      },
      "source": [
        "Una tercera opción es usar como argumento un rango de números."
      ]
    },
    {
      "cell_type": "code",
      "execution_count": 29,
      "metadata": {
        "id": "HUirIy4SZgt4"
      },
      "outputs": [
        {
          "data": {
            "text/plain": [
              "b    20\n",
              "c    30\n",
              "dtype: int64"
            ]
          },
          "execution_count": 29,
          "metadata": {},
          "output_type": "execute_result"
        }
      ],
      "source": [
        "s.iloc[1:3]"
      ]
    },
    {
      "cell_type": "markdown",
      "metadata": {
        "id": "f654ggS7Zkee"
      },
      "source": [
        "Si el rango tiene la forma $a:b$, se incluyen todos los elementos desde aquel cuyo índice es $a$ (incluido) hasta el que tiene el índice $b$ (sin incluir).\n",
        "\n",
        "Si no se especifica el primer valor, se consideran todos los elementos desde el principio de la serie.\n",
        "\n"
      ]
    },
    {
      "cell_type": "code",
      "execution_count": null,
      "metadata": {
        "id": "bWE419TmZpcM"
      },
      "outputs": [],
      "source": [
        "s.iloc[:3]"
      ]
    },
    {
      "cell_type": "markdown",
      "metadata": {
        "id": "VcZaxoDaZtZN"
      },
      "source": [
        "Y, si no se especifica el segundo valor, se consideran todos los elementos hasta el final de la serie."
      ]
    },
    {
      "cell_type": "code",
      "execution_count": null,
      "metadata": {
        "id": "eM4ZWmrCd6R0"
      },
      "outputs": [],
      "source": [
        "s.iloc[2:]"
      ]
    },
    {
      "cell_type": "markdown",
      "metadata": {
        "id": "Ppy17dAvd-Rt"
      },
      "source": [
        "También pueden usarse valores negativos para indicar el comienzo y/o el final del rango."
      ]
    },
    {
      "cell_type": "code",
      "execution_count": null,
      "metadata": {
        "id": "3JP3h7zgeBfc"
      },
      "outputs": [],
      "source": [
        "s.iloc[1:-1]"
      ]
    },
    {
      "cell_type": "markdown",
      "metadata": {
        "id": "CiA9HoiTeJbE"
      },
      "source": [
        "Otra opción para seleccionar elementos de una serie pandas es **usar arrays booleanos**."
      ]
    },
    {
      "cell_type": "code",
      "execution_count": 30,
      "metadata": {
        "id": "MwVYQ-lDePVW"
      },
      "outputs": [
        {
          "data": {
            "text/plain": [
              "0    5\n",
              "1    2\n",
              "2   -3\n",
              "3    7\n",
              "4    8\n",
              "5    4\n",
              "dtype: int64"
            ]
          },
          "execution_count": 30,
          "metadata": {},
          "output_type": "execute_result"
        }
      ],
      "source": [
        "s = pd.Series([5, 2, -3, 7, 8, 4])\n",
        "s"
      ]
    },
    {
      "cell_type": "markdown",
      "metadata": {
        "id": "Yxp1oFTOeYeG"
      },
      "source": [
        "Podemos seleccionar un conjunto de valores de la misma haciendo referencia al nombre de la serie y, entre los corchetes, una lista o array de booleanos."
      ]
    },
    {
      "cell_type": "code",
      "execution_count": 32,
      "metadata": {
        "id": "sric0kdBecnP"
      },
      "outputs": [
        {
          "data": {
            "text/plain": [
              "0    5\n",
              "3    7\n",
              "4    8\n",
              "dtype: int64"
            ]
          },
          "execution_count": 32,
          "metadata": {},
          "output_type": "execute_result"
        }
      ],
      "source": [
        "s[[True, False, False, True, True, False]]"
      ]
    },
    {
      "cell_type": "markdown",
      "metadata": {
        "id": "MuKP2Nhaembe"
      },
      "source": [
        "En este caso hemos seleccionado los elementos cuyos índices son 0, 3 y 4, que son los índices que ocupan los booleanos `True` en la lista de booleanos usada (lista cuya longitud deberá ser igual a la longitud de la serie pues, de no ser así, se devuelve un error).\n",
        "\n",
        "Esta lista o array de booleanos no tiene por qué ser especificada de forma explícita, puede ser el resultado de una expresión."
      ]
    },
    {
      "cell_type": "code",
      "execution_count": 33,
      "metadata": {
        "id": "czUGkzrvT3u5"
      },
      "outputs": [
        {
          "data": {
            "text/plain": [
              "0    5\n",
              "1    2\n",
              "2   -3\n",
              "3    7\n",
              "4    8\n",
              "5    4\n",
              "dtype: int64"
            ]
          },
          "execution_count": 33,
          "metadata": {},
          "output_type": "execute_result"
        }
      ],
      "source": [
        "s = pd.Series([5, 2, -3, 7, 8, 4])\n",
        "s"
      ]
    },
    {
      "cell_type": "markdown",
      "metadata": {
        "id": "TDfG7hZoe19Z"
      },
      "source": [
        "Aquí, hemos usado la expresión $s > 2$ para generar una serie pandas de booleanos, serie en la que los valores toman el valor `True` cuando el valor con el mismo índice de $s$ toma un valor mayor estricto que 2.\n",
        "\n",
        "Podemos entonces usar este resultado para extraer valores de la serie $s$."
      ]
    },
    {
      "cell_type": "code",
      "execution_count": 34,
      "metadata": {
        "id": "2RvbLR2yes3X"
      },
      "outputs": [
        {
          "name": "stdout",
          "output_type": "stream",
          "text": [
            "<class 'pandas.core.series.Series'>\n"
          ]
        },
        {
          "data": {
            "text/plain": [
              "0     True\n",
              "1    False\n",
              "2    False\n",
              "3     True\n",
              "4     True\n",
              "5     True\n",
              "dtype: bool"
            ]
          },
          "execution_count": 34,
          "metadata": {},
          "output_type": "execute_result"
        }
      ],
      "source": [
        "print(type(s > 2))\n",
        "s > 2"
      ]
    },
    {
      "cell_type": "code",
      "execution_count": 35,
      "metadata": {
        "id": "ZeC32QuFe_Cq"
      },
      "outputs": [
        {
          "data": {
            "text/plain": [
              "0    5\n",
              "3    7\n",
              "4    8\n",
              "5    4\n",
              "dtype: int64"
            ]
          },
          "execution_count": 35,
          "metadata": {},
          "output_type": "execute_result"
        }
      ],
      "source": [
        "s[s>2]"
      ]
    },
    {
      "cell_type": "markdown",
      "metadata": {
        "id": "5yMOdPgafHwb"
      },
      "source": [
        "Este mismo enfoque puede ser usado con los métodos `pandas.Series.loc` y `pandas.Series.iloc` ya vistos en las secciones anteriores con algún matiz adicional.\n",
        "\n",
        "El método loc puede ser usado tanto con un array explícito de booleanos:"
      ]
    },
    {
      "cell_type": "code",
      "execution_count": 36,
      "metadata": {
        "id": "9Ntst4-0fNHi"
      },
      "outputs": [
        {
          "data": {
            "text/plain": [
              "0    5\n",
              "3    7\n",
              "4    8\n",
              "5    4\n",
              "dtype: int64"
            ]
          },
          "execution_count": 36,
          "metadata": {},
          "output_type": "execute_result"
        }
      ],
      "source": [
        "s.loc[[True, False, False, True, True, True]]"
      ]
    },
    {
      "cell_type": "markdown",
      "metadata": {
        "id": "VaqpF4FMfVW5"
      },
      "source": [
        "o como con una expresión que genera, por ejemplo, una serie pandas de booleanos:"
      ]
    },
    {
      "cell_type": "code",
      "execution_count": 37,
      "metadata": {
        "id": "Mw7isiFbfcsH"
      },
      "outputs": [
        {
          "data": {
            "text/plain": [
              "0    5\n",
              "3    7\n",
              "4    8\n",
              "5    4\n",
              "dtype: int64"
            ]
          },
          "execution_count": 37,
          "metadata": {},
          "output_type": "execute_result"
        }
      ],
      "source": [
        "s.loc[s>2]"
      ]
    },
    {
      "cell_type": "markdown",
      "metadata": {
        "id": "_ZafIx6LfheP"
      },
      "source": [
        "Sin embargo, el método `iloc` tiene un comportamiento ligeramente diferente. Puede ser usado con arrays explícitos de booleanos:"
      ]
    },
    {
      "cell_type": "code",
      "execution_count": 39,
      "metadata": {
        "id": "UNyXSEQGfjfV"
      },
      "outputs": [
        {
          "data": {
            "text/plain": [
              "0    5\n",
              "3    7\n",
              "4    8\n",
              "5    4\n",
              "dtype: int64"
            ]
          },
          "execution_count": 39,
          "metadata": {},
          "output_type": "execute_result"
        }
      ],
      "source": [
        "s.iloc[[True, False, False, True, True, True]]"
      ]
    },
    {
      "cell_type": "markdown",
      "metadata": {
        "id": "ee6xyrEafn6N"
      },
      "source": [
        "Pero el uso de expresiones que generen una serie pandas de booleanos devuelve un error:"
      ]
    },
    {
      "cell_type": "code",
      "execution_count": 40,
      "metadata": {
        "id": "PvsoA-qKq4t_"
      },
      "outputs": [
        {
          "name": "stdout",
          "output_type": "stream",
          "text": [
            "<class 'pandas.core.series.Series'>\n"
          ]
        },
        {
          "data": {
            "text/plain": [
              "0     True\n",
              "1    False\n",
              "2    False\n",
              "3     True\n",
              "4     True\n",
              "5     True\n",
              "dtype: bool"
            ]
          },
          "execution_count": 40,
          "metadata": {},
          "output_type": "execute_result"
        }
      ],
      "source": [
        "# Esta operación genera una serie\n",
        "print(type(s>2))\n",
        "s>2"
      ]
    },
    {
      "cell_type": "code",
      "execution_count": 41,
      "metadata": {
        "id": "uroKGS23fqxl"
      },
      "outputs": [
        {
          "name": "stdout",
          "output_type": "stream",
          "text": [
            "Method or function hasn't been implemented yet.\n",
            "NotImplementedError\n"
          ]
        }
      ],
      "source": [
        "try:\n",
        "    s.iloc[s>2]\n",
        "except Exception as e:\n",
        "    print(e.__doc__)\n",
        "    print(type(e).__name__)"
      ]
    },
    {
      "cell_type": "markdown",
      "metadata": {
        "id": "D6YUQajYfwMJ"
      },
      "source": [
        "Si el objeto que está generando la estructura de booleanos ($s$, en $s > 2$) fuese un array NumPy en lugar de tratarse de una serie pandas, sí sería posible usar el método .iloc. De esta forma, la expresión $s > 2$ genera, como hemos visto, una serie pandas, pero podemos extraer los valores con el atributo values, que genera un array numpy."
      ]
    },
    {
      "cell_type": "code",
      "execution_count": 42,
      "metadata": {
        "id": "Va7gQgP8f52D"
      },
      "outputs": [
        {
          "data": {
            "text/plain": [
              "numpy.ndarray"
            ]
          },
          "execution_count": 42,
          "metadata": {},
          "output_type": "execute_result"
        }
      ],
      "source": [
        "type((s>2).values)"
      ]
    },
    {
      "cell_type": "code",
      "execution_count": 43,
      "metadata": {
        "id": "2JNZJ9gxf-89"
      },
      "outputs": [
        {
          "data": {
            "text/plain": [
              "array([ True, False, False,  True,  True,  True])"
            ]
          },
          "execution_count": 43,
          "metadata": {},
          "output_type": "execute_result"
        }
      ],
      "source": [
        "(s>2).values"
      ]
    },
    {
      "cell_type": "markdown",
      "metadata": {
        "id": "BmQRS6q7gERa"
      },
      "source": [
        "Si usamos esta expresión para realizar la selección en la serie original $s$, el resultado es ahora el correcto."
      ]
    },
    {
      "cell_type": "code",
      "execution_count": 44,
      "metadata": {
        "id": "LNPyi_9fgH35"
      },
      "outputs": [
        {
          "data": {
            "text/plain": [
              "0    5\n",
              "3    7\n",
              "4    8\n",
              "5    4\n",
              "dtype: int64"
            ]
          },
          "execution_count": 44,
          "metadata": {},
          "output_type": "execute_result"
        }
      ],
      "source": [
        "s.iloc[(s>2).values]"
      ]
    },
    {
      "cell_type": "markdown",
      "metadata": {
        "id": "NtnyRfCI_92G"
      },
      "source": [
        "Misma cosa ocurre si convertimos la serie en una lista."
      ]
    },
    {
      "cell_type": "code",
      "execution_count": 45,
      "metadata": {
        "id": "Qqa0DQxs_3GE"
      },
      "outputs": [
        {
          "data": {
            "text/plain": [
              "0    5\n",
              "3    7\n",
              "4    8\n",
              "5    4\n",
              "dtype: int64"
            ]
          },
          "execution_count": 45,
          "metadata": {},
          "output_type": "execute_result"
        }
      ],
      "source": [
        "s.iloc[list((s>2))]"
      ]
    },
    {
      "cell_type": "markdown",
      "metadata": {
        "id": "ivxyAImIgNKo"
      },
      "source": [
        "**Es por ello que pandas recomienda usar el método loc cuando trabajemos con selección basada en booleanos.**"
      ]
    },
    {
      "cell_type": "markdown",
      "metadata": {
        "id": "FrwhlC2AgyOC"
      },
      "source": [
        "También podemos realizar una selección aleatoria a partir de una serie. El método `pandas.Series.sample` permite especificar o bien el número de elementos a extraer o bien la fracción del número total de elementos a extraer (parámetros `n` y `frac`, respectivamente), pudiendo especificar si la extracción se realiza con reemplazo o no (parámetro `replace`), los pesos a aplicar a cada elemento para realizar una extracción aleatoria ponderada (parámetro `weights`, y una semilla para el generador de números aleatorios que asegure la reproducibilidad de la extracción (parámetro `random_state`)."
      ]
    },
    {
      "cell_type": "code",
      "execution_count": 4,
      "metadata": {
        "id": "sE9igLqJhDxS"
      },
      "outputs": [
        {
          "data": {
            "text/plain": [
              "a    10\n",
              "b    20\n",
              "c    30\n",
              "d    40\n",
              "dtype: int64"
            ]
          },
          "execution_count": 4,
          "metadata": {},
          "output_type": "execute_result"
        }
      ],
      "source": [
        "s = pd.Series([10, 20, 30, 40], index = [\"a\", \"b\", \"c\", \"d\"])\n",
        "s"
      ]
    },
    {
      "cell_type": "code",
      "execution_count": 5,
      "metadata": {
        "id": "rPthyFu4U24v"
      },
      "outputs": [
        {
          "data": {
            "text/plain": [
              "d    40\n",
              "b    20\n",
              "a    10\n",
              "dtype: int64"
            ]
          },
          "execution_count": 5,
          "metadata": {},
          "output_type": "execute_result"
        }
      ],
      "source": [
        "s.sample(3, random_state = 18)"
      ]
    },
    {
      "cell_type": "code",
      "execution_count": 6,
      "metadata": {
        "id": "ksytj3r1hQ4w"
      },
      "outputs": [
        {
          "data": {
            "text/plain": [
              "d    40\n",
              "b    20\n",
              "dtype: int64"
            ]
          },
          "execution_count": 6,
          "metadata": {},
          "output_type": "execute_result"
        }
      ],
      "source": [
        "s.sample(frac = 0.6, random_state = 18)"
      ]
    },
    {
      "cell_type": "markdown",
      "metadata": {
        "id": "r0iuYR-ihbmd"
      },
      "source": [
        "Si no hay reemplazo, el número máximo de elementos que podemos extraer coincide con la longitud de la serie. Pero si la extracción la realizamos con reemplazo, podemos especificar cualquier número de elementos."
      ]
    },
    {
      "cell_type": "code",
      "execution_count": 7,
      "metadata": {
        "id": "4_R3Y04-he8I"
      },
      "outputs": [
        {
          "data": {
            "text/plain": [
              "c    30\n",
              "d    40\n",
              "a    10\n",
              "b    20\n",
              "c    30\n",
              "b    20\n",
              "c    30\n",
              "c    30\n",
              "c    30\n",
              "a    10\n",
              "dtype: int64"
            ]
          },
          "execution_count": 7,
          "metadata": {},
          "output_type": "execute_result"
        }
      ],
      "source": [
        "s.sample(10, random_state = 18, replace = True)"
      ]
    },
    {
      "cell_type": "markdown",
      "metadata": {
        "id": "HackOFgShr4U"
      },
      "source": [
        "El método `pandas.Series.pop` extrae y elimina un elemento de una serie cuyo índice se indica como argumento."
      ]
    },
    {
      "cell_type": "code",
      "execution_count": 8,
      "metadata": {
        "id": "3Jt-phhqhxSq"
      },
      "outputs": [
        {
          "data": {
            "text/plain": [
              "0    1\n",
              "1    2\n",
              "2    3\n",
              "3    4\n",
              "dtype: int64"
            ]
          },
          "execution_count": 8,
          "metadata": {},
          "output_type": "execute_result"
        }
      ],
      "source": [
        "s = pd.Series([1, 2, 3, 4])\n",
        "s"
      ]
    },
    {
      "cell_type": "code",
      "execution_count": 9,
      "metadata": {
        "id": "dSG2ld_oVREQ"
      },
      "outputs": [
        {
          "data": {
            "text/plain": [
              "np.int64(2)"
            ]
          },
          "execution_count": 9,
          "metadata": {},
          "output_type": "execute_result"
        }
      ],
      "source": [
        "s.pop(1)"
      ]
    },
    {
      "cell_type": "code",
      "execution_count": null,
      "metadata": {
        "id": "ppVznNjTh5c_"
      },
      "outputs": [],
      "source": [
        "s"
      ]
    },
    {
      "cell_type": "markdown",
      "metadata": {
        "id": "MCeQfesah-Gs"
      },
      "source": [
        "Devuelve un error en caso de que no exista."
      ]
    },
    {
      "cell_type": "code",
      "execution_count": 10,
      "metadata": {
        "id": "bQsl5EvIiAyZ"
      },
      "outputs": [
        {
          "name": "stdout",
          "output_type": "stream",
          "text": [
            "Mapping key not found.\n",
            "KeyError\n"
          ]
        }
      ],
      "source": [
        "s = pd.Series([1, 2, 3, 4])\n",
        "\n",
        "try:\n",
        "    s.pop(18)\n",
        "except Exception as e:\n",
        "    print(e.__doc__)\n",
        "    print(type(e).__name__)"
      ]
    },
    {
      "cell_type": "markdown",
      "metadata": {
        "id": "R6imT7jhiLlk"
      },
      "source": [
        "Si la serie tiene un índice explícito, el argumento de `pop` hará referencia a este índice."
      ]
    },
    {
      "cell_type": "code",
      "execution_count": null,
      "metadata": {
        "id": "m_HnF1F3iOgU"
      },
      "outputs": [],
      "source": [
        "s = pd.Series([10, 20, 30, 40], index = [\"a\", \"b\", \"c\", \"d\"])\n",
        "s.pop(\"a\")"
      ]
    },
    {
      "cell_type": "code",
      "execution_count": null,
      "metadata": {
        "id": "XMiXg6MMicK3"
      },
      "outputs": [],
      "source": [
        "s"
      ]
    },
    {
      "cell_type": "markdown",
      "metadata": {
        "id": "f3E-gztgielU"
      },
      "source": [
        "Y para el índice no explícito, devolverá un error."
      ]
    },
    {
      "cell_type": "code",
      "execution_count": null,
      "metadata": {
        "id": "P-BMYqvmihX_"
      },
      "outputs": [],
      "source": [
        "try:\n",
        "  s.pop(0)\n",
        "except Exception as e:\n",
        "    print(e.__doc__)\n",
        "    print(type(e).__name__)"
      ]
    },
    {
      "cell_type": "markdown",
      "metadata": {
        "id": "vSvESNg1jCRm"
      },
      "source": [
        "### <font color='green'>Actividad 1</font>\n",
        "\n",
        "Escribir una función que reciba un diccionario con las alturas (en metros) de los integrantes del grupo y devuelva una serie con las alturas mayores a 1.75 ordenadas de mayor a menor."
      ]
    },
    {
      "cell_type": "code",
      "execution_count": 21,
      "metadata": {
        "id": "yF-MVWxyjnel"
      },
      "outputs": [
        {
          "name": "stdout",
          "output_type": "stream",
          "text": [
            "Juan     1.80\n",
            "Lucía    1.85\n",
            "Pedro    1.90\n",
            "dtype: float64\n"
          ]
        }
      ],
      "source": [
        "def filtrar_alturas(diccionario_alturas):\n",
        "    # Convertir el diccionario en una Serie de Pandas\n",
        "    serie_alturas = pd.Series(diccionario_alturas)\n",
        "    \n",
        "    # Filtrar alturas mayores a 1.75 metros\n",
        "    alturas_filtradas = serie_alturas[serie_alturas > 1.75]\n",
        "    \n",
        "    # Ordenar las alturas de mayor a menor\n",
        "    alturas_ordenadas = alturas_filtradas.sort_values(ascending=False)\n",
        "    \n",
        "    return alturas_ordenadas\n",
        "\n",
        "alturas = {\n",
        "    \"Juan\": 1.80,\n",
        "    \"Ana\": 1.70,\n",
        "    \"Pedro\": 1.90,\n",
        "    \"Lucía\": 1.85,\n",
        "    \"Carlos\": 1.60\n",
        "}\n",
        "\n",
        "resultado = filtrar_alturas(alturas)\n",
        "print(resultado)\n"
      ]
    },
    {
      "cell_type": "markdown",
      "metadata": {
        "id": "QJwrohXSkMTz"
      },
      "source": [
        "<font color='green'>Fin Actividad 1</font>"
      ]
    },
    {
      "cell_type": "markdown",
      "metadata": {
        "id": "YcpccjvTkC0n"
      },
      "source": [
        "### <font color='green'>Actividad 2</font>\n",
        "\n",
        "Dada la siguiente serie:\n",
        "\n",
        "```\n",
        "s1 = pd.Series([10, 15, 20, 25, 30], index=[2, 5, 8, 9, 12])\n",
        "```\n",
        "Selecciona los elementos con índices 5 y 9.\n"
      ]
    },
    {
      "cell_type": "code",
      "execution_count": 19,
      "metadata": {
        "id": "JJfxjOR4kC0o"
      },
      "outputs": [
        {
          "name": "stdout",
          "output_type": "stream",
          "text": [
            "15\n",
            "25\n"
          ]
        }
      ],
      "source": [
        "s1= pd.Series([10, 15, 20, 25, 30], index=[2, 5, 8, 9, 12])\n",
        "print(s1.loc[5])\n",
        "print(s1.loc[9])\n",
        "\n"
      ]
    },
    {
      "cell_type": "markdown",
      "metadata": {
        "id": "-A0-8V0mkC0o"
      },
      "source": [
        "<font color='green'>Fin Actividad 2</font>"
      ]
    },
    {
      "cell_type": "markdown",
      "metadata": {
        "id": "oXKjGxOGkNBd"
      },
      "source": [
        "### <font color='green'>Actividad 3</font>\n",
        "\n",
        "Dada la siguiente serie:\n",
        "\n",
        "```\n",
        "s2 = pd.Series([1, 2, 3, 4, 5], index=['a-1', 'b-2', 'c-3', 'a-4', 'b-5'])\n",
        "```\n",
        "Selecciona aquellos valores cuyos índices comienzan con 'a-'.\n"
      ]
    },
    {
      "cell_type": "code",
      "execution_count": 22,
      "metadata": {
        "id": "xwcbzwDQkNBd"
      },
      "outputs": [
        {
          "name": "stdout",
          "output_type": "stream",
          "text": [
            "a-1    1\n",
            "a-4    4\n",
            "dtype: int64\n"
          ]
        }
      ],
      "source": [
        "s2 = pd.Series([1, 2, 3, 4, 5], index=['a-1', 'b-2', 'c-3', 'a-4', 'b-5'])\n",
        "\n",
        "# Filtrar los valores cuyos índices comienzan con 'a-'\n",
        "resultado = s2[s2.index.str.startswith('a-')]\n",
        "\n",
        "print(resultado)\n",
        "\n"
      ]
    },
    {
      "cell_type": "markdown",
      "metadata": {
        "id": "rn-7ddRmkNBd"
      },
      "source": [
        "<font color='green'>Fin Actividad 3</font>"
      ]
    },
    {
      "cell_type": "markdown",
      "metadata": {
        "id": "RDYvfeOukdQc"
      },
      "source": [
        "### <font color='green'>Actividad 4</font>\n",
        "\n",
        "Dada la siguiente serie:\n",
        "\n",
        "```\n",
        "s3 = pd.Series(list(range(20)), index=list(range(20, 0, -1)))\n",
        "```\n",
        "Selecciona aquellos valores que sean pares y cuyos índices sean impares.\n"
      ]
    },
    {
      "cell_type": "code",
      "execution_count": 26,
      "metadata": {
        "id": "JI5q9osbkdQc"
      },
      "outputs": [
        {
          "name": "stdout",
          "output_type": "stream",
          "text": [
            "19     1\n",
            "17     3\n",
            "15     5\n",
            "13     7\n",
            "11     9\n",
            "9     11\n",
            "7     13\n",
            "5     15\n",
            "3     17\n",
            "1     19\n",
            "dtype: int64\n"
          ]
        }
      ],
      "source": [
        "s3 = pd.Series(list(range(20)), index = list(range(20, 0, -1)))\n",
        "\n",
        "# Filtrar valores cuyos índices sean impares\n",
        "resultado = s3[(s3.index % 2 != 0)]\n",
        "\n",
        "print(resultado)"
      ]
    },
    {
      "cell_type": "markdown",
      "metadata": {
        "id": "LstGlYvGkdQd"
      },
      "source": [
        "<font color='green'>Fin Actividad 4</font>"
      ]
    },
    {
      "cell_type": "markdown",
      "metadata": {
        "id": "t-WejG3ikoxP"
      },
      "source": [
        "### <font color='green'>Actividad 5</font>\n",
        "\n",
        "Dada la siguiente serie:\n",
        "\n",
        "```\n",
        "s4 = pd.Series(list(range(10, 101, 10)))\n",
        "```\n",
        "Utilizando una función, selecciona aquellos números que son divisibles por 3.\n"
      ]
    },
    {
      "cell_type": "code",
      "execution_count": 30,
      "metadata": {
        "id": "zC545-GdkoxQ"
      },
      "outputs": [
        {
          "name": "stdout",
          "output_type": "stream",
          "text": [
            "2    30\n",
            "5    60\n",
            "8    90\n",
            "dtype: int64\n"
          ]
        }
      ],
      "source": [
        "def divisibles(s):\n",
        "    divisibles  = s[s%3 ==0]\n",
        "    return divisibles\n",
        "s4 = pd.Series(list(range(10, 101, 10)))\n",
        "print(divisibles(s4))\n"
      ]
    },
    {
      "cell_type": "markdown",
      "metadata": {
        "id": "tNMEPjBNkoxQ"
      },
      "source": [
        "<font color='green'>Fin Actividad 5</font>"
      ]
    },
    {
      "cell_type": "markdown",
      "metadata": {
        "id": "nk-KYiX2k5H6"
      },
      "source": [
        "### <font color='green'>Actividad 6</font>\n",
        "\n",
        "Dada la siguiente serie:\n",
        "\n",
        "```\n",
        "s5 = pd.Series([10, 23, 30, 33, 45, 52, 68, 77, 81, 97])\n",
        "```\n",
        "Selecciona todos los valores que sean primos o múltiplos de 7. Posteriormente, reasigna esos valores seleccionados al cuadrado de su valor original.\n"
      ]
    },
    {
      "cell_type": "code",
      "execution_count": null,
      "metadata": {
        "id": "qG6DPHsSk5H_"
      },
      "outputs": [],
      "source": []
    },
    {
      "cell_type": "markdown",
      "metadata": {
        "id": "XJjOupmMk5H_"
      },
      "source": [
        "<font color='green'>Fin Actividad 6</font>"
      ]
    },
    {
      "cell_type": "markdown",
      "metadata": {
        "id": "XL8vFaYKlLDB"
      },
      "source": [
        "<img src=\"https://drive.google.com/uc?export=view&id=1Igtn9UXg6NGeRWsqh4hefQUjV0hmzlBv\" width=\"100\" align=\"left\" title=\"Runa-perth\">\n",
        "<br clear=\"left\">\n",
        "\n",
        "\n",
        "##<font color='red'>**Actividad Avanzada**</font>\n",
        "\n",
        "### <font color='green'>Actividad 7</font>\n",
        "\n",
        "Imagina que estás trabajando con una serie de datos financieros, donde cada índice representa una fecha específica y cada valor representa el precio de cierre de una acción en esa fecha. Las fechas no están en orden y algunas de ellas son particularmente importantes para ti debido a eventos externos.\n",
        "\n",
        "En esta actividad deberás seleccionar precios de cierre en fechas específicas, y para ello deberás combinar el uso de loc, iloc y expresiones.\n",
        "\n",
        "```\n",
        "dates = [datetime.date(2023, 5, 15), datetime.date(2023, 1, 10), datetime.date(2023, 3, 23),\n",
        "         datetime.date(2023, 2, 15), datetime.date(2023, 8, 30), datetime.date(2023, 4, 5)]\n",
        "\n",
        "prices = [120.5, 115.2, 112.8, 116.5, 127.4, 119.0]\n",
        "\n",
        "data = pd.Series(prices, index=dates)\n",
        "```\n",
        "\n",
        "1. Ordena la serie según sus índices de fecha.\n",
        "2. Utiliza iloc para seleccionar el precio de cierre de la segunda fecha más reciente en la serie ordenada.\n",
        "3. Iimagina que sabes que hubo un evento importante el 15 de febrero de 2023 y quieres saber cómo afectó el precio posteriormente. Utiliza loc para seleccionar todos los precios desde esa fecha en adelante.\n",
        "4. Utilizando una combinación de expresiones, selecciona los precios que estén por encima del precio medio pero solo para fechas anteriores al 1 de abril de 2023.\n"
      ]
    },
    {
      "cell_type": "code",
      "execution_count": 45,
      "metadata": {
        "id": "iTTPb2CblLDB"
      },
      "outputs": [
        {
          "name": "stdout",
          "output_type": "stream",
          "text": [
            "2023-01-10    115.2\n",
            "2023-02-15    116.5\n",
            "2023-03-23    112.8\n",
            "2023-04-05    119.0\n",
            "2023-05-15    120.5\n",
            "2023-08-30    127.4\n",
            "dtype: float64\n",
            "Segunda fecha más reciente:  120.5\n",
            "2023-02-15    116.5\n",
            "2023-03-23    112.8\n",
            "2023-04-05    119.0\n",
            "2023-05-15    120.5\n",
            "2023-08-30    127.4\n",
            "dtype: float64\n"
          ]
        }
      ],
      "source": [
        "import datetime\n",
        "dates = [datetime.date(2023, 5, 15), datetime.date(2023, 1, 10), datetime.date(2023, 3, 23),\n",
        "         datetime.date(2023, 2, 15), datetime.date(2023, 8, 30), datetime.date(2023, 4, 5)]\n",
        "\n",
        "prices = [120.5, 115.2, 112.8, 116.5, 127.4, 119.0]\n",
        "\n",
        "data = pd.Series(prices, index=dates)\n",
        "data_sorted = data.sort_index()\n",
        "print(data_sorted)\n",
        "print(\"Segunda fecha más reciente: \",data_sorted.iloc[-2])\n",
        "\n",
        "#fecha evento importante\n",
        "event_date = datetime.date(2023, 2, 15)\n",
        "prices_after_event = data_sorted.loc[event_date:]\n",
        "\n",
        "print(prices_after_event)\n"
      ]
    },
    {
      "cell_type": "markdown",
      "metadata": {
        "id": "WgbOmO5_lLDC"
      },
      "source": [
        "<font color='green'>Fin Actividad 7</font>"
      ]
    },
    {
      "cell_type": "markdown",
      "metadata": {
        "id": "vDJBdwV8mFqI"
      },
      "source": [
        "<img src=\"https://drive.google.com/uc?export=view&id=1Igtn9UXg6NGeRWsqh4hefQUjV0hmzlBv\" width=\"50\" align=\"left\" title=\"Runa-perth\">\n",
        "<br clear=\"left\">"
      ]
    }
  ],
  "metadata": {
    "colab": {
      "provenance": []
    },
    "kernelspec": {
      "display_name": "Python 3",
      "language": "python",
      "name": "python3"
    },
    "language_info": {
      "codemirror_mode": {
        "name": "ipython",
        "version": 3
      },
      "file_extension": ".py",
      "mimetype": "text/x-python",
      "name": "python",
      "nbconvert_exporter": "python",
      "pygments_lexer": "ipython3",
      "version": "3.12.3"
    }
  },
  "nbformat": 4,
  "nbformat_minor": 0
}
