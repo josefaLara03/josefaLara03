{
  "cells": [
    {
      "cell_type": "markdown",
      "metadata": {
        "id": "w6ZS4AZpFrSa"
      },
      "source": [
        "# **Obtención y preparación de datos**\n",
        "\n",
        "# OPD13. Unión de Estructuras en Pandas\n"
      ]
    },
    {
      "cell_type": "code",
      "execution_count": 2,
      "metadata": {
        "id": "xL8iBoNMxqJM"
      },
      "outputs": [],
      "source": [
        "import numpy as np\n",
        "import pandas as pd"
      ]
    },
    {
      "cell_type": "markdown",
      "metadata": {
        "id": "jc6RQT0EF-7Q"
      },
      "source": [
        "## <font color='blue'>**Unión de series**</font>\n",
        "\n",
        "\n",
        "Muchas veces nos encontramos con que los datos a analizar están repartidos entre dos o más bloques de datos, lo que nos obliga a unirlos.\n"
      ]
    },
    {
      "cell_type": "markdown",
      "metadata": {
        "id": "dZbk-MTlKOoc"
      },
      "source": [
        "## <font color='blue'>**Función `concat`**</font>\n",
        "\n",
        "Un caso con el que nos encontramos con relativa frecuencia es aquel en el que queremos unir una serie a otra."
      ]
    },
    {
      "cell_type": "code",
      "execution_count": 4,
      "metadata": {
        "id": "YIVfMHnYGFyw"
      },
      "outputs": [],
      "source": [
        "s = pd.Series([1, 2, 3, 4, 5], index = [\"a\", \"b\", \"c\", \"d\", \"e\"])\n",
        "r = pd.Series([10, 11, 12], index = [\"f\", \"g\", \"h\"])"
      ]
    },
    {
      "cell_type": "markdown",
      "metadata": {
        "id": "3pmqAQtKG_C2"
      },
      "source": [
        "Si deseamos unir $r$ y $s$ en una nueva serie, podemos usar la función `pandas.concat`. Esta función permite especificar el eje a lo largo del cual unir los diferentes objetos (pueden ser series o dataframes). Por defecto, la concatenación se realiza a lo largo del eje 0."
      ]
    },
    {
      "cell_type": "code",
      "execution_count": null,
      "metadata": {
        "id": "6cYF_XaGHIqv"
      },
      "outputs": [],
      "source": [
        "t = pd.concat([s, r])\n",
        "print(type(t))\n",
        "print()\n",
        "t"
      ]
    },
    {
      "cell_type": "markdown",
      "metadata": {
        "id": "ZNBx06JzHU9_"
      },
      "source": [
        "El resultado es una serie."
      ]
    },
    {
      "cell_type": "code",
      "execution_count": null,
      "metadata": {
        "id": "f2qVl4YmHm13"
      },
      "outputs": [],
      "source": [
        "a = pd.Series([1, 2, 3, 4, 5, 6])\n",
        "b = pd.Series([10, 11, 12, 13, 14])\n",
        "print(a)\n",
        "print()\n",
        "print(b)"
      ]
    },
    {
      "cell_type": "code",
      "execution_count": null,
      "metadata": {
        "id": "TwQhQ7OAu96s"
      },
      "outputs": [],
      "source": [
        "s = pd.concat([a,b])\n",
        "s"
      ]
    },
    {
      "cell_type": "code",
      "execution_count": null,
      "metadata": {
        "id": "oork4NRIvD4d"
      },
      "outputs": [],
      "source": [
        "s[s.index[0]]"
      ]
    },
    {
      "cell_type": "markdown",
      "metadata": {
        "id": "xwqEhMaTHXjt"
      },
      "source": [
        "Si especificamos como eje de concatenación el eje 1, pandas alineará los valores con idénticas etiquetas. En el siguiente ejemplo, las series $a$ y $b$ tienen algunas etiquetas comunes (y otras no). El resultado incluye todas las etiquetas asignando el valor `NaN` (\"Not a Number\") a aquellos valores desconocidos.\n",
        "\n"
      ]
    },
    {
      "cell_type": "code",
      "execution_count": null,
      "metadata": {
        "id": "e7dl4oQgH0-8"
      },
      "outputs": [],
      "source": [
        "pd.concat([a,b], axis = 1)"
      ]
    },
    {
      "cell_type": "code",
      "execution_count": null,
      "metadata": {
        "id": "sXThH-bWILow"
      },
      "outputs": [],
      "source": [
        "type(pd.concat([a,b], axis = 1))"
      ]
    },
    {
      "cell_type": "markdown",
      "metadata": {
        "id": "zeFwuJWsIOgu"
      },
      "source": [
        "Como puede observarse, el resultado es un dataframe."
      ]
    },
    {
      "cell_type": "markdown",
      "metadata": {
        "id": "PncBwN6BIMNr"
      },
      "source": [
        "Por otro lado, las etiquetas del índice no tienen por qué ser diferentes, de forma que si se estuviesen concatenando series con etiquetas comunes en sus índices, el resultado sería equivalente a los vistos hasta ahora."
      ]
    },
    {
      "cell_type": "code",
      "execution_count": null,
      "metadata": {
        "id": "Vfevy_gYIqev"
      },
      "outputs": [],
      "source": [
        "s = pd.Series([1, 2, 3, 4], index = [\"a\", \"b\", \"c\", \"d\"])\n",
        "r = pd.Series([10, 11, 12], index = [\"a\", \"c\", \"e\"])\n",
        "print(s)\n",
        "print( )\n",
        "print(r)"
      ]
    },
    {
      "cell_type": "code",
      "execution_count": null,
      "metadata": {
        "id": "m-qN5MasI2Yn"
      },
      "outputs": [],
      "source": [
        "pd.concat([s, r])"
      ]
    },
    {
      "cell_type": "markdown",
      "metadata": {
        "id": "Wl03QEVRJB_K"
      },
      "source": [
        "En este ejemplo se han concatenado dos series que tienen dos etiquetas comunes ($a$ y $c$), y se puede observar que las dos apariciones de cada una de ellas se incluyen en el resultado de la concatenación."
      ]
    },
    {
      "cell_type": "markdown",
      "metadata": {
        "id": "aw7bSeK8Kdnd"
      },
      "source": [
        "## <font color='blue'>**Método `append`**</font>\n",
        "\n",
        "Otra alternativa es usar el método `pandas.Series.append`, versión simplificada de la función `concat` ya vista que devuelve la unión de la serie sobre la que se aplica con otra (u otras) series, pero solo a lo largo del eje 0."
      ]
    },
    {
      "cell_type": "code",
      "execution_count": null,
      "metadata": {
        "id": "rkZDh_OXKtCy"
      },
      "outputs": [],
      "source": [
        "a = pd.Series([1, 2, 3, 4, 5], index = [\"a\", \"b\", \"c\", \"d\", \"e\"])\n",
        "b = pd.Series([10, 11, 12], index = [\"f\", \"g\", \"h\"])\n",
        "print(a)\n",
        "print()\n",
        "print(b)"
      ]
    },
    {
      "cell_type": "code",
      "execution_count": null,
      "metadata": {
        "id": "RypyUjlEK0Lt"
      },
      "outputs": [],
      "source": [
        "c = a.append(b)\n",
        "c"
      ]
    },
    {
      "cell_type": "markdown",
      "metadata": {
        "id": "8cNeYlRrK7s6"
      },
      "source": [
        "Si el argumento `ignore_index` toma el valor `True`, se ignoran las etiquetas de las series."
      ]
    },
    {
      "cell_type": "code",
      "execution_count": null,
      "metadata": {
        "id": "NdcJqbabK-oA"
      },
      "outputs": [],
      "source": [
        "c = a.append(b, ignore_index = True)\n",
        "c"
      ]
    },
    {
      "cell_type": "markdown",
      "metadata": {
        "id": "pULXnMCXLIZ6"
      },
      "source": [
        "## <font color='blue'>**Concatenación y unión de dataframes**</font>\n",
        "\n",
        "Ésta es otra de las áreas en las que la variedad de opciones puede resultar confusa. A modo de resumen, digamos que pandas ofrece dos principales funciones con este objetivo: `pandas.concat` y `pandas.merge`.\n",
        "\n",
        "* La función `concat` permite concatenar dataframes a lo largo de un determinado eje\n",
        "* La función `merge` permite realizar uniones (joins) entre dataframes tal y como se realizan en bases de datos. Esta función también está disponible como método: `pandas.DataFrame.merge`\n",
        "\n",
        "Hay una tercera función que está disponible solo como método: `pandas.DataFrame.append`. El método `append` ofrece una funcionalidad semejante a la de la función concat pero reducida. Así, por ejemplo, solo permite realizar concatenaciones a lo largo del eje 0 (es decir, verticalmente)."
      ]
    },
    {
      "cell_type": "markdown",
      "metadata": {
        "id": "c8Rh9GKFL1ek"
      },
      "source": [
        "## <font color='blue'>**Función `concat`**</font>\n",
        "\n",
        "La función `pandas.concat` es la responsable de concatenar dos o más dataframes (y de todas las estructuras provistas por pandas) a lo largo de un eje, con soporte a lógica de conjuntos a la hora de gestionar etiquetas en ejes no coincidentes."
      ]
    },
    {
      "cell_type": "code",
      "execution_count": null,
      "metadata": {
        "id": "nafiOU6YMD1h"
      },
      "outputs": [],
      "source": [
        "df1 = pd.DataFrame(np.arange(9).reshape([3, 3]),\n",
        "                   index = [\"a\", \"b\", \"d\"],\n",
        "                   columns = [\"A\", \"B\", \"C\"])\n",
        "df1"
      ]
    },
    {
      "cell_type": "code",
      "execution_count": null,
      "metadata": {
        "id": "678ah7ShMZnK"
      },
      "outputs": [],
      "source": [
        "df2 = pd.DataFrame(np.arange(12).reshape([4, 3]),\n",
        "                   index = [\"a\", \"b\", \"c\", \"e\"],\n",
        "                   columns = [\"B\", \"C\", \"D\"])\n",
        "df2"
      ]
    },
    {
      "cell_type": "markdown",
      "metadata": {
        "id": "F8ktN91mMzA7"
      },
      "source": [
        "Si pasamos a la función `concat` ambos dataframes como primer argumento (en forma de lista), obtenemos el siguiente resultado:"
      ]
    },
    {
      "cell_type": "code",
      "execution_count": null,
      "metadata": {
        "id": "1PGX57QgM4k7"
      },
      "outputs": [],
      "source": [
        "pd.concat([df1, df2])"
      ]
    },
    {
      "cell_type": "markdown",
      "metadata": {
        "id": "fAtd90IwM_08"
      },
      "source": [
        "Por defecto, la concatenación se ha realizado a lo largo del eje 0 (eje vertical), uniendo los índices de fila de ambos dataframes, y alineando las columnas por su etiqueta. Los valores para los que no hay datos se han rellenado con NaN.\n",
        "\n",
        "Si especificamos que la concatenación se realice a lo largo del eje 1 (eje horizontal), el resultado es el siguiente:"
      ]
    },
    {
      "cell_type": "code",
      "execution_count": null,
      "metadata": {
        "id": "xVFnXa1MNIto"
      },
      "outputs": [],
      "source": [
        "pd.concat([df1, df2], axis = 1)"
      ]
    },
    {
      "cell_type": "markdown",
      "metadata": {
        "id": "jJMvEwSINRKJ"
      },
      "source": [
        "De modo semejante al primer ejemplo, se han introducido NaN's donde no había datos, y se han alineado las filas por su etiqueta.\n",
        "\n",
        "Estos dos ejemplos vistos son tipo `\"outer\"` (opción por defecto), considerando todas las etiquetas de los dos dataframes aun cuando no sean comunes a ambos. Pero si especificamos el argumento `join = \"inner\"`, los resultados pasan a considerar solo las etiquetas comunes."
      ]
    },
    {
      "cell_type": "code",
      "execution_count": null,
      "metadata": {
        "id": "Xz2RbryRNbj1"
      },
      "outputs": [],
      "source": [
        "pd.concat([df1, df2], join = \"inner\")"
      ]
    },
    {
      "cell_type": "markdown",
      "metadata": {
        "id": "wV7vzfHFNluf"
      },
      "source": [
        "Incluye solo las columnas $B$ y $C$ comunes a ambos dataframes. Y para el segundo ejemplo tenemos:"
      ]
    },
    {
      "cell_type": "code",
      "execution_count": null,
      "metadata": {
        "id": "zYIO8oILNosc"
      },
      "outputs": [],
      "source": [
        "pd.concat([df1, df2], axis = 1, join = \"inner\")"
      ]
    },
    {
      "cell_type": "markdown",
      "metadata": {
        "id": "36bn8bQ9NvHL"
      },
      "source": [
        "Incluyendo solo las filas $a$ y $b$ comunes a ambos dataframes."
      ]
    },
    {
      "cell_type": "markdown",
      "metadata": {
        "id": "J3cXFLwWNyt1"
      },
      "source": [
        "El parámetro `ignore_index` controla el índice a asignar al eje a lo largo del cuál se realiza la concatenación. Si este parámetro toma el valor `False` (por defecto), el eje de concatenación mantiene las etiquetas de los dataframes originales. Si toma el valor `True`, se ignoran dichas etiquetas y el resultado de la concatenación recibe un nuevo índice automático numérico."
      ]
    },
    {
      "cell_type": "code",
      "execution_count": null,
      "metadata": {
        "id": "lruf7NqdwA4z"
      },
      "outputs": [],
      "source": [
        "pd.concat([df1, df2], axis = 1, join = \"inner\", ignore_index = False)"
      ]
    },
    {
      "cell_type": "code",
      "execution_count": null,
      "metadata": {
        "id": "93lc9C-TN-iH"
      },
      "outputs": [],
      "source": [
        "pd.concat([df1, df2], axis = 1, join = \"inner\", ignore_index = True)"
      ]
    },
    {
      "cell_type": "markdown",
      "metadata": {
        "id": "SwmFJfB6OKYI"
      },
      "source": [
        "## <font color='blue'>**Método `append`**</font>\n",
        "\n",
        "El método `pandas.DataFrame.append` es un atajo de la función `concat` que ofrece funcionalidad semejante pero limitada: no permite especificar el eje de concatenación (siempre es el eje 0) ni el tipo de \"join\" (siempre es tipo \"Outer\")."
      ]
    },
    {
      "cell_type": "code",
      "execution_count": null,
      "metadata": {
        "id": "VWsOLi6WOX78"
      },
      "outputs": [],
      "source": [
        "df1 = pd.DataFrame(np.arange(9).reshape([3, 3]),\n",
        "                   index = [\"a\", \"b\", \"d\"],\n",
        "                   columns = [\"A\", \"B\", \"C\"])\n",
        "df1"
      ]
    },
    {
      "cell_type": "code",
      "execution_count": null,
      "metadata": {
        "id": "ipGuEARqObxY"
      },
      "outputs": [],
      "source": [
        "df2 = pd.DataFrame(np.arange(12).reshape([4, 3]),\n",
        "                   index = [\"a\", \"b\", \"c\", \"e\"],\n",
        "                   columns = [\"B\", \"C\", \"D\"])\n",
        "df2"
      ]
    },
    {
      "cell_type": "code",
      "execution_count": null,
      "metadata": {
        "id": "LDYz-0SiOf57"
      },
      "outputs": [],
      "source": [
        "df1.append(df2)"
      ]
    },
    {
      "cell_type": "markdown",
      "metadata": {
        "id": "keyCIp92Ok1Q"
      },
      "source": [
        "Al igual que ocurría con la función `concat`, el parámetro `ignore_index` nos permite controlar las etiquetas que recibe el índice del resultado: las de los dataframes originales (con`ignore_index = False`, opción por defecto), o uno nuevo automático (con `ignore_index = True`)."
      ]
    },
    {
      "cell_type": "markdown",
      "metadata": {
        "id": "ck7WGAv3OrN7"
      },
      "source": [
        "## <font color='blue'>**Función `merge`**</font>\n",
        "\n",
        "La función `pandas.merge` nos permite realizar \"joins\" entre tablas. El join es realizado sobre las columnas o sobre las filas. En el primer caso, las etiquetas de las filas son ignoradas. En cualquier otro caso (joins realizado entre etiquetas de filas, o entre etiquetas de filas y de columnas), las etiquetas de filas se mantienen.\n"
      ]
    },
    {
      "cell_type": "code",
      "execution_count": 1,
      "metadata": {
        "id": "MRsfchCqO5VS"
      },
      "outputs": [
        {
          "ename": "NameError",
          "evalue": "name 'pd' is not defined",
          "output_type": "error",
          "traceback": [
            "\u001b[0;31m---------------------------------------------------------------------------\u001b[0m",
            "\u001b[0;31mNameError\u001b[0m                                 Traceback (most recent call last)",
            "Cell \u001b[0;32mIn[1], line 1\u001b[0m\n\u001b[0;32m----> 1\u001b[0m df1 \u001b[38;5;241m=\u001b[39m \u001b[43mpd\u001b[49m\u001b[38;5;241m.\u001b[39mDataFrame({\n\u001b[1;32m      2\u001b[0m     \u001b[38;5;124m\"\u001b[39m\u001b[38;5;124mMes\u001b[39m\u001b[38;5;124m\"\u001b[39m: [\u001b[38;5;124m\"\u001b[39m\u001b[38;5;124mene\u001b[39m\u001b[38;5;124m\"\u001b[39m, \u001b[38;5;124m\"\u001b[39m\u001b[38;5;124mfeb\u001b[39m\u001b[38;5;124m\"\u001b[39m, \u001b[38;5;124m\"\u001b[39m\u001b[38;5;124mmar\u001b[39m\u001b[38;5;124m\"\u001b[39m, \u001b[38;5;124m\"\u001b[39m\u001b[38;5;124mmay\u001b[39m\u001b[38;5;124m\"\u001b[39m],\n\u001b[1;32m      3\u001b[0m     \u001b[38;5;124m\"\u001b[39m\u001b[38;5;124mVentas\u001b[39m\u001b[38;5;124m\"\u001b[39m: [\u001b[38;5;241m14\u001b[39m, \u001b[38;5;241m8\u001b[39m, \u001b[38;5;241m12\u001b[39m, \u001b[38;5;241m17\u001b[39m]\n\u001b[1;32m      4\u001b[0m })\n\u001b[1;32m      5\u001b[0m df1\n",
            "\u001b[0;31mNameError\u001b[0m: name 'pd' is not defined"
          ]
        }
      ],
      "source": [
        "df1 = pd.DataFrame({\n",
        "    \"Mes\": [\"ene\", \"feb\", \"mar\", \"may\"],\n",
        "    \"Ventas\": [14, 8, 12, 17]\n",
        "})\n",
        "df1"
      ]
    },
    {
      "cell_type": "code",
      "execution_count": null,
      "metadata": {
        "id": "aV3Cv4HvPMcV"
      },
      "outputs": [],
      "source": [
        "df2 = pd.DataFrame({\n",
        "    \"Mes\": [\"feb\", \"ene\", \"mar\", \"abr\"],\n",
        "    \"Costos\": [7, 6, 8, 5]\n",
        "})\n",
        "df2"
      ]
    },
    {
      "cell_type": "markdown",
      "metadata": {
        "id": "EKOkpNDFPavu"
      },
      "source": [
        "Ambos dataframes tienen una columna común (\"Mes\") y varias filas comunes (\"ene\", \"feb\" y \"mar\"). Obsérvese que en df2 las filas no están ordenadas y que, en df1, el mes de enero tiene índice 0 mientras que, en df2, el mes de enero tiene índice 1.\n",
        "\n",
        "Si aplicamos la función merge a estos dataframes con los valores por defecto, obtenemos el siguiente resultado."
      ]
    },
    {
      "cell_type": "code",
      "execution_count": null,
      "metadata": {
        "id": "D5NkKfrqPh74"
      },
      "outputs": [],
      "source": [
        "pd.merge(df1, df2)"
      ]
    },
    {
      "cell_type": "markdown",
      "metadata": {
        "id": "YsJA18iPPoY7"
      },
      "source": [
        "Esos valores por defecto suponen que el join se realiza sobre las columnas comunes y tipo \"inner\" (considerando solo las filas con etiquetas comunes).\n",
        "\n",
        "Si especificamos que el join sea de tipo \"outer\", lo que definimos con el parámetro `how`, el resultado considerará todas las etiquetas presentes en ambos dataframes."
      ]
    },
    {
      "cell_type": "code",
      "execution_count": null,
      "metadata": {
        "id": "7mJwdNA-P3Ke"
      },
      "outputs": [],
      "source": [
        "pd.merge(df1, df2, how = \"outer\")"
      ]
    },
    {
      "cell_type": "markdown",
      "metadata": {
        "id": "tkwIGwRnP_hg"
      },
      "source": [
        "Se rellena con `NaN` los valores inexistentes. Otras opciones para el parámetro how son \"left\" y \"right\" (además de la opción por defecto, \"outer\").\n",
        "\n",
        "Por defecto, el join se realiza entre las columnas comunes. Esto es, sin embargo, controlable usando el parámetro `on` y especificando la columna o columnas a usar."
      ]
    },
    {
      "cell_type": "code",
      "execution_count": null,
      "metadata": {
        "id": "uH-5NA4WQLbC"
      },
      "outputs": [],
      "source": [
        "df1 = pd.DataFrame({\n",
        "    \"Mes\": [\"ene\", \"ene\", \"feb\", \"feb\"],\n",
        "    \"Producto\": [\"A\", \"B\", \"A\", \"B\"],\n",
        "    \"Ventas\": [14, 8, 12, 17]\n",
        "})\n",
        "df1"
      ]
    },
    {
      "cell_type": "code",
      "execution_count": null,
      "metadata": {
        "id": "ueI7l-ynQdt9"
      },
      "outputs": [],
      "source": [
        "df2 = pd.DataFrame({\n",
        "    \"Mes\": [\"ene\", \"ene\", \"feb\", \"feb\"],\n",
        "    \"Producto\": [\"A\", \"B\", \"A\", \"B\"],\n",
        "    \"Costo\": [7, 6, 8, 5]\n",
        "})\n",
        "df2"
      ]
    },
    {
      "cell_type": "markdown",
      "metadata": {
        "id": "hBTjmIoSQp29"
      },
      "source": [
        "Hay dos columnas comunes, lo que supone que el resultado de un merge por defecto sería el siguiente:"
      ]
    },
    {
      "cell_type": "code",
      "execution_count": null,
      "metadata": {
        "id": "anqHOxg3QsRo"
      },
      "outputs": [],
      "source": [
        "pd.merge(df1, df2)"
      ]
    },
    {
      "cell_type": "markdown",
      "metadata": {
        "id": "UW0xvbV9Q0b4"
      },
      "source": [
        "Es decir, para cada combinación de Mes-Producto se añadirían los valores de los campos de ventas y costo. Si se quiere que el join se realice solo por uno de los campos, Producto, por ejemplo, bastaría con especificarlo con el parámetro `on`."
      ]
    },
    {
      "cell_type": "code",
      "execution_count": null,
      "metadata": {
        "id": "1oe0yvVfQ85c"
      },
      "outputs": [],
      "source": [
        "pd.merge(df1, df2, on = \"Producto\")"
      ]
    },
    {
      "cell_type": "markdown",
      "metadata": {
        "id": "7rfjJFCHRJIM"
      },
      "source": [
        "Además del campo utilizado para realizar el join (\"Producto\"), al existir un campo común a ambos dataframes (\"Mes\") que no se desea usar para el join, pandas añade un sufijo (configurable) a este campo en ambas tablas para poder diferenciarlo.\n",
        "\n",
        "También podría ocurrir que ambos dataframes no tuviesen columnas comunes (columnas con el mismo nombre) pero que, aun así, quisiéramos realizar el join por algunas de ellas. Por ejemplo:"
      ]
    },
    {
      "cell_type": "code",
      "execution_count": null,
      "metadata": {
        "id": "Ze03TH3TRRoh"
      },
      "outputs": [],
      "source": [
        "df1 = pd.DataFrame({\n",
        "    \"Mes\": [\"ene\", \"feb\", \"mar\", \"may\"],\n",
        "    \"Ventas\": [14, 8, 12, 17]\n",
        "})\n",
        "df1"
      ]
    },
    {
      "cell_type": "code",
      "execution_count": null,
      "metadata": {
        "id": "E0TkltaQRbZx"
      },
      "outputs": [],
      "source": [
        "df2 = pd.DataFrame({\n",
        "    \"NombreMes\": [\"feb\", \"ene\", \"mar\", \"abr\"],\n",
        "    \"Costos\": [7, 6, 8, 5]\n",
        "})\n",
        "df2"
      ]
    },
    {
      "cell_type": "markdown",
      "metadata": {
        "id": "oM9-Q4_LReGk"
      },
      "source": [
        "Al no haber columnas comunes, la ejecución de la función merge devolvería un error. En este caso podemos usar los parámetros `left_on` y `right_on` para especificar el campo a usar en la tabla de la izquierda del join y en la de la derecha, respectivamente."
      ]
    },
    {
      "cell_type": "code",
      "execution_count": null,
      "metadata": {
        "id": "tpxxN2SSRkrO"
      },
      "outputs": [],
      "source": [
        "pd.merge(df1, df2, left_on = \"Mes\", right_on = \"NombreMes\")"
      ]
    },
    {
      "cell_type": "markdown",
      "metadata": {
        "id": "BNHzyOEUR-S8"
      },
      "source": [
        "## <font color='blue'>**Join por filas**</font>\n",
        "\n",
        "Si queremos que el join considere las filas -y no las columnas- de alguno de los dataframes para realizar el join, podemos usar los parámetros `left_index` y `right_index`.\n"
      ]
    },
    {
      "cell_type": "code",
      "execution_count": null,
      "metadata": {
        "id": "Ovo8Xw4tSKiD"
      },
      "outputs": [],
      "source": [
        "df1 = pd.DataFrame({\n",
        "    \"Mes\": [\"ene\", \"feb\", \"mar\", \"may\"],\n",
        "    \"Ventas\": [14, 8, 12, 17]\n",
        "})\n",
        "df1"
      ]
    },
    {
      "cell_type": "code",
      "execution_count": null,
      "metadata": {
        "id": "vWBXOFCaSRXT"
      },
      "outputs": [],
      "source": [
        "df2 = pd.DataFrame({\n",
        "    \"Compras\": [5, 9, 11, 2, 6]},\n",
        "    index = [\"ene\", \"feb\", \"mar\", \"abr\", \"may\"]\n",
        ")\n",
        "df2"
      ]
    },
    {
      "cell_type": "markdown",
      "metadata": {
        "id": "2Vtz98U4SquH"
      },
      "source": [
        "La ejecución de la función `merge` no sería posible -devolvería un error- pues no hay columnas columnes. En este caso querríamos que para el dataframe df1 se considerase la columna \"Mes\" -usando el parámetro `left_on` - y para el dataframe df2 el índice -usando el parámetro `right_index`-, de la siguiente forma:"
      ]
    },
    {
      "cell_type": "code",
      "execution_count": null,
      "metadata": {
        "id": "I3Hqn8MhSwma"
      },
      "outputs": [],
      "source": [
        "pd.merge(df1, df2, left_on = \"Mes\", right_index = True)"
      ]
    },
    {
      "cell_type": "markdown",
      "metadata": {
        "id": "dPnzzh1bI852"
      },
      "source": [
        "## <font color='green'>Actividad 1</font>\n",
        "\n",
        "En el siguiente dataframe se guardan los datos personales de un grupo de clientes:\n",
        "\n",
        "```\n",
        "clientes = {'nombre' : ['Orlando' ,'Inés' ,'Michelle', 'Alberto', 'Esteban'],\n",
        "           'apellido' : ['Figueroa' ,'Benítez' ,'Gómez', 'Riesco', 'Martínez'],\n",
        "           'edad' : [30 ,21 ,29 ,22, 24]}\n",
        "clientes = pd.DataFrame(clientes, columns = ['nombre', 'apellido', 'edad'])\n",
        "```\n",
        "En el siguiente se incluyen las transacciones:\n",
        "\n",
        "\n",
        "\n",
        "```\n",
        "facturas = {'factura_id': [1, 2, 3, 4, 5, 6, 7, 8, 9, 10, 11, 12],\n",
        "            'cliente_id' : [3, 2, 7, 2, 7, 3, 1, 4 ,2, 3, 6, 2],\n",
        "            'cantidad': [77.91, 24.36, 74.65, 19.75, 27.46, 17.13, 45.77, 81.7, 14.41, 52.69, 32.03, 12.78]}\n",
        "facturas = pd.DataFrame(facturas, columns = ['factura_id', 'cliente_id', 'cantidad'])\n",
        "```\n",
        "\n",
        "Considere el dataframe llamado nuevos_clientes:\n",
        "\n",
        "\n",
        "\n",
        "```\n",
        "nuevos_clientes = pd.DataFrame({'nombre' : ['Rebeca'],\n",
        "                            'apellido' : ['Rojas'],\n",
        "                            'edad' : [21]},\n",
        "                           columns = ['nombre', 'apellido', 'edad'])\n",
        "```\n",
        "\n",
        "1. Agregar los nuevos clientes al dataframe *clientes*.\n",
        "2. Actualice los valores para los índices del dataframe *clientes*.\n",
        "3. Genere un dataframe llamado *cliente_id* y agréguelo como una columna nueva a *clientes*.\n",
        "4. Realice la unión de los dataframes *clientes* y *facturas* de manera que el resultado sean todos los registros almacenados.\n",
        "5. Agregue al dataframe *nuevos clientes* a todos los integrantes del grupo, repita el proceso y haga el join entre clientes y facturas pero su resultado debe contener solo las filas con etiquetas comunes.\n",
        "\n",
        "\n",
        "\n",
        "\n",
        "\n"
      ]
    },
    {
      "cell_type": "code",
      "execution_count": null,
      "metadata": {
        "id": "KjGboTTmvcRI"
      },
      "outputs": [],
      "source": [
        "# Tu código aquí ...\n",
        "\n"
      ]
    },
    {
      "cell_type": "markdown",
      "metadata": {
        "id": "lJi9be3mGgoq"
      },
      "source": [
        "<font color='green'>Fin Actividad 1</font>\n"
      ]
    },
    {
      "cell_type": "markdown",
      "metadata": {
        "id": "9ufm1Kljrjo0"
      },
      "source": [
        "### <font color='green'>Actividad 2</font>\n",
        "\n",
        "Se tiene un DataFrame que contiene información de empleados y otro que tiene información sobre los departamentos de una empresa. El objetivo es combinar ambos DataFrames para obtener una visión completa del estado actual de la empresa.\n",
        "\n",
        "```\n",
        "# Información de empleados\n",
        "employees = pd.DataFrame({\n",
        "    'employee_id': range(1, 11),\n",
        "    'name': ['Anna', 'Ben', 'Charlie', 'Diana', 'Eva', 'Frank', 'Grace', 'Hank', 'Ian', 'Jen'],\n",
        "    'department_id': [1, 2, 3, 1, 2, 4, 3, 1, 4, 2]\n",
        "})\n",
        "\n",
        "# Información de departamentos\n",
        "departments = pd.DataFrame({\n",
        "    'department_id': [1, 2, 3, 4],\n",
        "    'department_name': ['HR', 'Sales', 'Tech', 'Admin']\n",
        "})\n",
        "```\n",
        "\n",
        "1. Realiza una unión left de employees con departments utilizando employee_id y department_id como claves.\n",
        "2. Identifica cualquier empleado que no esté asignado a un departamento registrado y almacénalo en un nuevo DataFrame.\n",
        "3. Agrega una nueva columna al DataFrame resultante que concatene el nombre del empleado y el nombre del departamento."
      ]
    },
    {
      "cell_type": "code",
      "execution_count": null,
      "metadata": {
        "id": "7iglnwaarjo0"
      },
      "outputs": [],
      "source": [
        "# Tu código aquí ...\n",
        "\n"
      ]
    },
    {
      "cell_type": "markdown",
      "metadata": {
        "id": "9qhLSZpcrjo1"
      },
      "source": [
        "<font color='green'>Fin Actividad 2</font>\n"
      ]
    },
    {
      "cell_type": "markdown",
      "metadata": {
        "id": "CICDDDhAr6Kx"
      },
      "source": [
        "### <font color='green'>Actividad 3</font>\n",
        "\n",
        "Una empresa con múltiples tiendas registra las ventas diarias en DataFrames separados. Los registros de algunas tiendas se han retrasado, y tu objetivo es combinar estos registros de ventas y llenar los datos faltantes de las tiendas retrasadas.\n",
        "\n",
        "```\n",
        "dates = pd.date_range('20230101', '20230110')\n",
        "\n",
        "# Ventas de la tienda A\n",
        "sales_A = pd.DataFrame({\n",
        "    'date': dates,\n",
        "    'sales_A': np.random.randint(50, 200, len(dates))\n",
        "})\n",
        "\n",
        "# Ventas de la tienda B (notar que faltan algunos días)\n",
        "sales_B = pd.DataFrame({\n",
        "    'date': dates[[0,1,2,5,6,7,9]],\n",
        "    'sales_B': np.random.randint(50, 200, 7)\n",
        "})\n",
        "```\n",
        "\n",
        "1. Fusiona los DataFrames sales_A y sales_B usando la columna date como clave. Asegúrate de que todos los días estén presentes en el DataFrame resultante.\n",
        "2. Rellena los valores faltantes de sales_B utilizando una estrategia que consideres adecuada (p.ej., media, mediana, interpolación, etc.).\n",
        "3. Crea una columna adicional en el DataFrame fusionado que represente la venta total diaria (suma de ambas tiendas)."
      ]
    },
    {
      "cell_type": "code",
      "execution_count": null,
      "metadata": {
        "id": "B96fwARzr6Kx"
      },
      "outputs": [],
      "source": [
        "# Tu código aquí ...\n",
        "\n"
      ]
    },
    {
      "cell_type": "markdown",
      "metadata": {
        "id": "u1CE3rftr6Ky"
      },
      "source": [
        "<font color='green'>Fin Actividad 3</font>\n"
      ]
    },
    {
      "cell_type": "markdown",
      "metadata": {
        "id": "vGCXXgwwxj_H"
      },
      "source": [
        "### <font color='green'>Actividad 4</font>\n",
        "\n",
        "Tienes tres DataFrames: df1, df2 y df3. Cada DataFrame tiene una columna 'ID', una columna 'Valor' y una columna 'Categoría'.\n",
        "\n",
        "```\n",
        "# df1, df2 y df3\n",
        "df1 = pd.DataFrame({\n",
        "    'ID': [1, 2, 3, 6, 7, 10],\n",
        "    'Valor': [100, 200, 300, 350, 400, 450],\n",
        "    'Categoria': ['A', 'B', 'A', 'C', 'B', 'A']\n",
        "})\n",
        "\n",
        "df2 = pd.DataFrame({\n",
        "    'ID': [2, 3, 4, 6, 8, 9],\n",
        "    'Valor': [220, 330, 440, 355, 465, 575],\n",
        "    'Categoria': ['B', 'A', 'C', 'C', 'A', 'B']\n",
        "})\n",
        "\n",
        "df3 = pd.DataFrame({\n",
        "    'ID': [3, 4, 5, 7, 8, 10],\n",
        "    'Valor': [350, 470, 590, 410, 480, 460],\n",
        "    'Estado': ['Activo', 'Inactivo', 'Activo', 'Activo', 'Inactivo', 'Activo']\n",
        "})\n",
        "```\n",
        "\n",
        "Si un 'ID' está presente en más de un DataFrame, deseas unir sus valores en función de la siguiente lógica:\n",
        "* Si un ID está en df1 y df2 (pero no en df3), toma el promedio de 'Valor'.\n",
        "\n",
        "* Si un ID está en df1 y df3 (pero no en df2), suma los 'Valores'.\n",
        "Si un ID está en df2 y df3 (pero no en df1), resta el 'Valor' en df3 del 'Valor' en df2.\n",
        "* Si un ID está en los tres DataFrames, multiplica los tres 'Valores' juntos.\n",
        "\n",
        "Además, si el ID coincide entre df1 y df2, combine la 'Categoria' de ambos DataFrames en una nueva columna, y si el ID coincide entre df1 y df3, añada la columna 'Estado' de df3 al DataFrame resultante.\n",
        "\n",
        "\n",
        "\n",
        "\n"
      ]
    },
    {
      "cell_type": "code",
      "execution_count": null,
      "metadata": {
        "id": "qNBvqSn_zpzQ"
      },
      "outputs": [],
      "source": [
        "# Tu código aquí ...\n",
        "\n"
      ]
    },
    {
      "cell_type": "markdown",
      "metadata": {
        "id": "dOxhwx6VzpzV"
      },
      "source": [
        "<font color='green'>Fin Actividad 4</font>\n"
      ]
    },
    {
      "cell_type": "markdown",
      "metadata": {
        "id": "OjMkd5Fjz8TH"
      },
      "source": [
        "### <font color='green'>Actividad 5</font>\n",
        "\n",
        "Dado un DataFrame df_main con un MultiIndex (dos niveles: 'Key1' y 'Key2') y un df_ref con el mismo MultiIndex:\n",
        "\n",
        "```\n",
        "arrays = [\n",
        "    ['A', 'A', 'B', 'B', 'C', 'C'],\n",
        "    [1, 2, 1, 2, 1, 2]\n",
        "]\n",
        "\n",
        "index_main = pd.MultiIndex.from_arrays(arrays, names=('Key1', 'Key2'))\n",
        "\n",
        "df_main = pd.DataFrame({\n",
        "    'Valor': [10, 20, 30, 40, 50, 60],\n",
        "    'Descripción': ['Alpha', 'Bravo', 'Charlie', 'Delta', 'Echo', 'Foxtrot']\n",
        "}, index=index_main)\n",
        "\n",
        "index_ref = pd.MultiIndex.from_arrays([\n",
        "    ['A', 'B', 'B', 'C', 'C', 'D', 'D'],\n",
        "    [1, 1, 2, 1, 2, 1, 2]\n",
        "], names=('Key1', 'Key2'))\n",
        "\n",
        "df_ref = pd.DataFrame({\n",
        "    'Referencia': [100, 200, 300, 400, 500, 600, 700],\n",
        "    'Comentario': ['Uno', 'Dos', 'Tres', 'Cuatro', 'Cinco', 'Seis', 'Siete']\n",
        "}, index=index_ref)\n",
        "```\n",
        "\n",
        "1. Fusiona estos DataFrames en uno solo.\n",
        "\n",
        "2. En lugar de una fusión estándar, para aquellos niveles de MultiIndex donde los valores no coinciden entre df_main y df_ref, llenar esos valores con el valor anterior o posterior más cercano.\n",
        "\n",
        "3. Añade una nueva columna que combine las columnas 'Descripción' y 'Comentario' para las claves que coinciden."
      ]
    },
    {
      "cell_type": "code",
      "execution_count": null,
      "metadata": {
        "id": "3qPIi42T0c0O"
      },
      "outputs": [],
      "source": [
        "# Tu código aquí ...\n",
        "\n"
      ]
    },
    {
      "cell_type": "markdown",
      "metadata": {
        "id": "PVhCG_hK0c0U"
      },
      "source": [
        "<font color='green'>Fin Actividad 5</font>\n"
      ]
    },
    {
      "cell_type": "markdown",
      "metadata": {
        "id": "35lvnsDrDjpW"
      },
      "source": [
        "### <font color='green'>Actividad 6</font>\n",
        "\n",
        "Tienes dos DataFrames: df_prices y df_weights. df_prices tiene columnas 'Date', 'ID', 'Price' y 'Moneda'. df_weights tiene columnas 'Date', 'ID', 'Weight' y 'Status'.\n",
        "\n",
        "```\n",
        "df_prices = pd.DataFrame({\n",
        "    'Date': pd.to_datetime(['2023-01-01', '2023-01-02', '2023-01-03', '2023-01-04', '2023-01-05', '2023-01-06']),\n",
        "    'ID': ['X', 'Y', 'X', 'Z', 'Y', 'Z'],\n",
        "    'Price': [50, 60, 55, 70, 65, 75],\n",
        "    'Moneda': ['USD', 'USD', 'EUR', 'USD', 'EUR', 'USD']\n",
        "})\n",
        "\n",
        "df_weights = pd.DataFrame({\n",
        "    'Date': pd.to_datetime(['2023-01-01', '2023-01-02', '2023-01-03', '2023-01-05']),\n",
        "    'ID': ['X', 'Y', 'Z', 'Y'],\n",
        "    'Weight': [0.5, 0.3, 0.2, 0.4],\n",
        "    'Status': ['Activo', 'Inactivo', 'Activo', 'Activo']\n",
        "})\n",
        "```\n",
        "\n",
        "1. Calcula el precio promedio ponderado de cada 'ID' en función de los 'Weights' para las fechas coincidentes.\n",
        "\n",
        "2. Si una fecha en df_prices no tiene una fecha coincidente en df_weights, utiliza el 'Weight' más reciente disponible.\n",
        "\n",
        "3. Para los 'ID' que tengan el 'Status' de \"Activo\" en df_weights, convierte su 'Price' a EUR si su 'Moneda' es USD (puedes usar un factor de conversión ficticio).\n",
        "\n",
        "\n",
        "\n",
        "\n",
        "\n"
      ]
    },
    {
      "cell_type": "code",
      "execution_count": null,
      "metadata": {
        "id": "qV94bBE9E1mj"
      },
      "outputs": [],
      "source": [
        "\n"
      ]
    },
    {
      "cell_type": "markdown",
      "metadata": {
        "id": "91XVw_jEE1mp"
      },
      "source": [
        "<font color='green'>Fin Actividad 6</font>\n"
      ]
    }
  ],
  "metadata": {
    "colab": {
      "collapsed_sections": [
        "pULXnMCXLIZ6"
      ],
      "provenance": []
    },
    "kernelspec": {
      "display_name": "Python 3",
      "language": "python",
      "name": "python3"
    },
    "language_info": {
      "codemirror_mode": {
        "name": "ipython",
        "version": 3
      },
      "file_extension": ".py",
      "mimetype": "text/x-python",
      "name": "python",
      "nbconvert_exporter": "python",
      "pygments_lexer": "ipython3",
      "version": "3.12.3"
    }
  },
  "nbformat": 4,
  "nbformat_minor": 0
}
