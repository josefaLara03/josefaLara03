{
  "nbformat": 4,
  "nbformat_minor": 0,
  "metadata": {
    "kernelspec": {
      "display_name": "Python 3",
      "language": "python",
      "name": "python3"
    },
    "language_info": {
      "codemirror_mode": {
        "name": "ipython",
        "version": 3
      },
      "file_extension": ".py",
      "mimetype": "text/x-python",
      "name": "python",
      "nbconvert_exporter": "python",
      "pygments_lexer": "ipython3",
      "version": "3.7.6"
    },
    "colab": {
      "provenance": []
    }
  },
  "cells": [
    {
      "cell_type": "markdown",
      "metadata": {
        "id": "k34hGXssxYq0"
      },
      "source": [
        "# **Obtención y preparación de datos**\n",
        "\n",
        "# OPD12. Edición de Estructuras en Pandas"
      ]
    },
    {
      "cell_type": "markdown",
      "metadata": {
        "id": "0AzCXhFQEkwh"
      },
      "source": [
        "## <font color='blue'>**Modificación de elementos en una Serie**</font>\n",
        "\n",
        "Podemos modificar un valor de una serie usando la notación corchetes, y haciendo referencia a índices o a las etiquetas."
      ]
    },
    {
      "cell_type": "code",
      "metadata": {
        "id": "xL8iBoNMxqJM"
      },
      "source": [
        "import numpy as np\n",
        "import pandas as pd"
      ],
      "execution_count": null,
      "outputs": []
    },
    {
      "cell_type": "code",
      "metadata": {
        "id": "V4Yrm_zNxoDH"
      },
      "source": [
        "s = pd.Series([1, 2, 3, 4, 5], index = [\"a\", \"b\", \"c\", \"d\", \"e\"])\n",
        "s"
      ],
      "execution_count": null,
      "outputs": []
    },
    {
      "cell_type": "code",
      "metadata": {
        "id": "tOTareaHx8zX"
      },
      "source": [
        "s[0] = -1\n",
        "s[\"b\"] = -2\n",
        "s"
      ],
      "execution_count": null,
      "outputs": []
    },
    {
      "cell_type": "markdown",
      "metadata": {
        "id": "IlrrjI0oyIMa"
      },
      "source": [
        "Podemos asignar un valor a un rango, definido por índices o por etiquetas, asignando el valor a cada uno de los elementos involucrados en el rango."
      ]
    },
    {
      "cell_type": "code",
      "metadata": {
        "id": "1H5pebRgySiY"
      },
      "source": [
        "s[1:3] = 0\n",
        "s"
      ],
      "execution_count": null,
      "outputs": []
    },
    {
      "cell_type": "code",
      "metadata": {
        "id": "Cu3UZ_96yXcw"
      },
      "source": [
        "s[\"b\":\"d\"] = -2\n",
        "s"
      ],
      "execution_count": null,
      "outputs": []
    },
    {
      "cell_type": "markdown",
      "metadata": {
        "id": "E3-4QC5Iycn4"
      },
      "source": [
        "Si el rango está delimitado por números (haciendo referencia a la posición de los elementos), el último elemento del rango no se incluye. Por el contrario, si está delimitado por etiquetas, el último elemento sí se incluye.\n",
        "\n",
        "Al rango podemos asignar también una lista de valores, aunque en este caso la lista deberá tener el mismo número de elementos que el rango en cuestión."
      ]
    },
    {
      "cell_type": "code",
      "metadata": {
        "id": "FpdtyEqvyi0a"
      },
      "source": [
        "s[1:3] = [0, 1]\n",
        "s"
      ],
      "execution_count": null,
      "outputs": []
    },
    {
      "cell_type": "code",
      "metadata": {
        "id": "U7YLufNOysNb"
      },
      "source": [
        "s[\"b\":\"d\"] = [10, 11, 12]\n",
        "s"
      ],
      "execution_count": null,
      "outputs": []
    },
    {
      "cell_type": "markdown",
      "metadata": {
        "id": "ne071b33y0lk"
      },
      "source": [
        "Si asignamos un valor haciendo referencia a una etiqueta que no existe en el índice, se añade dicha etiqueta al índice y se le asigna el valor."
      ]
    },
    {
      "cell_type": "code",
      "metadata": {
        "id": "nsfUGiCPy28R"
      },
      "source": [
        "s[\"f\"] = 0\n",
        "s"
      ],
      "execution_count": null,
      "outputs": []
    },
    {
      "cell_type": "markdown",
      "source": [
        "Esto solo funciona con etiquetas. Si utilizamos un índice y éste no existe en\n",
        "la serie, se devolverá un error."
      ],
      "metadata": {
        "id": "ArgC5CiBSX3W"
      }
    },
    {
      "cell_type": "code",
      "metadata": {
        "id": "0cxnttejnXCM"
      },
      "source": [
        "try:\n",
        "    s[6] = 11\n",
        "except Exception as e:\n",
        "    print(type(e).__doc__)"
      ],
      "execution_count": null,
      "outputs": []
    },
    {
      "cell_type": "markdown",
      "metadata": {
        "id": "in_MaF7ny9B5"
      },
      "source": [
        "Si usamos un rango con etiquetas y alguna de las etiquetas no existe, solo se asigna el valor a las existentes."
      ]
    },
    {
      "cell_type": "code",
      "metadata": {
        "id": "IXXIgx89y_vH"
      },
      "source": [
        "s[\"f\":\"h\"] = -1\n",
        "s"
      ],
      "execution_count": null,
      "outputs": []
    },
    {
      "cell_type": "markdown",
      "metadata": {
        "id": "EDsJi7_QzH8M"
      },
      "source": [
        "Por último, también podemos usar en la selección una lista -tanto de índices como de etiquetas-, en cuyo caso se seleccionan los valores indicados en el orden indicado. Por ejemplo, podemos usar la lista [\"c\", \"a\"] para asignar a los elementos correspondientes los valores 1 y 2, respectivamente."
      ]
    },
    {
      "cell_type": "code",
      "metadata": {
        "id": "CNV-4FYAzPCz"
      },
      "source": [
        "s[[\"c\", \"a\"]] = [1, 2]\n",
        "s"
      ],
      "execution_count": null,
      "outputs": []
    },
    {
      "cell_type": "code",
      "metadata": {
        "id": "PdsQmPKczYzB"
      },
      "source": [
        "s[[1, 0]] = [20, 21]\n",
        "s"
      ],
      "execution_count": null,
      "outputs": []
    },
    {
      "cell_type": "markdown",
      "metadata": {
        "id": "z0D7Vil68MPV"
      },
      "source": [
        "## <font color='blue'>**Eliminación de elementos en una Serie**</font>\n",
        "\n",
        "El método `pandas.Series.drop` devuelve una copia de la serie tras eliminar el elemento cuya etiqueta se especifica como argumento."
      ]
    },
    {
      "cell_type": "code",
      "metadata": {
        "id": "UkDRC-PX8Yu3"
      },
      "source": [
        "s = pd.Series([1, 2, 3, 4, 5], index = [\"a\", \"b\", \"c\", \"d\", \"e\"])\n",
        "s"
      ],
      "execution_count": null,
      "outputs": []
    },
    {
      "cell_type": "code",
      "metadata": {
        "id": "3xzh0Lhw8dgY"
      },
      "source": [
        "r = s.drop(\"a\")\n",
        "r"
      ],
      "execution_count": null,
      "outputs": []
    },
    {
      "cell_type": "code",
      "source": [
        "s"
      ],
      "metadata": {
        "id": "ymqS6H6_TjSJ"
      },
      "execution_count": null,
      "outputs": []
    },
    {
      "cell_type": "markdown",
      "metadata": {
        "id": "WWcegipa8kfv"
      },
      "source": [
        "En este ejemplo se ha pasado como único argumento la etiqueta del elemento a eliminar, y el método ha devuelto la serie sin dicho elemento. Si la etiqueta no se encontrase en la serie, se devolvería un error.\n",
        "\n",
        "También se puede pasar como argumento no una etiqueta, sino una lista de etiquetas. En este caso se eliminarán todos los elementos con dichas etiquetas."
      ]
    },
    {
      "cell_type": "code",
      "metadata": {
        "id": "2lobEjJM8rt4"
      },
      "source": [
        "r = s.drop([\"d\", \"a\"])\n",
        "r"
      ],
      "execution_count": null,
      "outputs": []
    },
    {
      "cell_type": "markdown",
      "metadata": {
        "id": "kxxzillx9IF_"
      },
      "source": [
        "Las etiquetas no tienen que estar en orden.\n",
        "\n",
        "El argumento `inplace = True` realiza la eliminación inplace (modificando directamente la serie)."
      ]
    },
    {
      "cell_type": "code",
      "metadata": {
        "id": "4Go2Oj8vN_qp"
      },
      "source": [
        "s"
      ],
      "execution_count": null,
      "outputs": []
    },
    {
      "cell_type": "markdown",
      "metadata": {
        "id": "W4B7prM5N72O"
      },
      "source": [
        "Este método exige el uso de etiquetas para seleccionar los elementos a eliminar. Esto significa que si en un momento dado necesitamos eliminar uno o más elementos por su índice, deberemos convertirlos en sus correspondientes etiquetas, lo que resulta extremadamente sencillo seleccionando los elementos adecuados del index."
      ]
    },
    {
      "cell_type": "code",
      "metadata": {
        "id": "JxYoGNQJ9Tak"
      },
      "source": [
        "s = pd.Series([1, 2, 3, 4, 5])\n",
        "s"
      ],
      "execution_count": null,
      "outputs": []
    },
    {
      "cell_type": "markdown",
      "metadata": {
        "id": "MkJbhIwZ9X64"
      },
      "source": [
        "Si se desea eliminar los elementos cuyos índices son 1 y 3, basta utilizar el atributo `index` para que devuelve todas las etiquetas."
      ]
    },
    {
      "cell_type": "code",
      "metadata": {
        "id": "BzW27rwW9o1A"
      },
      "source": [
        "s = pd.Series([1, 2, 3, 4, 5], index = [\"a\", \"b\", \"c\", \"d\", \"e\"])\n",
        "\n",
        "list(s.index[[1, 3]])"
      ],
      "execution_count": null,
      "outputs": []
    },
    {
      "cell_type": "code",
      "metadata": {
        "id": "JZVKlV689x5X"
      },
      "source": [
        "s.drop(s.index[[1, 3]])"
      ],
      "execution_count": null,
      "outputs": []
    },
    {
      "cell_type": "markdown",
      "metadata": {
        "id": "f_ib1Loc9815"
      },
      "source": [
        "Otra forma para eliminar un elemento de una serie es el método `pandas.Series.pop`. Al igual que con el método `drop`, éste solo acepta una etiqueta y devuelve el valor correspondiente a dicha etiqueta, eliminándolo de la serie in-place."
      ]
    },
    {
      "cell_type": "code",
      "metadata": {
        "id": "YV1Wvw4S-D4A"
      },
      "source": [
        "s = pd.Series([1, 2, 3, 4, 5])\n",
        "s"
      ],
      "execution_count": null,
      "outputs": []
    },
    {
      "cell_type": "code",
      "metadata": {
        "id": "U-gGJfoQNvIt"
      },
      "source": [
        "s.pop(1)"
      ],
      "execution_count": null,
      "outputs": []
    },
    {
      "cell_type": "code",
      "metadata": {
        "id": "CA3UXVSxNzf5"
      },
      "source": [
        "s"
      ],
      "execution_count": null,
      "outputs": []
    },
    {
      "cell_type": "markdown",
      "metadata": {
        "id": "MlWQqoUI-O8S"
      },
      "source": [
        "Si la etiqueta no se encuentra en el index, el método devolverá un error."
      ]
    },
    {
      "cell_type": "markdown",
      "metadata": {
        "id": "tYpCWcuW-iEe"
      },
      "source": [
        "## <font color='blue'>**Método `where` en series**</font>\n",
        "\n",
        "El método `pandas.Series.where` permite filtrar los valores de una serie de forma que solo los que cumplan cierta condición se mantengan. Los valores que no la cumplan son sustituidos por un valor (`NaN` por defecto)."
      ]
    },
    {
      "cell_type": "code",
      "metadata": {
        "id": "E80AVrSS-rD1"
      },
      "source": [
        "s = pd.Series(np.arange(0,10))\n",
        "s"
      ],
      "execution_count": null,
      "outputs": []
    },
    {
      "cell_type": "markdown",
      "metadata": {
        "id": "6_NEaT_G-x-a"
      },
      "source": [
        "Por ejemplo, filtrar los elementos de $s$ que sean pares."
      ]
    },
    {
      "cell_type": "code",
      "metadata": {
        "id": "1WCzRGhY-3nC"
      },
      "source": [
        "s.where(s % 2 == 0)"
      ],
      "execution_count": null,
      "outputs": []
    },
    {
      "cell_type": "markdown",
      "metadata": {
        "id": "k3pgTavM---V"
      },
      "source": [
        "Los valores que no cumplen la condición son sustituidos por `NaN`. Es posible modificar este valor de reemplazo pasando al método como segundo argumento el valor que se quiere fijar."
      ]
    },
    {
      "cell_type": "code",
      "metadata": {
        "id": "2mEqz1Ew_Jb3"
      },
      "source": [
        "s.where(s % 2 == 0, -1)"
      ],
      "execution_count": null,
      "outputs": []
    },
    {
      "cell_type": "markdown",
      "metadata": {
        "id": "72-5OgIy_UQa"
      },
      "source": [
        "## <font color='blue'>**Modificación de Dataframes**</font>\n",
        "\n",
        "Existe una gran variedad de formas para seleccionar elementos o bloques de elementos de un dataframe, y cada una de estas selecciones puede ser utilizada para modificar los valores contenidos en el dataframe.\n",
        "\n",
        "Podemos modificar un valor concreto usando los métodos `loc` o `iloc`, en función de que queramos usar sus etiquetas o índices.\n",
        "\n"
      ]
    },
    {
      "cell_type": "code",
      "metadata": {
        "id": "vOrY3UWh_o_W"
      },
      "source": [
        "df = pd.DataFrame(np.arange(12).reshape([4, 3]),\n",
        "                  index = [\"a\", \"b\", \"c\", \"d\"],\n",
        "                  columns = [\"A\", \"B\", \"C\"])\n",
        "df"
      ],
      "execution_count": null,
      "outputs": []
    },
    {
      "cell_type": "code",
      "metadata": {
        "id": "VB2Z7oleAfjm"
      },
      "source": [
        "df.iloc[1, 2] = -1\n",
        "df"
      ],
      "execution_count": null,
      "outputs": []
    },
    {
      "cell_type": "markdown",
      "metadata": {
        "id": "NSS7iNioAoGV"
      },
      "source": [
        "Es posible modificar una columna completa seleccionándola y asignándole, por ejemplo, una lista con los nuevos valores."
      ]
    },
    {
      "cell_type": "code",
      "metadata": {
        "id": "1zQCuQzAAsAu"
      },
      "source": [
        "df = pd.DataFrame(np.arange(12).reshape([4, 3]),\n",
        "                  index = [\"a\", \"b\", \"c\", \"d\"],\n",
        "                  columns = [\"A\", \"B\", \"C\"])\n",
        "df[\"A\"] = -1\n",
        "df"
      ],
      "execution_count": null,
      "outputs": []
    },
    {
      "cell_type": "markdown",
      "metadata": {
        "id": "OVD0hbIzA1V-"
      },
      "source": [
        "En este caso, la longitud de la lista conteniendo los valores a insertar deberá coincidir con la longitud de la columna, salvo que en lugar de una lista se esté asignando un único valor, en cuyo caso se propagará a toda la columna.\n",
        "\n",
        "Si la selección es un bloque de datos de un tamaño arbitrario, nos encontramos en el mismo escenario: o bien insertamos datos con el mismo tamaño que la selección, o insertamos un único valor que se propagará a toda la selección."
      ]
    },
    {
      "cell_type": "code",
      "metadata": {
        "id": "zE88szIFA9e9"
      },
      "source": [
        "df = pd.DataFrame(np.arange(12).reshape([4, 3]),\n",
        "                  index = [\"a\", \"b\", \"c\", \"d\"],\n",
        "                  columns = [\"A\", \"B\", \"C\"])\n",
        "df.loc[\"b\":\"c\", \"A\":\"B\"] = [[-1, -2], [-3, -4]]\n",
        "df"
      ],
      "execution_count": null,
      "outputs": []
    },
    {
      "cell_type": "code",
      "metadata": {
        "id": "uJJJvBLIBQnn"
      },
      "source": [
        "df = pd.DataFrame(np.arange(12).reshape([4, 3]),\n",
        "                  index = [\"a\", \"b\", \"c\", \"d\"],\n",
        "                  columns = [\"A\", \"B\", \"C\"])\n",
        "df.loc[\"b\":\"c\", \"A\":\"B\"] = -1\n",
        "df"
      ],
      "execution_count": null,
      "outputs": []
    },
    {
      "cell_type": "markdown",
      "metadata": {
        "id": "nRNXR7Z4BWzE"
      },
      "source": [
        "También es posible insertar datos en una columna o fila inexistente, en cuyo caso se crea y se le asignan los valores en cuestión."
      ]
    },
    {
      "cell_type": "code",
      "metadata": {
        "id": "R8vtBxNABfX5"
      },
      "source": [
        "df = pd.DataFrame(np.arange(12).reshape([4, 3]),\n",
        "                  index = [\"a\", \"b\", \"c\", \"d\"],\n",
        "                  columns = [\"A\", \"B\", \"C\"])\n",
        "df[\"D\"] = [10, 20, 30, 40]\n",
        "df"
      ],
      "execution_count": null,
      "outputs": []
    },
    {
      "cell_type": "code",
      "metadata": {
        "id": "iulLBqXgBr7U"
      },
      "source": [
        "df = pd.DataFrame(np.arange(12).reshape([4, 3]),\n",
        "                  index = [\"a\", \"b\", \"c\", \"d\"],\n",
        "                  columns = [\"A\", \"B\", \"C\"])\n",
        "df.loc[\"e\"] = [10, 20, 30]\n",
        "df"
      ],
      "execution_count": null,
      "outputs": []
    },
    {
      "cell_type": "markdown",
      "metadata": {
        "id": "tQI7q_mKB3zz"
      },
      "source": [
        "## <font color='blue'>**Método `where` en dataframes**</font>\n",
        "\n",
        "De forma semejante a las series, el método de los dataframes `where` filtra los valores contenidos en el dataframe de forma que solo los que cumplan cierta condición se mantengan. El resto de valores son sustituidos por un valor que, por defecto, es `NaN`."
      ]
    },
    {
      "cell_type": "code",
      "metadata": {
        "id": "b5GQUJczCYzK"
      },
      "source": [
        "df = pd.DataFrame(np.arange(12).reshape(-1, 3), columns = [\"A\", \"B\", \"C\"])\n",
        "df"
      ],
      "execution_count": null,
      "outputs": []
    },
    {
      "cell_type": "markdown",
      "metadata": {
        "id": "eRqLuh3RDkyM"
      },
      "source": [
        "Filtrar los valores múltiplos de 2:"
      ]
    },
    {
      "cell_type": "code",
      "metadata": {
        "id": "vCtuGHWiDpAM"
      },
      "source": [
        "df.where(df % 2 == 0)"
      ],
      "execution_count": null,
      "outputs": []
    },
    {
      "cell_type": "markdown",
      "metadata": {
        "id": "3iBCpPvNDvxC"
      },
      "source": [
        "Todos aquellos valores que no son múltiplo de 2 son sustituidos por `NaN`. Si, por ejemplo, quisiéramos cambiar de signo a los valores que no cumplen la condición impuesta, lo haríamos así:"
      ]
    },
    {
      "cell_type": "code",
      "metadata": {
        "id": "im9OBw1tDzXI"
      },
      "source": [
        "df.where(df % 2 == 0, -df)"
      ],
      "execution_count": null,
      "outputs": []
    },
    {
      "cell_type": "markdown",
      "metadata": {
        "id": "mYRVfM2zD5JW"
      },
      "source": [
        "## <font color='blue'>**Eliminación de elementos en un dataframe**</font>\n",
        "\n",
        "El método `pandas.DataFrame.drop` elimina las filas o columnas indicadas y devuelve el resultado, permitiéndose diferentes criterios para especificarlas.\n",
        "\n",
        "El primer criterio consiste en indicar la lista de etiquetas a eliminar y el eje al que pertenecen."
      ]
    },
    {
      "cell_type": "code",
      "metadata": {
        "id": "IrWoOnsMEGU-"
      },
      "source": [
        "df = pd.DataFrame(np.arange(16).reshape([4, 4]),\n",
        "                  index = [\"a\", \"b\", \"c\", \"d\"],\n",
        "                  columns = [\"A\", \"B\", \"C\", \"D\"])\n",
        "df"
      ],
      "execution_count": null,
      "outputs": []
    },
    {
      "cell_type": "markdown",
      "metadata": {
        "id": "EohyLf8BEQAz"
      },
      "source": [
        "Eliminar las filas cuyas etiquetas son \"a\" y \"c\"."
      ]
    },
    {
      "cell_type": "code",
      "metadata": {
        "id": "ICB7In6DEUJo"
      },
      "source": [
        "df.drop([\"a\", \"c\"], axis = 0)"
      ],
      "execution_count": null,
      "outputs": []
    },
    {
      "cell_type": "code",
      "metadata": {
        "id": "MCG6xVMQEmYp"
      },
      "source": [
        "df.drop([\"a\", \"c\"])"
      ],
      "execution_count": null,
      "outputs": []
    },
    {
      "cell_type": "markdown",
      "metadata": {
        "id": "3C8fdzzIEqQA"
      },
      "source": [
        "Obsérvese que lo que se muestra es el resultado de eliminar las filas indicadas del dataframe. Éste no se modifica salvo que utilicemos el argumento `inplace = True`."
      ]
    },
    {
      "cell_type": "markdown",
      "metadata": {
        "id": "SP9AyCDeEwBj"
      },
      "source": [
        "Para eliminar columnas, habría que indicar el eje correspondiente."
      ]
    },
    {
      "cell_type": "code",
      "metadata": {
        "id": "u_GC78zkExtm"
      },
      "source": [
        "df.drop([\"B\", \"D\"], axis = 1)"
      ],
      "execution_count": null,
      "outputs": []
    },
    {
      "cell_type": "markdown",
      "source": [
        "Si no especificamos el `axis=1` para que se eliminen las columnas, nos dará un error."
      ],
      "metadata": {
        "id": "whgK22puYJHS"
      }
    },
    {
      "cell_type": "code",
      "source": [
        "try:\n",
        "    df.drop([\"B\", \"D\"])\n",
        "except Exception as e:\n",
        "    print(type(e).__doc__)"
      ],
      "metadata": {
        "id": "Z_nlb2OAX-I_"
      },
      "execution_count": null,
      "outputs": []
    },
    {
      "cell_type": "markdown",
      "metadata": {
        "id": "jTNzmUf6FFno"
      },
      "source": [
        "Otra alternativa para especificar si se están eliminando filas o columnas es utilizar directamente los parámetros `index` y `columns`. Así, otra forma de eliminar las filas $a$ y $c$ sería la siguiente:\n",
        "\n"
      ]
    },
    {
      "cell_type": "code",
      "metadata": {
        "id": "6GGjGOm3FL7Y"
      },
      "source": [
        "df.drop(index = [\"a\", \"c\"])"
      ],
      "execution_count": null,
      "outputs": []
    },
    {
      "cell_type": "code",
      "metadata": {
        "id": "Yd-NxfoiFR4A"
      },
      "source": [
        "df.drop(columns = [\"B\", \"D\"])"
      ],
      "execution_count": null,
      "outputs": []
    },
    {
      "cell_type": "markdown",
      "metadata": {
        "id": "520WILsA2CFW"
      },
      "source": [
        "## <font color='green'>Actividad 1</font>\n",
        "\n",
        "En la Liga del Diplomado juegan 6 equipos: Equipo A, Equipo B, Equipo C, Equipo D, Equipo E y el **Equipo de Profes** (Campeón invicto en todas las ediciones del Diplomado).\n",
        "\n",
        "La imagen muestra la tabla resumen con los resultados de la liga el último año.\n",
        "<br><br>\n",
        "<img src='https://drive.google.com/uc?export=view&id=1xW3fW4RrTim0N6hGjT51QxBOW-e36if8' width=\"800\" align=\"center\" style=\"margin-right: 20px\">\n",
        "<br><br>\n",
        "1. Generar el dataframe __tabla_posiciones__ con la información de la tabla anterior.\n",
        "2. Determinar para cada equipo la diferencia de goles (goles a favor -  goles en contra) y agregar esta información al dataframe.\n",
        "3. Determinar la posición de cada equipo en la liga y presentar la información ordenada.\n",
        "4. Durante la confrontación entre el Equipo A y el **Equipo de Profes** que fue ganada por A. El equipo A tenía más jugadores en cancha que los reglamentarios (tramposos!!!), por lo que la comisión disciplinaria decidió: i) descontar los puntos al equipo A y entregarlos (justamente) al **Equipo de Profes**, ii) finalizar el partido por un marcador de 3-0 a favor de los profes. Realice las ediciones correspondientes en el dataframe y entregue la tabla de posiciones final.\n",
        "5. El premio al fair play se entrega al equipo con mejor comportamiento, para ello, se deben sumar las tarjetas acumuladas (tanto amarillas como rojas) en donde a las tarjetas rojas se les aplica un castigo multiplicándolas por 2, en caso de empate se selecciona al con menor número de tarjetas rojas, si se mantiene el empate el premio es para el equipo con menor número de tarjetas totales. Cree las columnas fair play con el indicador descrito y la columna tarjetas totales y determine el ganador del premio.\n",
        "6. El último lugar de la tabla desciende de la liga y por lo tanto debe ser eliminado del dataframe.\n"
      ]
    },
    {
      "cell_type": "code",
      "metadata": {
        "id": "oCmr4yNb2DIf"
      },
      "source": [
        "# Tu código aquí ...\n"
      ],
      "execution_count": null,
      "outputs": []
    },
    {
      "cell_type": "markdown",
      "metadata": {
        "id": "zRVMnAga2EpR"
      },
      "source": [
        "<font color='green'>Fin Actividad 1</font>"
      ]
    },
    {
      "cell_type": "markdown",
      "metadata": {
        "id": "CS1OBINMpiqs"
      },
      "source": [
        "### <font color='green'>Actividad 2</font>\n",
        "\n",
        "Dado un DataFrame con registros de ventas y retornos de productos, debes calcular la tasa de retorno y almacenarla en una Serie.\n",
        "\n",
        "```\n",
        "dates = pd.date_range('20230101', periods=10)\n",
        "df1 = pd.DataFrame({\n",
        "    'sales': np.random.randint(50, 200, len(dates)),\n",
        "    'returns': np.random.randint(1, 20, len(dates))\n",
        "}, index=dates)\n",
        "```\n",
        "\n",
        "1. Calcula la tasa de retorno como returns / sales.\n",
        "2. Almacena el resultado en una Serie con el mismo índice de fechas.\n",
        "3. Une esta Serie al DataFrame original como una nueva columna llamada 'return_rate'.\n"
      ]
    },
    {
      "cell_type": "code",
      "metadata": {
        "id": "pt_H3dvxpiqy"
      },
      "source": [
        "# Tu código aquí ...\n",
        "\n"
      ],
      "execution_count": null,
      "outputs": []
    },
    {
      "cell_type": "markdown",
      "metadata": {
        "id": "h87YVkTmpiqy"
      },
      "source": [
        "<font color='green'>Fin Actividad 2</font>"
      ]
    },
    {
      "cell_type": "markdown",
      "metadata": {
        "id": "wLxFjHNNp2IK"
      },
      "source": [
        "### <font color='green'>Actividad 3</font>\n",
        "\n",
        "Tienes un DataFrame de precios de acciones y una Serie que representa el volumen de acciones negociadas. Algunos días, el volumen es desconocido y aparece como NaN en la Serie. Tu objetivo es llenar estos valores, pero no con un método simple.\n",
        "\n",
        "```\n",
        "dates = pd.date_range('20230101', periods=8)\n",
        "df2 = pd.DataFrame({\n",
        "    'price': np.random.randn(len(dates)).cumsum() + 50\n",
        "}, index=dates)\n",
        "\n",
        "volume = pd.Series(np.where(np.random.choice([True, False], len(dates)), np.random.randint(1000, 5000, len(dates)), np.nan), index=dates)\n",
        "```\n",
        "\n",
        "1. En los días con volumen faltante, llena el valor con el volumen del día anterior si el precio de la acción ha aumentado, o con el volumen del día siguiente si el precio ha disminuido.\n",
        "2. Añade la Serie de volumen al DataFrame como una nueva columna.\n"
      ]
    },
    {
      "cell_type": "code",
      "metadata": {
        "id": "HCTRmDbkp2IP"
      },
      "source": [
        "# Tu código aquí ...\n",
        "\n"
      ],
      "execution_count": null,
      "outputs": []
    },
    {
      "cell_type": "markdown",
      "metadata": {
        "id": "cL1YIG_Ep2IP"
      },
      "source": [
        "<font color='green'>Fin Actividad 3</font>"
      ]
    },
    {
      "cell_type": "markdown",
      "metadata": {
        "id": "0RC0axsmqVVj"
      },
      "source": [
        "### <font color='green'>Actividad 4</font>\n",
        "\n",
        "Tienes un DataFrame con información de ventas y gastos por departamento. Se te pide extraer ciertos departamentos y realizar una transformación en los datos.\n",
        "\n",
        "```\n",
        "departments = [\"HR\", \"Sales\", \"Tech\", \"Admin\", \"Finance\"]\n",
        "df3 = pd.DataFrame({\n",
        "    'sales': np.random.randint(10, 100, len(departments)),\n",
        "    'expenses': np.random.randint(10, 50, len(departments))\n",
        "}, index=departments)\n",
        "```\n",
        "\n",
        "1. Extrae sólo los departamentos \"Sales\" y \"Tech\".\n",
        "2. Crea una Serie que represente el margen de beneficio (definido como sales - expenses).\n",
        "3. Combina esta Serie con el subconjunto del DataFrame original utilizando pd.concat.\n"
      ]
    },
    {
      "cell_type": "code",
      "metadata": {
        "id": "q2V6o9qMqVVp"
      },
      "source": [
        "# Tu código aquí ...\n",
        "\n"
      ],
      "execution_count": null,
      "outputs": []
    },
    {
      "cell_type": "markdown",
      "metadata": {
        "id": "CBEqtZdDqVVp"
      },
      "source": [
        "<font color='green'>Fin Actividad 4</font>"
      ]
    },
    {
      "cell_type": "markdown",
      "metadata": {
        "id": "FDDzl3L3qw34"
      },
      "source": [
        "### <font color='green'>Actividad 5</font>\n",
        "\n",
        "Estás trabajando con un DataFrame que contiene ventas trimestrales y anuales de diferentes años. Tu objetivo es calcular el promedio de ventas trimestrales para cada año y agregarlo como una nueva entrada en la Serie.\n",
        "\n",
        "```\n",
        "years = [2021, 2022, 2023]\n",
        "entries = [\"Q1\", \"Q2\", \"Q3\", \"Q4\", \"Annual\"]\n",
        "index = pd.MultiIndex.from_product([years, entries], names=[\"Year\", \"Entry\"])\n",
        "df4 = pd.DataFrame({\n",
        "    'sales': np.random.randint(500, 1500, len(index))\n",
        "}, index=index)\n",
        "```\n",
        "\n",
        "1. Calcula el promedio de ventas trimestrales para cada año (no consideres la entrada \"Annual\").\n",
        "2. Añade esta información como una nueva entrada llamada \"Quarterly_avg\" en el DataFrame original.\n"
      ]
    },
    {
      "cell_type": "code",
      "metadata": {
        "id": "aTzYSHl4qw39"
      },
      "source": [
        "# Tu código aquí ...\n",
        "\n"
      ],
      "execution_count": null,
      "outputs": []
    },
    {
      "cell_type": "markdown",
      "metadata": {
        "id": "1AMyOy7pqw39"
      },
      "source": [
        "<font color='green'>Fin Actividad 5</font>"
      ]
    }
  ]
}