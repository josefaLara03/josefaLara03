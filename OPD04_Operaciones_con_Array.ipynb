{
 "cells": [
  {
   "cell_type": "markdown",
   "metadata": {
    "id": "xWabdib-HUnO"
   },
   "source": [
    "# **Obtención y preparación de datos**\n",
    "# OPD04. Operaciones con Array"
   ]
  },
  {
   "cell_type": "code",
   "execution_count": 2,
   "metadata": {
    "id": "A_eEjYSwH5pD"
   },
   "outputs": [],
   "source": [
    "import numpy as np"
   ]
  },
  {
   "cell_type": "markdown",
   "metadata": {
    "id": "jf4brU719i-4"
   },
   "source": [
    "## <font color='blue'>**Ordenar y agregar elementos a un arreglo**</font>"
   ]
  },
  {
   "cell_type": "markdown",
   "metadata": {
    "id": "Quy7OtbJ9i-5"
   },
   "source": [
    "Ordenar un elemento es simple con `np.sort()`. Puede especificar el eje, el tipo y el orden cuando llama a la función."
   ]
  },
  {
   "cell_type": "code",
   "execution_count": 3,
   "metadata": {
    "id": "qtNqi_-59i-5"
   },
   "outputs": [
    {
     "data": {
      "text/plain": [
       "array([ 1,  2,  3,  4,  5,  6,  7,  8,  9, 10])"
      ]
     },
     "execution_count": 3,
     "metadata": {},
     "output_type": "execute_result"
    }
   ],
   "source": [
    "arr = np.array([2, 1, 5, 10, 3, 7, 4, 9, 6, 8])\n",
    "np.sort(arr)"
   ]
  },
  {
   "cell_type": "code",
   "execution_count": 4,
   "metadata": {
    "id": "PwDn9BPJ9i-7"
   },
   "outputs": [
    {
     "data": {
      "text/plain": [
       "(4,)"
      ]
     },
     "execution_count": 4,
     "metadata": {},
     "output_type": "execute_result"
    }
   ],
   "source": [
    "a = np.array([1, 2, 3, 4])\n",
    "b = np.array([5, 6, 7, 8])\n",
    "b.shape"
   ]
  },
  {
   "cell_type": "markdown",
   "metadata": {
    "id": "p878Vbef9i-9"
   },
   "source": [
    "Para agregar elementos, se utiliza la función `np.concatenate()`:"
   ]
  },
  {
   "cell_type": "code",
   "execution_count": 6,
   "metadata": {
    "id": "iW5VWwJ19i-9"
   },
   "outputs": [
    {
     "name": "stdout",
     "output_type": "stream",
     "text": [
      "[1 2 3 4 5 6 7 8]\n"
     ]
    }
   ],
   "source": [
    "c = np.concatenate((a, b))\n",
    "print(c)\n"
   ]
  },
  {
   "cell_type": "code",
   "execution_count": 7,
   "metadata": {
    "id": "qXlQp9JvbLEC"
   },
   "outputs": [],
   "source": [
    "x = np.array([[1, 2], [3, 4]])\n",
    "y = np.array([[5, 6]])"
   ]
  },
  {
   "cell_type": "code",
   "execution_count": 9,
   "metadata": {
    "id": "N9h2zs7B9i_B"
   },
   "outputs": [
    {
     "name": "stdout",
     "output_type": "stream",
     "text": [
      "[[1 2]\n",
      " [3 4]]\n",
      "\n",
      "[[5 6]]\n",
      "\n",
      "[[1 2]\n",
      " [3 4]\n",
      " [5 6]]\n"
     ]
    }
   ],
   "source": [
    "print(x)\n",
    "print()\n",
    "print(y)\n",
    "print()\n",
    "r =np.concatenate((x, y), axis=0)\n",
    "print(r)"
   ]
  },
  {
   "cell_type": "markdown",
   "metadata": {
    "id": "BQEeQ4PZ9i_F"
   },
   "source": [
    "## <font color='blue'>**Forma y Tamaño de un Arreglo**</font>"
   ]
  },
  {
   "cell_type": "markdown",
   "metadata": {
    "id": "N9cFOb179i_F"
   },
   "source": [
    "`ndarray.ndim` entrega el número de ejes, o dimensiones, del arreglo.\n",
    "\n",
    "`ndarray.size` entrega el número total de elementos del arreglo.\n",
    "\n",
    "`ndarray.shape` entrega una tupla de números enteros que indican el número de elementos almacenados a lo largo de cada dimensión del arreglo. Si, por ejemplo, \n",
    "\n",
    "tiene un arreglo 2D con 2 filas y 3 columnas, la forma de su arreglo es (2, 3).\n",
    "\n",
    "Por ejemplo:"
   ]
  },
  {
   "cell_type": "code",
   "execution_count": 10,
   "metadata": {
    "id": "V4yq-UqC9i_G"
   },
   "outputs": [
    {
     "data": {
      "text/plain": [
       "array([[[0, 1, 2, 3],\n",
       "        [4, 5, 6, 7]],\n",
       "\n",
       "       [[0, 1, 2, 3],\n",
       "        [4, 5, 6, 7]],\n",
       "\n",
       "       [[0, 1, 2, 3],\n",
       "        [4, 5, 6, 7]]])"
      ]
     },
     "execution_count": 10,
     "metadata": {},
     "output_type": "execute_result"
    }
   ],
   "source": [
    "arr_ejemplo = np.array([[[0, 1, 2, 3],[4, 5, 6, 7]],\n",
    "                        [[0, 1, 2, 3],[4, 5, 6, 7]],\n",
    "                        [[0 ,1 ,2, 3],[4, 5, 6, 7]]])\n",
    "arr_ejemplo"
   ]
  },
  {
   "cell_type": "code",
   "execution_count": 11,
   "metadata": {
    "id": "GGva_cNq9i_I"
   },
   "outputs": [
    {
     "data": {
      "text/plain": [
       "3"
      ]
     },
     "execution_count": 11,
     "metadata": {},
     "output_type": "execute_result"
    }
   ],
   "source": [
    "arr_ejemplo.ndim"
   ]
  },
  {
   "cell_type": "code",
   "execution_count": null,
   "metadata": {
    "id": "Bqxh400H9i_L"
   },
   "outputs": [],
   "source": [
    "arr_ejemplo.size"
   ]
  },
  {
   "cell_type": "code",
   "execution_count": null,
   "metadata": {
    "id": "ySotF0Ok9i_P"
   },
   "outputs": [],
   "source": [
    "arr_ejemplo.shape"
   ]
  },
  {
   "cell_type": "markdown",
   "metadata": {
    "id": "T7r1a_cF9i_V"
   },
   "source": [
    "## <font color='blue'>**Redimensionamiento de Arreglos**</font>"
   ]
  },
  {
   "cell_type": "markdown",
   "metadata": {
    "id": "IFn5Mpyf9i_V"
   },
   "source": [
    "El método de `reshape()` le dará una nueva forma a un arreglo sin cambiar los datos. Recuerde que cuando usa el método de redimensionamiento, el arreglo que desea generar debe tener la misma cantidad de elementos que el arreglo original. Si comienza con un arreglo con 12 elementos, deberá asegurarse de que su nueva arreglo también tenga un total de 12 elementos."
   ]
  },
  {
   "cell_type": "code",
   "execution_count": null,
   "metadata": {
    "id": "LIpNN-Md9i_W"
   },
   "outputs": [],
   "source": [
    "a = np.arange(6)\n",
    "print(a)\n",
    "a.shape"
   ]
  },
  {
   "cell_type": "code",
   "execution_count": null,
   "metadata": {
    "id": "kSCqLbgj9i_Y"
   },
   "outputs": [],
   "source": [
    "b = a.reshape(3, 2)\n",
    "print(b)\n",
    "b.shape"
   ]
  },
  {
   "cell_type": "markdown",
   "metadata": {
    "id": "oqqmNBdB9i_c"
   },
   "source": [
    "## <font color='blue'>**Transponer un Arreglo**</font>"
   ]
  },
  {
   "cell_type": "code",
   "execution_count": null,
   "metadata": {
    "id": "fBwj39dT9i_d"
   },
   "outputs": [],
   "source": [
    "arr = np.arange(6).reshape((2, 3))\n",
    "arr"
   ]
  },
  {
   "cell_type": "code",
   "execution_count": null,
   "metadata": {
    "id": "OSgt5cEf9i_g"
   },
   "outputs": [],
   "source": [
    "arr.transpose()"
   ]
  },
  {
   "cell_type": "markdown",
   "metadata": {
    "id": "4iCDRwg_9i_j"
   },
   "source": [
    "## <font color='blue'>**¿Cómo agregar nuevos ejes (dimensiones) a un arreglo?**</font>\n",
    "\n",
    "Con las funcionaes `np.newaxis` y `np.expand_dims` se puede aumentar las dimensiones de su arreglo existente.\n",
    "\n",
    "El uso de `np.newaxis` aumentará las dimensiones de su arreglo en una dimensión cuando se use una vez. Esto significa que una arreglo 1D se convertirá en una arreglo 2D, una arreglo 2D se convertirá en una arreglo 3D, y así sucesivamente. Por ejemplo:"
   ]
  },
  {
   "cell_type": "code",
   "execution_count": 12,
   "metadata": {
    "id": "UPW2-hlN9i_j"
   },
   "outputs": [
    {
     "name": "stdout",
     "output_type": "stream",
     "text": [
      "[1 2 3 4 5 6 7]\n"
     ]
    },
    {
     "data": {
      "text/plain": [
       "(7,)"
      ]
     },
     "execution_count": 12,
     "metadata": {},
     "output_type": "execute_result"
    }
   ],
   "source": [
    "a = np.array([1, 2, 3, 4, 5, 6, 7])\n",
    "print(a)\n",
    "a.shape"
   ]
  },
  {
   "cell_type": "code",
   "execution_count": 13,
   "metadata": {
    "id": "WugE0vgM9i_l"
   },
   "outputs": [
    {
     "name": "stdout",
     "output_type": "stream",
     "text": [
      "[[1 2 3 4 5 6 7]]\n"
     ]
    },
    {
     "data": {
      "text/plain": [
       "(1, 7)"
      ]
     },
     "execution_count": 13,
     "metadata": {},
     "output_type": "execute_result"
    }
   ],
   "source": [
    "a2 = a[np.newaxis, :]\n",
    "print(a2)\n",
    "a2.shape"
   ]
  },
  {
   "cell_type": "markdown",
   "metadata": {
    "id": "zoq8FHQU9i_m"
   },
   "source": [
    "Es posible convertir explícitamente un arreglo 1D a un vector de fila o a un vector de columna usando `np.newaxis`. Por ejemplo, puede convertir un arreglo 1D en un vector de fila insertando un eje a lo largo de la primera dimensión:"
   ]
  },
  {
   "cell_type": "code",
   "execution_count": null,
   "metadata": {
    "id": "4Nt1J8JM9i_n"
   },
   "outputs": [],
   "source": [
    "row_vector = a[np.newaxis, :]\n",
    "print(row_vector)\n",
    "row_vector.shape"
   ]
  },
  {
   "cell_type": "markdown",
   "metadata": {
    "id": "CQVjfd659i_p"
   },
   "source": [
    "o convertirlo en un vector columna, insertando un eje en la segunda dimensión:"
   ]
  },
  {
   "cell_type": "code",
   "execution_count": null,
   "metadata": {
    "id": "kn_qV_BK9i_q"
   },
   "outputs": [],
   "source": [
    "col_vector = a[:, np.newaxis]\n",
    "print(col_vector)\n",
    "col_vector.shape"
   ]
  },
  {
   "cell_type": "markdown",
   "metadata": {
    "id": "TxN1GYoG9i_v"
   },
   "source": [
    "También es posible expandir un arreglo insertando un nuevo eje en una posición específica con la función `np.expand_dims()`:"
   ]
  },
  {
   "cell_type": "code",
   "execution_count": 14,
   "metadata": {
    "id": "0NIxWD4e9i_v"
   },
   "outputs": [
    {
     "data": {
      "text/plain": [
       "(6,)"
      ]
     },
     "execution_count": 14,
     "metadata": {},
     "output_type": "execute_result"
    }
   ],
   "source": [
    "a = np.array([1, 2, 3, 4, 5, 6])\n",
    "a.shape"
   ]
  },
  {
   "cell_type": "code",
   "execution_count": 15,
   "metadata": {
    "id": "-sZmcKZ69i_x"
   },
   "outputs": [
    {
     "name": "stdout",
     "output_type": "stream",
     "text": [
      "(6, 1)\n"
     ]
    },
    {
     "data": {
      "text/plain": [
       "array([[1],\n",
       "       [2],\n",
       "       [3],\n",
       "       [4],\n",
       "       [5],\n",
       "       [6]])"
      ]
     },
     "execution_count": 15,
     "metadata": {},
     "output_type": "execute_result"
    }
   ],
   "source": [
    "b = np.expand_dims(a, axis=1)\n",
    "print(b.shape)\n",
    "b"
   ]
  },
  {
   "cell_type": "code",
   "execution_count": null,
   "metadata": {
    "id": "VUL1Mhf_9i_z"
   },
   "outputs": [],
   "source": [
    "c = np.expand_dims(a, axis=0)\n",
    "print(c.shape)\n",
    "c"
   ]
  },
  {
   "cell_type": "markdown",
   "metadata": {
    "id": "r6VHpJTJ9i__"
   },
   "source": [
    "## <font color='green'>**Actividad 1**</font>"
   ]
  },
  {
   "cell_type": "markdown",
   "metadata": {
    "id": "G-Q9SVlemfnj"
   },
   "source": [
    "Crear un arreglo bidimensional _A_ de 5x5 con todos los valores cero. Usando el indexado de matrices, asignar 1 a todos los elementos de la última fila y 5 a todos los elementos de la primera columna. Finalmente, asignar el valor 100 a todos los elementos de la subarreglo central de 3x3 de la arreglo de 5x5.\n"
   ]
  },
  {
   "cell_type": "code",
   "execution_count": 46,
   "metadata": {
    "id": "p4kwdZ3e9jAA"
   },
   "outputs": [
    {
     "name": "stdout",
     "output_type": "stream",
     "text": [
      "[[0. 0. 0. 0. 0.]\n",
      " [0. 0. 0. 0. 0.]\n",
      " [0. 0. 0. 0. 0.]\n",
      " [0. 0. 0. 0. 0.]\n",
      " [0. 0. 0. 0. 0.]]\n",
      "[[5. 0. 0. 0. 0.]\n",
      " [5. 0. 0. 0. 0.]\n",
      " [5. 0. 0. 0. 0.]\n",
      " [5. 0. 0. 0. 0.]\n",
      " [5. 0. 0. 0. 0.]]\n",
      "[[  5.   0.   0.   0.   0.]\n",
      " [  5. 100. 100. 100.   0.]\n",
      " [  5. 100. 100. 100.   0.]\n",
      " [  5. 100. 100. 100.   0.]\n",
      " [  6.   1.   1.   1.   1.]]\n"
     ]
    }
   ],
   "source": [
    "arr= np.zeros((5,5))\n",
    "print(arr)\n",
    "for filas in arr:\n",
    "    filas[0] += 5\n",
    "print(arr)\n",
    "\n",
    "for x in range(len(arr)):\n",
    "    arr[4][x]+=1\n",
    "    for y in range(len(arr)):\n",
    "        if x > 0 and y > 0 and x < 4 and y < 4:\n",
    "            arr[x][y] += 100\n",
    "print(arr)"
   ]
  },
  {
   "cell_type": "markdown",
   "metadata": {
    "id": "6H_2sJOAlIxb"
   },
   "source": [
    "<font color='green'>**Fin actividad 1**</font>"
   ]
  },
  {
   "cell_type": "markdown",
   "metadata": {
    "id": "_e8g5UfV9i_0"
   },
   "source": [
    "## <font color='blue'>**Elementos únicos y conteo**</font>"
   ]
  },
  {
   "cell_type": "code",
   "execution_count": 48,
   "metadata": {
    "id": "RTHmOAUF9i_1"
   },
   "outputs": [
    {
     "name": "stdout",
     "output_type": "stream",
     "text": [
      "[11 12 13 14 15 16 17 18 19 20]\n"
     ]
    }
   ],
   "source": [
    "a = np.array([11, 11, 12, 13, 14, 15, 16, 17, 12, 13, 11, 14, 18, 19, 20])\n",
    "valores_unicos = np.unique(a)\n",
    "print(valores_unicos)"
   ]
  },
  {
   "cell_type": "markdown",
   "metadata": {
    "id": "vZvwSZ909i_2"
   },
   "source": [
    "Para obtener los índices de los valores únicos en un arreglo NumPy se debe usar el argumento `return_index` en la función `np.unique()`:"
   ]
  },
  {
   "cell_type": "code",
   "execution_count": 49,
   "metadata": {
    "id": "obLjqFcT9i_2"
   },
   "outputs": [
    {
     "name": "stdout",
     "output_type": "stream",
     "text": [
      "[ 0  2  3  4  5  6  7 12 13 14]\n"
     ]
    }
   ],
   "source": [
    "valores_unicos, indices_list = np.unique(a, return_index=True)\n",
    "print(indices_list)"
   ]
  },
  {
   "cell_type": "markdown",
   "metadata": {
    "id": "5bFvnWl19i_4"
   },
   "source": [
    "Puede pasar el argumento `return_counts` en `np.unique()` junto con su arreglo para obtener el recuento de frecuencia de valores únicos en un arreglo de NumPy:"
   ]
  },
  {
   "cell_type": "code",
   "execution_count": 50,
   "metadata": {
    "id": "uUFTEObX9i_4"
   },
   "outputs": [
    {
     "name": "stdout",
     "output_type": "stream",
     "text": [
      "[3 2 2 2 1 1 1 1 1 1]\n"
     ]
    }
   ],
   "source": [
    "valores_unicos, contar_ocurrencia = np.unique(a, return_counts=True)\n",
    "print(contar_ocurrencia)"
   ]
  },
  {
   "cell_type": "markdown",
   "metadata": {
    "id": "4Ty1Um1A9i_5"
   },
   "source": [
    "## <font color='blue'>**Aplicar una función sobre una fila o columna de un arreglo**</font>"
   ]
  },
  {
   "cell_type": "markdown",
   "metadata": {
    "id": "IHfReGgY9i_6"
   },
   "source": [
    "La función `np.apply_along_axis()` permite aplicar una función sobre una de las dimisiones de un arreglo. Por lo que es una herramienta con muchas posibilidades. La función tiene tres parámetros, en el primero se indica la función que se desea aplicar, en la segunda el eje sobre el que se desea aplicar la función y finalmente el arreglo. Obteniéndose como salida de la función un arreglo con un eje menos que el original.\n",
    "\n",
    "Por ejemplo:"
   ]
  },
  {
   "cell_type": "code",
   "execution_count": 51,
   "metadata": {
    "id": "YTWxxC5G9i_6"
   },
   "outputs": [
    {
     "name": "stdout",
     "output_type": "stream",
     "text": [
      "[[1 2 3]\n",
      " [4 5 6]\n",
      " [7 8 9]]\n"
     ]
    },
    {
     "data": {
      "text/plain": [
       "array([12, 15, 18])"
      ]
     },
     "execution_count": 51,
     "metadata": {},
     "output_type": "execute_result"
    }
   ],
   "source": [
    "arr = np.arange(1, 10).reshape(3,3)\n",
    "print(arr)\n",
    "np.apply_along_axis(sum, 0, arr)"
   ]
  },
  {
   "cell_type": "code",
   "execution_count": null,
   "metadata": {
    "id": "8Fm_rbdN9i_7"
   },
   "outputs": [],
   "source": [
    "# Función que calcula el promedio entre el primero y el último elemento de un vector\n",
    "def my_func(a):\n",
    "    return (a[0] + a[-1]) * 0.5\n",
    "\n",
    "b = np.array([[1,2,3], [4,5,6], [7,8,9]])\n",
    "print(b)\n",
    "np.apply_along_axis(my_func, 0, b)"
   ]
  },
  {
   "cell_type": "code",
   "execution_count": null,
   "metadata": {
    "id": "iL-0nQTB9i_-"
   },
   "outputs": [],
   "source": [
    "np.apply_along_axis(my_func, 1, b)"
   ]
  },
  {
   "cell_type": "markdown",
   "metadata": {
    "id": "x2JVn3iUmaMC"
   },
   "source": [
    "## <font color='green'>**Actividad 2**</font>"
   ]
  },
  {
   "cell_type": "markdown",
   "metadata": {
    "id": "Dl6EyB0Q9jAA"
   },
   "source": [
    "Los diámetros de las esporas del _lycopodium_ pueden medirse por métodos interferométricos &#129299; &#129299; &#129299;. Los resultados de uno de estos experimentos son los siguientes:\n",
    "\n",
    "<img src='esporas.png' width=\"600\" align=\"center\" style=\"margin-right: 50px\">\n",
    "\n",
    "donde $k$ = 5880.\n",
    "\n",
    "Calcular, usando funciones de NumPy, el diámetro medio de las esporas y la desviación estándar de la muestra. Separar, en matrices independientes, las medidas de los diámetros:\n",
    "\n",
    "* Que tengan valores inferiores a la media ($\\mu$) menos la desviación estándar ($\\sigma$), es decir $d < \\mu_{d} - \\sigma_{d}$\n",
    "* Que tengan valores superiores a la media más la desviación estándar, es decir $d > \\mu_{d} + \\sigma_{d}$\n",
    "* Que tengan valores entre $\\mu_{d} - \\sigma_{d} < d < \\mu_{d} + \\sigma_{d}$\n",
    "\n",
    "*Fuente: Adaptado de Curso de Computación Científica, J. Pérez, T. Roca y C. López*"
   ]
  },
  {
   "cell_type": "code",
   "execution_count": 2,
   "metadata": {
    "id": "3e-cfJ6zmjiH"
   },
   "outputs": [
    {
     "name": "stdout",
     "output_type": "stream",
     "text": [
      "(2, 10) \n",
      "\n",
      "[14. 15. 16. 16. 16. 16. 16. 16. 16. 16. 17. 17. 17. 17. 17. 17. 17. 17.\n",
      " 17. 17. 17. 17. 17. 17. 17. 17. 17. 17. 17. 17. 17. 17. 17. 17. 18. 18.\n",
      " 18. 18. 18. 18. 18. 18. 18. 18. 18. 18. 18. 18. 18. 18. 18. 18. 18. 18.\n",
      " 18. 18. 18. 18. 18. 18. 18. 18. 18. 18. 18. 18. 18. 18. 18. 18. 18. 18.\n",
      " 18. 18. 18. 18. 18. 18. 18. 18. 18. 18. 19. 19. 19. 19. 19. 19. 19. 19.\n",
      " 19. 19. 19. 19. 19. 19. 19. 19. 19. 19. 19. 19. 19. 19. 19. 19. 19. 19.\n",
      " 19. 19. 19. 19. 19. 19. 19. 19. 19. 19. 19. 19. 19. 19. 19. 19. 19. 19.\n",
      " 19. 19. 19. 19. 19. 19. 19. 19. 19. 19. 19. 19. 19. 19. 20. 20. 20. 20.\n",
      " 20. 20. 20. 20. 20. 20. 20. 20. 20. 20. 20. 20. 20. 20. 20. 20. 20. 20.\n",
      " 20. 20. 20. 20. 20. 20. 20. 20. 20. 20. 20. 20. 20. 21. 21. 21. 21. 21.\n",
      " 21. 21. 21. 21. 21. 21. 21. 21. 21. 21. 21. 22. 22. 22. 22. 22. 22. 22.\n",
      " 22. 23.] \n",
      "\n",
      "Media = 18.83\n",
      "\n",
      "Desviación estándar = 1.4802364675956337\n",
      "\n",
      "Cantidad esporas con diámetro mayores a media - std: [21 22 23]\n",
      "Cantidad esporas con diámetro entre a media +/- std: [18 19 20]\n",
      "Cantidad esporas con diámetro menores a media - std: [14 15 16 17]\n"
     ]
    }
   ],
   "source": [
    "# Tu código aquí ...\n",
    "\n",
    "# A partir de la tabla entregada, creamos una martix\n",
    "esporas = np.array([[14, 15, 16, 17, 18, 19, 20, 21, 22, 23],\n",
    "                    [1, 1, 8, 24, 48, 58, 35, 16, 8, 1]])\n",
    "\n",
    "print(esporas.shape, '\\n')\n",
    "# Creamos una matriz de ceros con la cantidad total de esporas\n",
    "mat_tot = np.zeros(sum(esporas[1]))\n",
    "# Instanciamos tres listas vacias para recolectar resultados\n",
    "mat_menos_media = []\n",
    "mat_mas_media = []\n",
    "mat_media = []\n",
    "# Creamos un indice para las listas\n",
    "ind = 0\n",
    "\n",
    "# Creamos una función para construir nuestro vector de diámetros \n",
    "def my_func(a):\n",
    "    global ind\n",
    "    # Sumamos el diámetro de cada espora tantas veces como fue observado\n",
    "    for i in range(a[1]):\n",
    "        mat_tot[ind] = a[0]\n",
    "        ind += 1\n",
    "\n",
    "# Aplicamos nuestra función por filas (axis=0)\n",
    "np.apply_along_axis(my_func, 0, esporas)\n",
    "print(mat_tot, '\\n')\n",
    "print(f'Media = {np.mean(mat_tot)}\\n')\n",
    "print(f'Desviación estándar = {np.std(mat_tot)}\\n')\n",
    "\n",
    "# Creamos una función para clasificar los diámetros segun su marnitud\n",
    "def my_func2(a):    \n",
    "    if a[0] > np.mean(mat_tot) + np.std(mat_tot):\n",
    "        mat_mas_media.append(a[0])\n",
    "    elif a[0] < np.mean(mat_tot) - np.std(mat_tot):\n",
    "        mat_menos_media.append(a[0])\n",
    "    else:\n",
    "        mat_media.append(a[0])\n",
    "\n",
    "# La aplicamos\n",
    "np.apply_along_axis(my_func2, 0, esporas)\n",
    "\n",
    "# Convertimos las listas en arrays Numpy\n",
    "mat_mas_media = np.array(mat_mas_media)\n",
    "mat_media = np.array(mat_media)\n",
    "mat_menos_media = np.array(mat_menos_media)\n",
    "\n",
    "print(f'Cantidad esporas con diámetro mayores a media - std: {mat_mas_media}')\n",
    "print(f'Cantidad esporas con diámetro entre a media +/- std: {mat_media}')\n",
    "print(f'Cantidad esporas con diámetro menores a media - std: {mat_menos_media}')"
   ]
  },
  {
   "cell_type": "markdown",
   "metadata": {
    "id": "B6jnUlWvmmjJ"
   },
   "source": [
    "<font color='green'>**Fin actividad 2**</font>"
   ]
  }
 ],
 "metadata": {
  "colab": {
   "provenance": []
  },
  "kernelspec": {
   "display_name": "Python 3 (ipykernel)",
   "language": "python",
   "name": "python3"
  },
  "language_info": {
   "codemirror_mode": {
    "name": "ipython",
    "version": 3
   },
   "file_extension": ".py",
   "mimetype": "text/x-python",
   "name": "python",
   "nbconvert_exporter": "python",
   "pygments_lexer": "ipython3",
   "version": "3.12.3"
  }
 },
 "nbformat": 4,
 "nbformat_minor": 1
}
